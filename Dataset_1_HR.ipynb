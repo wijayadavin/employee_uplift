{
 "cells": [
  {
   "cell_type": "markdown",
   "metadata": {},
   "source": [
    "<h1>A. Data Collection & Exploration"
   ]
  },
  {
   "cell_type": "markdown",
   "metadata": {},
   "source": [
    "<h2>Import libraries"
   ]
  },
  {
   "cell_type": "code",
   "execution_count": 40,
   "metadata": {},
   "outputs": [],
   "source": [
    "import numpy as np, matplotlib as mpl, matplotlib.pyplot as plt, pandas as pd\n",
    "import seaborn as sns\n",
    "%matplotlib inline\n",
    "import sklearn\n",
    "import xgboost as xgb\n",
    "import math\n",
    "from sklearn.model_selection import KFold, cross_val_score, train_test_split\n",
    "from mpl_toolkits import mplot3d\n",
    "from sklearn.preprocessing import LabelEncoder\n",
    "from pylift import TransformedOutcome\n",
    "from pylift.generate_data import dgp\n",
    "from pylift.eval import UpliftEval\n",
    "from sklearn.cluster import KMeans\n",
    "from statistics import mean\n",
    "import sklearn.metrics\n",
    "from sklearn.metrics import accuracy_score\n",
    "from imblearn.over_sampling import SMOTE\n",
    "from sklearn.metrics import confusion_matrix\n",
    "from sklearn.metrics import multilabel_confusion_matrix"
   ]
  },
  {
   "cell_type": "markdown",
   "metadata": {},
   "source": [
    "<h2>Import dataset"
   ]
  },
  {
   "cell_type": "code",
   "execution_count": 2,
   "metadata": {},
   "outputs": [],
   "source": [
    "df_data = pd.read_csv('HR_comma_sep.csv')\n",
    "df_data.index.name = \"id\"\n",
    "df_model = df_data.copy()"
   ]
  },
  {
   "cell_type": "markdown",
   "metadata": {},
   "source": [
    "<h2>Data exploratioin"
   ]
  },
  {
   "cell_type": "code",
   "execution_count": 3,
   "metadata": {
    "scrolled": true
   },
   "outputs": [
    {
     "data": {
      "text/html": [
       "<div>\n",
       "<style scoped>\n",
       "    .dataframe tbody tr th:only-of-type {\n",
       "        vertical-align: middle;\n",
       "    }\n",
       "\n",
       "    .dataframe tbody tr th {\n",
       "        vertical-align: top;\n",
       "    }\n",
       "\n",
       "    .dataframe thead th {\n",
       "        text-align: right;\n",
       "    }\n",
       "</style>\n",
       "<table border=\"1\" class=\"dataframe\">\n",
       "  <thead>\n",
       "    <tr style=\"text-align: right;\">\n",
       "      <th></th>\n",
       "      <th>satisfaction_level</th>\n",
       "      <th>last_evaluation</th>\n",
       "      <th>number_project</th>\n",
       "      <th>average_montly_hours</th>\n",
       "      <th>time_spend_company</th>\n",
       "      <th>Work_accident</th>\n",
       "      <th>left</th>\n",
       "      <th>promotion_last_5years</th>\n",
       "      <th>Department</th>\n",
       "      <th>salary</th>\n",
       "    </tr>\n",
       "    <tr>\n",
       "      <th>id</th>\n",
       "      <th></th>\n",
       "      <th></th>\n",
       "      <th></th>\n",
       "      <th></th>\n",
       "      <th></th>\n",
       "      <th></th>\n",
       "      <th></th>\n",
       "      <th></th>\n",
       "      <th></th>\n",
       "      <th></th>\n",
       "    </tr>\n",
       "  </thead>\n",
       "  <tbody>\n",
       "    <tr>\n",
       "      <th>0</th>\n",
       "      <td>0.38</td>\n",
       "      <td>0.53</td>\n",
       "      <td>2</td>\n",
       "      <td>157</td>\n",
       "      <td>3</td>\n",
       "      <td>0</td>\n",
       "      <td>1</td>\n",
       "      <td>0</td>\n",
       "      <td>sales</td>\n",
       "      <td>low</td>\n",
       "    </tr>\n",
       "    <tr>\n",
       "      <th>1</th>\n",
       "      <td>0.80</td>\n",
       "      <td>0.86</td>\n",
       "      <td>5</td>\n",
       "      <td>262</td>\n",
       "      <td>6</td>\n",
       "      <td>0</td>\n",
       "      <td>1</td>\n",
       "      <td>0</td>\n",
       "      <td>sales</td>\n",
       "      <td>medium</td>\n",
       "    </tr>\n",
       "    <tr>\n",
       "      <th>2</th>\n",
       "      <td>0.11</td>\n",
       "      <td>0.88</td>\n",
       "      <td>7</td>\n",
       "      <td>272</td>\n",
       "      <td>4</td>\n",
       "      <td>0</td>\n",
       "      <td>1</td>\n",
       "      <td>0</td>\n",
       "      <td>sales</td>\n",
       "      <td>medium</td>\n",
       "    </tr>\n",
       "    <tr>\n",
       "      <th>3</th>\n",
       "      <td>0.72</td>\n",
       "      <td>0.87</td>\n",
       "      <td>5</td>\n",
       "      <td>223</td>\n",
       "      <td>5</td>\n",
       "      <td>0</td>\n",
       "      <td>1</td>\n",
       "      <td>0</td>\n",
       "      <td>sales</td>\n",
       "      <td>low</td>\n",
       "    </tr>\n",
       "    <tr>\n",
       "      <th>4</th>\n",
       "      <td>0.37</td>\n",
       "      <td>0.52</td>\n",
       "      <td>2</td>\n",
       "      <td>159</td>\n",
       "      <td>3</td>\n",
       "      <td>0</td>\n",
       "      <td>1</td>\n",
       "      <td>0</td>\n",
       "      <td>sales</td>\n",
       "      <td>low</td>\n",
       "    </tr>\n",
       "  </tbody>\n",
       "</table>\n",
       "</div>"
      ],
      "text/plain": [
       "    satisfaction_level  last_evaluation  number_project  average_montly_hours  \\\n",
       "id                                                                              \n",
       "0                 0.38             0.53               2                   157   \n",
       "1                 0.80             0.86               5                   262   \n",
       "2                 0.11             0.88               7                   272   \n",
       "3                 0.72             0.87               5                   223   \n",
       "4                 0.37             0.52               2                   159   \n",
       "\n",
       "    time_spend_company  Work_accident  left  promotion_last_5years Department  \\\n",
       "id                                                                              \n",
       "0                    3              0     1                      0      sales   \n",
       "1                    6              0     1                      0      sales   \n",
       "2                    4              0     1                      0      sales   \n",
       "3                    5              0     1                      0      sales   \n",
       "4                    3              0     1                      0      sales   \n",
       "\n",
       "    salary  \n",
       "id          \n",
       "0      low  \n",
       "1   medium  \n",
       "2   medium  \n",
       "3      low  \n",
       "4      low  "
      ]
     },
     "execution_count": 3,
     "metadata": {},
     "output_type": "execute_result"
    }
   ],
   "source": [
    "pd.options.display.max_columns=100\n",
    "df_model.head()\n",
    "# df_model.Stay\n",
    "\n",
    "# for x in df_model.Stay:\n",
    "#     if df_model.Stay[x] != 0:\n",
    "#       print(df_model.Stay[x])\n",
    "#     else:\n",
    "#       message =\"no employee stay find!\";\n",
    "#       print(message)\n",
    "#       break;"
   ]
  },
  {
   "cell_type": "markdown",
   "metadata": {},
   "source": [
    "<h2>Define Cols"
   ]
  },
  {
   "cell_type": "code",
   "execution_count": 4,
   "metadata": {},
   "outputs": [],
   "source": [
    "#choose the single dependent variable (Positive Outcome)\n",
    "treat = 'promotion_last_5years'"
   ]
  },
  {
   "cell_type": "code",
   "execution_count": 5,
   "metadata": {},
   "outputs": [],
   "source": [
    "#choose the treatment variable\n",
    "target = \"left\""
   ]
  },
  {
   "cell_type": "code",
   "execution_count": 6,
   "metadata": {
    "scrolled": true
   },
   "outputs": [
    {
     "name": "stdout",
     "output_type": "stream",
     "text": [
      "<class 'pandas.core.frame.DataFrame'>\n",
      "RangeIndex: 14999 entries, 0 to 14998\n",
      "Data columns (total 10 columns):\n",
      " #   Column                 Non-Null Count  Dtype  \n",
      "---  ------                 --------------  -----  \n",
      " 0   satisfaction_level     14999 non-null  float64\n",
      " 1   last_evaluation        14999 non-null  float64\n",
      " 2   number_project         14999 non-null  int64  \n",
      " 3   average_montly_hours   14999 non-null  int64  \n",
      " 4   time_spend_company     14999 non-null  int64  \n",
      " 5   Work_accident          14999 non-null  int64  \n",
      " 6   left                   14999 non-null  int64  \n",
      " 7   promotion_last_5years  14999 non-null  int64  \n",
      " 8   Department             14999 non-null  object \n",
      " 9   salary                 14999 non-null  object \n",
      "dtypes: float64(2), int64(6), object(2)\n",
      "memory usage: 1.1+ MB\n"
     ]
    }
   ],
   "source": [
    "df_model.info()"
   ]
  },
  {
   "cell_type": "markdown",
   "metadata": {},
   "source": [
    "<h2>Check N-uniques for non-categorical data"
   ]
  },
  {
   "cell_type": "code",
   "execution_count": 7,
   "metadata": {
    "scrolled": false
   },
   "outputs": [],
   "source": [
    "#Checking uniques data in Department column\n",
    "object_cols = [col for col in df_data.columns if df_data[col].dtype != \"object\"]\n",
    "numbers = [[obj,df_data[obj].nunique()] for obj in object_cols]\n",
    "numbers_data = pd.DataFrame(numbers, columns = ['column', 'N-unique']) "
   ]
  },
  {
   "cell_type": "code",
   "execution_count": 8,
   "metadata": {
    "scrolled": true
   },
   "outputs": [
    {
     "data": {
      "text/html": [
       "<div>\n",
       "<style scoped>\n",
       "    .dataframe tbody tr th:only-of-type {\n",
       "        vertical-align: middle;\n",
       "    }\n",
       "\n",
       "    .dataframe tbody tr th {\n",
       "        vertical-align: top;\n",
       "    }\n",
       "\n",
       "    .dataframe thead th {\n",
       "        text-align: right;\n",
       "    }\n",
       "</style>\n",
       "<table border=\"1\" class=\"dataframe\">\n",
       "  <thead>\n",
       "    <tr style=\"text-align: right;\">\n",
       "      <th></th>\n",
       "      <th>column</th>\n",
       "      <th>N-unique</th>\n",
       "    </tr>\n",
       "  </thead>\n",
       "  <tbody>\n",
       "    <tr>\n",
       "      <th>3</th>\n",
       "      <td>average_montly_hours</td>\n",
       "      <td>215</td>\n",
       "    </tr>\n",
       "    <tr>\n",
       "      <th>0</th>\n",
       "      <td>satisfaction_level</td>\n",
       "      <td>92</td>\n",
       "    </tr>\n",
       "    <tr>\n",
       "      <th>1</th>\n",
       "      <td>last_evaluation</td>\n",
       "      <td>65</td>\n",
       "    </tr>\n",
       "    <tr>\n",
       "      <th>4</th>\n",
       "      <td>time_spend_company</td>\n",
       "      <td>8</td>\n",
       "    </tr>\n",
       "    <tr>\n",
       "      <th>2</th>\n",
       "      <td>number_project</td>\n",
       "      <td>6</td>\n",
       "    </tr>\n",
       "    <tr>\n",
       "      <th>5</th>\n",
       "      <td>Work_accident</td>\n",
       "      <td>2</td>\n",
       "    </tr>\n",
       "    <tr>\n",
       "      <th>6</th>\n",
       "      <td>left</td>\n",
       "      <td>2</td>\n",
       "    </tr>\n",
       "    <tr>\n",
       "      <th>7</th>\n",
       "      <td>promotion_last_5years</td>\n",
       "      <td>2</td>\n",
       "    </tr>\n",
       "  </tbody>\n",
       "</table>\n",
       "</div>"
      ],
      "text/plain": [
       "                  column  N-unique\n",
       "3   average_montly_hours       215\n",
       "0     satisfaction_level        92\n",
       "1        last_evaluation        65\n",
       "4     time_spend_company         8\n",
       "2         number_project         6\n",
       "5          Work_accident         2\n",
       "6                   left         2\n",
       "7  promotion_last_5years         2"
      ]
     },
     "execution_count": 8,
     "metadata": {},
     "output_type": "execute_result"
    }
   ],
   "source": [
    "numbers_data.sort_values(by='N-unique',ascending=False)"
   ]
  },
  {
   "cell_type": "markdown",
   "metadata": {},
   "source": [
    "<h2>Define Columns to Cluster</h2>\n",
    "Define column to cluster with high amount of N-Uniques"
   ]
  },
  {
   "cell_type": "code",
   "execution_count": 9,
   "metadata": {},
   "outputs": [],
   "source": [
    "#choose a column with hiearchy to be label encoded\n",
    "cluster_cols=['average_montly_hours']"
   ]
  },
  {
   "cell_type": "markdown",
   "metadata": {},
   "source": [
    "<h2>Check uniques for categorical data"
   ]
  },
  {
   "cell_type": "code",
   "execution_count": 10,
   "metadata": {
    "scrolled": true
   },
   "outputs": [
    {
     "name": "stdout",
     "output_type": "stream",
     "text": [
      "\n",
      " Department\n",
      "sales 4140\n",
      "accounting 767\n",
      "hr 739\n",
      "technical 2720\n",
      "support 2229\n",
      "management 630\n",
      "IT 1227\n",
      "product_mng 902\n",
      "marketing 858\n",
      "RandD 787\n",
      "\n",
      " salary\n",
      "low 7316\n",
      "medium 6446\n",
      "high 1237\n"
     ]
    }
   ],
   "source": [
    "#Checking uniques data in Department column\n",
    "object_cols = [col for col in df_data.columns if df_data[col].dtype == \"object\"]\n",
    "for obj in object_cols:\n",
    "    print('\\n', obj)\n",
    "    for unique in df_data[obj].unique():\n",
    "        print(\"{} {}\".format(unique,sum(df_data[obj] == unique)))"
   ]
  },
  {
   "cell_type": "markdown",
   "metadata": {},
   "source": [
    "<h2>Replace Yes or No to 1 or 0"
   ]
  },
  {
   "cell_type": "code",
   "execution_count": 11,
   "metadata": {},
   "outputs": [],
   "source": [
    "# df_model.Attrition.replace(to_replace = dict(Yes = 0, No = 1), inplace = True)\n",
    "# df_model.OverTime.replace(to_replace = dict(Yes = 0, No = 1), inplace = True)"
   ]
  },
  {
   "cell_type": "markdown",
   "metadata": {},
   "source": [
    "<h2>Rename Data"
   ]
  },
  {
   "cell_type": "code",
   "execution_count": 12,
   "metadata": {},
   "outputs": [
    {
     "data": {
      "text/html": [
       "<div>\n",
       "<style scoped>\n",
       "    .dataframe tbody tr th:only-of-type {\n",
       "        vertical-align: middle;\n",
       "    }\n",
       "\n",
       "    .dataframe tbody tr th {\n",
       "        vertical-align: top;\n",
       "    }\n",
       "\n",
       "    .dataframe thead th {\n",
       "        text-align: right;\n",
       "    }\n",
       "</style>\n",
       "<table border=\"1\" class=\"dataframe\">\n",
       "  <thead>\n",
       "    <tr style=\"text-align: right;\">\n",
       "      <th></th>\n",
       "      <th>promotion_last_5years</th>\n",
       "      <th>left</th>\n",
       "    </tr>\n",
       "    <tr>\n",
       "      <th>id</th>\n",
       "      <th></th>\n",
       "      <th></th>\n",
       "    </tr>\n",
       "  </thead>\n",
       "  <tbody>\n",
       "    <tr>\n",
       "      <th>0</th>\n",
       "      <td>0</td>\n",
       "      <td>1</td>\n",
       "    </tr>\n",
       "    <tr>\n",
       "      <th>1</th>\n",
       "      <td>0</td>\n",
       "      <td>1</td>\n",
       "    </tr>\n",
       "    <tr>\n",
       "      <th>2</th>\n",
       "      <td>0</td>\n",
       "      <td>1</td>\n",
       "    </tr>\n",
       "    <tr>\n",
       "      <th>3</th>\n",
       "      <td>0</td>\n",
       "      <td>1</td>\n",
       "    </tr>\n",
       "    <tr>\n",
       "      <th>4</th>\n",
       "      <td>0</td>\n",
       "      <td>1</td>\n",
       "    </tr>\n",
       "  </tbody>\n",
       "</table>\n",
       "</div>"
      ],
      "text/plain": [
       "    promotion_last_5years  left\n",
       "id                             \n",
       "0                       0     1\n",
       "1                       0     1\n",
       "2                       0     1\n",
       "3                       0     1\n",
       "4                       0     1"
      ]
     },
     "execution_count": 12,
     "metadata": {},
     "output_type": "execute_result"
    }
   ],
   "source": [
    "df_model[[treat,target]].head()"
   ]
  },
  {
   "cell_type": "code",
   "execution_count": 13,
   "metadata": {},
   "outputs": [
    {
     "data": {
      "text/plain": [
       "<matplotlib.axes._subplots.AxesSubplot at 0x1a7ebd61848>"
      ]
     },
     "execution_count": 13,
     "metadata": {},
     "output_type": "execute_result"
    },
    {
     "data": {
      "image/png": "[encoded data removed]",
      "text/plain": [
       "<Figure size 432x288 with 1 Axes>"
      ]
     },
     "metadata": {
      "needs_background": "light"
     },
     "output_type": "display_data"
    }
   ],
   "source": [
    "df_model = df_model.rename(columns={\"left\": \"Stay\"})\n",
    "df_model.Stay = df_model.Stay.replace({0:1, 1:0})\n",
    "sns.distplot(a=df_model.Stay, hist=True,kde=False)"
   ]
  },
  {
   "cell_type": "markdown",
   "metadata": {},
   "source": [
    "<h2>Invert Target Value(Churn to Stay)"
   ]
  },
  {
   "cell_type": "code",
   "execution_count": 14,
   "metadata": {},
   "outputs": [
    {
     "data": {
      "text/html": [
       "<div>\n",
       "<style scoped>\n",
       "    .dataframe tbody tr th:only-of-type {\n",
       "        vertical-align: middle;\n",
       "    }\n",
       "\n",
       "    .dataframe tbody tr th {\n",
       "        vertical-align: top;\n",
       "    }\n",
       "\n",
       "    .dataframe thead th {\n",
       "        text-align: right;\n",
       "    }\n",
       "</style>\n",
       "<table border=\"1\" class=\"dataframe\">\n",
       "  <thead>\n",
       "    <tr style=\"text-align: right;\">\n",
       "      <th></th>\n",
       "      <th>total N</th>\n",
       "      <th>total T</th>\n",
       "      <th>total C</th>\n",
       "      <th>total CR</th>\n",
       "      <th>total CN</th>\n",
       "      <th>total TR</th>\n",
       "      <th>total TN</th>\n",
       "    </tr>\n",
       "  </thead>\n",
       "  <tbody>\n",
       "    <tr>\n",
       "      <th>0</th>\n",
       "      <td>14999</td>\n",
       "      <td>319</td>\n",
       "      <td>14680</td>\n",
       "      <td>10240</td>\n",
       "      <td>2384</td>\n",
       "      <td>36</td>\n",
       "      <td>307</td>\n",
       "    </tr>\n",
       "  </tbody>\n",
       "</table>\n",
       "</div>"
      ],
      "text/plain": [
       "   total N  total T  total C  total CR  total CN  total TR  total TN\n",
       "0    14999      319    14680     10240      2384        36       307"
      ]
     },
     "execution_count": 14,
     "metadata": {},
     "output_type": "execute_result"
    }
   ],
   "source": [
    "desc = pd.DataFrame()\n",
    "desc['total N'] = [len(df_model)]\n",
    "desc['total T'] = [sum(df_model[treat]==1)]\n",
    "desc['total C'] = [sum(df_model[treat]==0)]\n",
    "desc['total CR'] = [sum(df_model[treat]==0)&sum(df_model['Stay']==1)]\n",
    "desc['total CN'] = [sum(df_model[treat]==0)&sum(df_model['Stay']==0)]\n",
    "desc['total TR'] = [sum(df_model[treat]==1)&sum(df_model['Stay']==1)]\n",
    "desc['total TN'] = [sum(df_model[treat]==1)&sum(df_model['Stay']==0)]\n",
    "desc"
   ]
  },
  {
   "cell_type": "code",
   "execution_count": 15,
   "metadata": {},
   "outputs": [],
   "source": [
    "# sns.distplot(a=df_model.Stay, hist=True,kde=False)"
   ]
  },
  {
   "cell_type": "code",
   "execution_count": 16,
   "metadata": {
    "scrolled": true
   },
   "outputs": [
    {
     "name": "stdout",
     "output_type": "stream",
     "text": [
      "B.6. Inverting data from column 'Stay':[0 0 0 0 0 0 0 0 0 0] ... \n",
      "Inverted result named 'stay':[1, 1, 1, 1, 1, 1, 1, 1, 1, 1] ... \n",
      "Column 'left' has been successfully replaced by new column 'stay'!\n"
     ]
    },
    {
     "data": {
      "text/plain": [
       "<matplotlib.axes._subplots.AxesSubplot at 0x1a7ebede0c8>"
      ]
     },
     "execution_count": 16,
     "metadata": {},
     "output_type": "execute_result"
    },
    {
     "data": {
      "image/png": "[encoded data removed]",
      "text/plain": [
       "<Figure size 432x288 with 1 Axes>"
      ]
     },
     "metadata": {
      "needs_background": "light"
     },
     "output_type": "display_data"
    }
   ],
   "source": [
    "#setup the target column to be inverted and prepare empty array named inverted\n",
    "input_data = df_model.Stay\n",
    "inverted = []\n",
    "print (\"B.6. Inverting data from column '{}':{} ... \".format(input_data.name,df_model.Stay.values[:10]))\n",
    "\n",
    "#inverting through all datas in column\n",
    "for i in range(len(input_data)):\n",
    "    inverted.append(1 - input_data[i])\n",
    "print (\"Inverted result named 'stay':{} ... \".format(inverted[:10]) )\n",
    "\n",
    "#add new column stay and remove column left\n",
    "df_model['Stay']=inverted\n",
    "print (\"Column 'left' has been successfully replaced by new column 'stay'!\")\n",
    "\n",
    "#check the result\n",
    "sns.distplot(a=df_model.Stay, hist=True,kde=False)"
   ]
  },
  {
   "cell_type": "code",
   "execution_count": 17,
   "metadata": {},
   "outputs": [
    {
     "data": {
      "text/html": [
       "<div>\n",
       "<style scoped>\n",
       "    .dataframe tbody tr th:only-of-type {\n",
       "        vertical-align: middle;\n",
       "    }\n",
       "\n",
       "    .dataframe tbody tr th {\n",
       "        vertical-align: top;\n",
       "    }\n",
       "\n",
       "    .dataframe thead th {\n",
       "        text-align: right;\n",
       "    }\n",
       "</style>\n",
       "<table border=\"1\" class=\"dataframe\">\n",
       "  <thead>\n",
       "    <tr style=\"text-align: right;\">\n",
       "      <th></th>\n",
       "      <th>total N</th>\n",
       "      <th>total C</th>\n",
       "      <th>total T</th>\n",
       "      <th>total CR</th>\n",
       "      <th>total CN</th>\n",
       "      <th>total TR</th>\n",
       "      <th>total TN</th>\n",
       "    </tr>\n",
       "  </thead>\n",
       "  <tbody>\n",
       "    <tr>\n",
       "      <th>0</th>\n",
       "      <td>14999</td>\n",
       "      <td>14680</td>\n",
       "      <td>319</td>\n",
       "      <td>2384</td>\n",
       "      <td>10240</td>\n",
       "      <td>307</td>\n",
       "      <td>36</td>\n",
       "    </tr>\n",
       "  </tbody>\n",
       "</table>\n",
       "</div>"
      ],
      "text/plain": [
       "   total N  total C  total T  total CR  total CN  total TR  total TN\n",
       "0    14999    14680      319      2384     10240       307        36"
      ]
     },
     "execution_count": 17,
     "metadata": {},
     "output_type": "execute_result"
    }
   ],
   "source": [
    "desc = pd.DataFrame()\n",
    "desc['total N'] = [len(df_model)]\n",
    "desc['total C'] = [sum(df_model[treat]==0)]\n",
    "desc['total T'] = [sum(df_model[treat]==1)]\n",
    "desc['total CR'] = [sum(df_model[treat]==0)&sum(df_model['Stay']==1)]\n",
    "desc['total CN'] = [sum(df_model[treat]==0)&sum(df_model['Stay']==0)]\n",
    "desc['total TR'] = [sum(df_model[treat]==1)&sum(df_model['Stay']==1)]\n",
    "desc['total TN'] = [sum(df_model[treat]==1)&sum(df_model['Stay']==0)]\n",
    "desc"
   ]
  },
  {
   "cell_type": "markdown",
   "metadata": {},
   "source": [
    "<h2>Define columns to Label encode"
   ]
  },
  {
   "cell_type": "code",
   "execution_count": 18,
   "metadata": {
    "scrolled": true
   },
   "outputs": [
    {
     "data": {
      "text/html": [
       "<div>\n",
       "<style scoped>\n",
       "    .dataframe tbody tr th:only-of-type {\n",
       "        vertical-align: middle;\n",
       "    }\n",
       "\n",
       "    .dataframe tbody tr th {\n",
       "        vertical-align: top;\n",
       "    }\n",
       "\n",
       "    .dataframe thead th {\n",
       "        text-align: right;\n",
       "    }\n",
       "</style>\n",
       "<table border=\"1\" class=\"dataframe\">\n",
       "  <thead>\n",
       "    <tr style=\"text-align: right;\">\n",
       "      <th></th>\n",
       "      <th>satisfaction_level</th>\n",
       "      <th>last_evaluation</th>\n",
       "      <th>number_project</th>\n",
       "      <th>average_montly_hours</th>\n",
       "      <th>time_spend_company</th>\n",
       "      <th>Work_accident</th>\n",
       "      <th>Stay</th>\n",
       "      <th>promotion_last_5years</th>\n",
       "      <th>Department</th>\n",
       "      <th>salary</th>\n",
       "    </tr>\n",
       "    <tr>\n",
       "      <th>id</th>\n",
       "      <th></th>\n",
       "      <th></th>\n",
       "      <th></th>\n",
       "      <th></th>\n",
       "      <th></th>\n",
       "      <th></th>\n",
       "      <th></th>\n",
       "      <th></th>\n",
       "      <th></th>\n",
       "      <th></th>\n",
       "    </tr>\n",
       "  </thead>\n",
       "  <tbody>\n",
       "    <tr>\n",
       "      <th>0</th>\n",
       "      <td>0.38</td>\n",
       "      <td>0.53</td>\n",
       "      <td>2</td>\n",
       "      <td>157</td>\n",
       "      <td>3</td>\n",
       "      <td>0</td>\n",
       "      <td>1</td>\n",
       "      <td>0</td>\n",
       "      <td>sales</td>\n",
       "      <td>low</td>\n",
       "    </tr>\n",
       "    <tr>\n",
       "      <th>1</th>\n",
       "      <td>0.80</td>\n",
       "      <td>0.86</td>\n",
       "      <td>5</td>\n",
       "      <td>262</td>\n",
       "      <td>6</td>\n",
       "      <td>0</td>\n",
       "      <td>1</td>\n",
       "      <td>0</td>\n",
       "      <td>sales</td>\n",
       "      <td>medium</td>\n",
       "    </tr>\n",
       "    <tr>\n",
       "      <th>2</th>\n",
       "      <td>0.11</td>\n",
       "      <td>0.88</td>\n",
       "      <td>7</td>\n",
       "      <td>272</td>\n",
       "      <td>4</td>\n",
       "      <td>0</td>\n",
       "      <td>1</td>\n",
       "      <td>0</td>\n",
       "      <td>sales</td>\n",
       "      <td>medium</td>\n",
       "    </tr>\n",
       "    <tr>\n",
       "      <th>3</th>\n",
       "      <td>0.72</td>\n",
       "      <td>0.87</td>\n",
       "      <td>5</td>\n",
       "      <td>223</td>\n",
       "      <td>5</td>\n",
       "      <td>0</td>\n",
       "      <td>1</td>\n",
       "      <td>0</td>\n",
       "      <td>sales</td>\n",
       "      <td>low</td>\n",
       "    </tr>\n",
       "    <tr>\n",
       "      <th>4</th>\n",
       "      <td>0.37</td>\n",
       "      <td>0.52</td>\n",
       "      <td>2</td>\n",
       "      <td>159</td>\n",
       "      <td>3</td>\n",
       "      <td>0</td>\n",
       "      <td>1</td>\n",
       "      <td>0</td>\n",
       "      <td>sales</td>\n",
       "      <td>low</td>\n",
       "    </tr>\n",
       "  </tbody>\n",
       "</table>\n",
       "</div>"
      ],
      "text/plain": [
       "    satisfaction_level  last_evaluation  number_project  average_montly_hours  \\\n",
       "id                                                                              \n",
       "0                 0.38             0.53               2                   157   \n",
       "1                 0.80             0.86               5                   262   \n",
       "2                 0.11             0.88               7                   272   \n",
       "3                 0.72             0.87               5                   223   \n",
       "4                 0.37             0.52               2                   159   \n",
       "\n",
       "    time_spend_company  Work_accident  Stay  promotion_last_5years Department  \\\n",
       "id                                                                              \n",
       "0                    3              0     1                      0      sales   \n",
       "1                    6              0     1                      0      sales   \n",
       "2                    4              0     1                      0      sales   \n",
       "3                    5              0     1                      0      sales   \n",
       "4                    3              0     1                      0      sales   \n",
       "\n",
       "    salary  \n",
       "id          \n",
       "0      low  \n",
       "1   medium  \n",
       "2   medium  \n",
       "3      low  \n",
       "4      low  "
      ]
     },
     "execution_count": 18,
     "metadata": {},
     "output_type": "execute_result"
    }
   ],
   "source": [
    "# df_model[object_cols].head()\n",
    "df_model.head()"
   ]
  },
  {
   "cell_type": "code",
   "execution_count": 19,
   "metadata": {},
   "outputs": [],
   "source": [
    "#choose a column with wide range to be clusterred\n",
    "label_cols = ['salary']"
   ]
  },
  {
   "cell_type": "markdown",
   "metadata": {},
   "source": [
    "<h1>B. Data Preprocessing"
   ]
  },
  {
   "cell_type": "markdown",
   "metadata": {},
   "source": [
    "<h2>Label encoding hierarchy columns"
   ]
  },
  {
   "cell_type": "code",
   "execution_count": 20,
   "metadata": {},
   "outputs": [
    {
     "name": "stdout",
     "output_type": "stream",
     "text": [
      "label encoding columns: ['salary']\n",
      ">>label encoding finished\n"
     ]
    },
    {
     "data": {
      "text/html": [
       "<div>\n",
       "<style scoped>\n",
       "    .dataframe tbody tr th:only-of-type {\n",
       "        vertical-align: middle;\n",
       "    }\n",
       "\n",
       "    .dataframe tbody tr th {\n",
       "        vertical-align: top;\n",
       "    }\n",
       "\n",
       "    .dataframe thead th {\n",
       "        text-align: right;\n",
       "    }\n",
       "</style>\n",
       "<table border=\"1\" class=\"dataframe\">\n",
       "  <thead>\n",
       "    <tr style=\"text-align: right;\">\n",
       "      <th></th>\n",
       "      <th>salary</th>\n",
       "    </tr>\n",
       "    <tr>\n",
       "      <th>id</th>\n",
       "      <th></th>\n",
       "    </tr>\n",
       "  </thead>\n",
       "  <tbody>\n",
       "    <tr>\n",
       "      <th>0</th>\n",
       "      <td>1</td>\n",
       "    </tr>\n",
       "    <tr>\n",
       "      <th>1</th>\n",
       "      <td>2</td>\n",
       "    </tr>\n",
       "    <tr>\n",
       "      <th>2</th>\n",
       "      <td>2</td>\n",
       "    </tr>\n",
       "    <tr>\n",
       "      <th>3</th>\n",
       "      <td>1</td>\n",
       "    </tr>\n",
       "    <tr>\n",
       "      <th>4</th>\n",
       "      <td>1</td>\n",
       "    </tr>\n",
       "  </tbody>\n",
       "</table>\n",
       "</div>"
      ],
      "text/plain": [
       "    salary\n",
       "id        \n",
       "0        1\n",
       "1        2\n",
       "2        2\n",
       "3        1\n",
       "4        1"
      ]
     },
     "execution_count": 20,
     "metadata": {},
     "output_type": "execute_result"
    }
   ],
   "source": [
    "#Label encoding\n",
    "print(\"label encoding columns:\",label_cols)\n",
    "label_encoder = LabelEncoder()\n",
    "for col in label_cols:\n",
    "    df_model[col] = label_encoder.fit_transform(df_data[col])\n",
    "    df_model[col] = label_encoder.transform(df_data[col])\n",
    "print(\">>label encoding finished\")\n",
    "df_model[label_cols].head()"
   ]
  },
  {
   "cell_type": "markdown",
   "metadata": {},
   "source": [
    "<h2>Data cleaning"
   ]
  },
  {
   "cell_type": "code",
   "execution_count": 21,
   "metadata": {},
   "outputs": [],
   "source": [
    "#DROP unused columns\n",
    "# df_model = df_model.drop(['Over18','StandardHours','StockOptionLevel','EmployeeCount','EmployeeNumber'],axis=1)"
   ]
  },
  {
   "cell_type": "markdown",
   "metadata": {},
   "source": [
    "<h2>Cluster & One Hot Encoding"
   ]
  },
  {
   "cell_type": "code",
   "execution_count": 22,
   "metadata": {},
   "outputs": [],
   "source": [
    "#function to order clusters\n",
    "# def order_cluster(cluster_field_name, target_field_name,df,ascending):\n",
    "#     new_cluster_field_name = 'new_' + cluster_field_name\n",
    "#     df_new = df.groupby(cluster_field_name)[target_field_name].mean().reset_index()\n",
    "#     df_new = df_new.sort_values(by=target_field_name,ascending=ascending).reset_index(drop=True)\n",
    "#     df_new['index'] = df_new.index\n",
    "#     df_final = pd.merge(df,df_new[[cluster_field_name,'index']], on=cluster_field_name)\n",
    "#     df_final = df_final.drop([cluster_field_name],axis=1)\n",
    "#     df_final = df_final.rename(columns={\"index\":cluster_field_name})\n",
    "#     return df_final"
   ]
  },
  {
   "cell_type": "code",
   "execution_count": 23,
   "metadata": {},
   "outputs": [
    {
     "name": "stdout",
     "output_type": "stream",
     "text": [
      "\n",
      "One Hot Encoding: ['satisfaction_level' 'last_evaluation' 'number_project'\n",
      " 'average_montly_hours' 'time_spend_company' 'Work_accident' 'Stay'\n",
      " 'promotion_last_5years' 'salary' 'Department_IT' 'Department_RandD'\n",
      " 'Department_accounting' 'Department_hr' 'Department_management'\n",
      " 'Department_marketing' 'Department_product_mng' 'Department_sales'\n",
      " 'Department_support' 'Department_technical']\n",
      ">>One Hot Encoding succeeded!\n"
     ]
    }
   ],
   "source": [
    "# #preparing float columns to cluster\n",
    "# print('Clustering columns:',cluster_cols)\n",
    "# #creating the clusters\n",
    "# for col in cluster_cols:\n",
    "#     col_cluster = col + \"_cluster\"\n",
    "#     kmeans = KMeans(n_clusters=5)\n",
    "#     kmeans.fit(df_model[[col]])\n",
    "#     df_model[col_cluster] = kmeans.predict(df_model[[col]])\n",
    "#     #order the clusters\n",
    "#     df_model = order_cluster(col_cluster, col, df_model, True)\n",
    "# print('>>Cluster succeeded!')\n",
    "# #dropping columns that have been clustered\n",
    "# df_model = df_model.drop(cluster_cols,axis=1)\n",
    "\n",
    "#one hot encoding the rest columns\n",
    "dummies = pd.get_dummies(df_model)\n",
    "print(\"\\nOne Hot Encoding:\",dummies.columns.values)\n",
    "df_model = dummies\n",
    "print('>>One Hot Encoding succeeded!')"
   ]
  },
  {
   "cell_type": "code",
   "execution_count": 24,
   "metadata": {
    "scrolled": true
   },
   "outputs": [
    {
     "data": {
      "text/html": [
       "<div>\n",
       "<style scoped>\n",
       "    .dataframe tbody tr th:only-of-type {\n",
       "        vertical-align: middle;\n",
       "    }\n",
       "\n",
       "    .dataframe tbody tr th {\n",
       "        vertical-align: top;\n",
       "    }\n",
       "\n",
       "    .dataframe thead th {\n",
       "        text-align: right;\n",
       "    }\n",
       "</style>\n",
       "<table border=\"1\" class=\"dataframe\">\n",
       "  <thead>\n",
       "    <tr style=\"text-align: right;\">\n",
       "      <th></th>\n",
       "      <th>satisfaction_level</th>\n",
       "      <th>last_evaluation</th>\n",
       "      <th>number_project</th>\n",
       "      <th>average_montly_hours</th>\n",
       "      <th>time_spend_company</th>\n",
       "      <th>Work_accident</th>\n",
       "      <th>Stay</th>\n",
       "      <th>promotion_last_5years</th>\n",
       "      <th>salary</th>\n",
       "      <th>Department_IT</th>\n",
       "      <th>Department_RandD</th>\n",
       "      <th>Department_accounting</th>\n",
       "      <th>Department_hr</th>\n",
       "      <th>Department_management</th>\n",
       "      <th>Department_marketing</th>\n",
       "      <th>Department_product_mng</th>\n",
       "      <th>Department_sales</th>\n",
       "      <th>Department_support</th>\n",
       "      <th>Department_technical</th>\n",
       "    </tr>\n",
       "    <tr>\n",
       "      <th>id</th>\n",
       "      <th></th>\n",
       "      <th></th>\n",
       "      <th></th>\n",
       "      <th></th>\n",
       "      <th></th>\n",
       "      <th></th>\n",
       "      <th></th>\n",
       "      <th></th>\n",
       "      <th></th>\n",
       "      <th></th>\n",
       "      <th></th>\n",
       "      <th></th>\n",
       "      <th></th>\n",
       "      <th></th>\n",
       "      <th></th>\n",
       "      <th></th>\n",
       "      <th></th>\n",
       "      <th></th>\n",
       "      <th></th>\n",
       "    </tr>\n",
       "  </thead>\n",
       "  <tbody>\n",
       "    <tr>\n",
       "      <th>0</th>\n",
       "      <td>0.38</td>\n",
       "      <td>0.53</td>\n",
       "      <td>2</td>\n",
       "      <td>157</td>\n",
       "      <td>3</td>\n",
       "      <td>0</td>\n",
       "      <td>1</td>\n",
       "      <td>0</td>\n",
       "      <td>1</td>\n",
       "      <td>0</td>\n",
       "      <td>0</td>\n",
       "      <td>0</td>\n",
       "      <td>0</td>\n",
       "      <td>0</td>\n",
       "      <td>0</td>\n",
       "      <td>0</td>\n",
       "      <td>1</td>\n",
       "      <td>0</td>\n",
       "      <td>0</td>\n",
       "    </tr>\n",
       "    <tr>\n",
       "      <th>1</th>\n",
       "      <td>0.80</td>\n",
       "      <td>0.86</td>\n",
       "      <td>5</td>\n",
       "      <td>262</td>\n",
       "      <td>6</td>\n",
       "      <td>0</td>\n",
       "      <td>1</td>\n",
       "      <td>0</td>\n",
       "      <td>2</td>\n",
       "      <td>0</td>\n",
       "      <td>0</td>\n",
       "      <td>0</td>\n",
       "      <td>0</td>\n",
       "      <td>0</td>\n",
       "      <td>0</td>\n",
       "      <td>0</td>\n",
       "      <td>1</td>\n",
       "      <td>0</td>\n",
       "      <td>0</td>\n",
       "    </tr>\n",
       "    <tr>\n",
       "      <th>2</th>\n",
       "      <td>0.11</td>\n",
       "      <td>0.88</td>\n",
       "      <td>7</td>\n",
       "      <td>272</td>\n",
       "      <td>4</td>\n",
       "      <td>0</td>\n",
       "      <td>1</td>\n",
       "      <td>0</td>\n",
       "      <td>2</td>\n",
       "      <td>0</td>\n",
       "      <td>0</td>\n",
       "      <td>0</td>\n",
       "      <td>0</td>\n",
       "      <td>0</td>\n",
       "      <td>0</td>\n",
       "      <td>0</td>\n",
       "      <td>1</td>\n",
       "      <td>0</td>\n",
       "      <td>0</td>\n",
       "    </tr>\n",
       "    <tr>\n",
       "      <th>3</th>\n",
       "      <td>0.72</td>\n",
       "      <td>0.87</td>\n",
       "      <td>5</td>\n",
       "      <td>223</td>\n",
       "      <td>5</td>\n",
       "      <td>0</td>\n",
       "      <td>1</td>\n",
       "      <td>0</td>\n",
       "      <td>1</td>\n",
       "      <td>0</td>\n",
       "      <td>0</td>\n",
       "      <td>0</td>\n",
       "      <td>0</td>\n",
       "      <td>0</td>\n",
       "      <td>0</td>\n",
       "      <td>0</td>\n",
       "      <td>1</td>\n",
       "      <td>0</td>\n",
       "      <td>0</td>\n",
       "    </tr>\n",
       "    <tr>\n",
       "      <th>4</th>\n",
       "      <td>0.37</td>\n",
       "      <td>0.52</td>\n",
       "      <td>2</td>\n",
       "      <td>159</td>\n",
       "      <td>3</td>\n",
       "      <td>0</td>\n",
       "      <td>1</td>\n",
       "      <td>0</td>\n",
       "      <td>1</td>\n",
       "      <td>0</td>\n",
       "      <td>0</td>\n",
       "      <td>0</td>\n",
       "      <td>0</td>\n",
       "      <td>0</td>\n",
       "      <td>0</td>\n",
       "      <td>0</td>\n",
       "      <td>1</td>\n",
       "      <td>0</td>\n",
       "      <td>0</td>\n",
       "    </tr>\n",
       "    <tr>\n",
       "      <th>...</th>\n",
       "      <td>...</td>\n",
       "      <td>...</td>\n",
       "      <td>...</td>\n",
       "      <td>...</td>\n",
       "      <td>...</td>\n",
       "      <td>...</td>\n",
       "      <td>...</td>\n",
       "      <td>...</td>\n",
       "      <td>...</td>\n",
       "      <td>...</td>\n",
       "      <td>...</td>\n",
       "      <td>...</td>\n",
       "      <td>...</td>\n",
       "      <td>...</td>\n",
       "      <td>...</td>\n",
       "      <td>...</td>\n",
       "      <td>...</td>\n",
       "      <td>...</td>\n",
       "      <td>...</td>\n",
       "    </tr>\n",
       "    <tr>\n",
       "      <th>14994</th>\n",
       "      <td>0.40</td>\n",
       "      <td>0.57</td>\n",
       "      <td>2</td>\n",
       "      <td>151</td>\n",
       "      <td>3</td>\n",
       "      <td>0</td>\n",
       "      <td>1</td>\n",
       "      <td>0</td>\n",
       "      <td>1</td>\n",
       "      <td>0</td>\n",
       "      <td>0</td>\n",
       "      <td>0</td>\n",
       "      <td>0</td>\n",
       "      <td>0</td>\n",
       "      <td>0</td>\n",
       "      <td>0</td>\n",
       "      <td>0</td>\n",
       "      <td>1</td>\n",
       "      <td>0</td>\n",
       "    </tr>\n",
       "    <tr>\n",
       "      <th>14995</th>\n",
       "      <td>0.37</td>\n",
       "      <td>0.48</td>\n",
       "      <td>2</td>\n",
       "      <td>160</td>\n",
       "      <td>3</td>\n",
       "      <td>0</td>\n",
       "      <td>1</td>\n",
       "      <td>0</td>\n",
       "      <td>1</td>\n",
       "      <td>0</td>\n",
       "      <td>0</td>\n",
       "      <td>0</td>\n",
       "      <td>0</td>\n",
       "      <td>0</td>\n",
       "      <td>0</td>\n",
       "      <td>0</td>\n",
       "      <td>0</td>\n",
       "      <td>1</td>\n",
       "      <td>0</td>\n",
       "    </tr>\n",
       "    <tr>\n",
       "      <th>14996</th>\n",
       "      <td>0.37</td>\n",
       "      <td>0.53</td>\n",
       "      <td>2</td>\n",
       "      <td>143</td>\n",
       "      <td>3</td>\n",
       "      <td>0</td>\n",
       "      <td>1</td>\n",
       "      <td>0</td>\n",
       "      <td>1</td>\n",
       "      <td>0</td>\n",
       "      <td>0</td>\n",
       "      <td>0</td>\n",
       "      <td>0</td>\n",
       "      <td>0</td>\n",
       "      <td>0</td>\n",
       "      <td>0</td>\n",
       "      <td>0</td>\n",
       "      <td>1</td>\n",
       "      <td>0</td>\n",
       "    </tr>\n",
       "    <tr>\n",
       "      <th>14997</th>\n",
       "      <td>0.11</td>\n",
       "      <td>0.96</td>\n",
       "      <td>6</td>\n",
       "      <td>280</td>\n",
       "      <td>4</td>\n",
       "      <td>0</td>\n",
       "      <td>1</td>\n",
       "      <td>0</td>\n",
       "      <td>1</td>\n",
       "      <td>0</td>\n",
       "      <td>0</td>\n",
       "      <td>0</td>\n",
       "      <td>0</td>\n",
       "      <td>0</td>\n",
       "      <td>0</td>\n",
       "      <td>0</td>\n",
       "      <td>0</td>\n",
       "      <td>1</td>\n",
       "      <td>0</td>\n",
       "    </tr>\n",
       "    <tr>\n",
       "      <th>14998</th>\n",
       "      <td>0.37</td>\n",
       "      <td>0.52</td>\n",
       "      <td>2</td>\n",
       "      <td>158</td>\n",
       "      <td>3</td>\n",
       "      <td>0</td>\n",
       "      <td>1</td>\n",
       "      <td>0</td>\n",
       "      <td>1</td>\n",
       "      <td>0</td>\n",
       "      <td>0</td>\n",
       "      <td>0</td>\n",
       "      <td>0</td>\n",
       "      <td>0</td>\n",
       "      <td>0</td>\n",
       "      <td>0</td>\n",
       "      <td>0</td>\n",
       "      <td>1</td>\n",
       "      <td>0</td>\n",
       "    </tr>\n",
       "  </tbody>\n",
       "</table>\n",
       "<p>14999 rows × 19 columns</p>\n",
       "</div>"
      ],
      "text/plain": [
       "       satisfaction_level  last_evaluation  number_project  \\\n",
       "id                                                           \n",
       "0                    0.38             0.53               2   \n",
       "1                    0.80             0.86               5   \n",
       "2                    0.11             0.88               7   \n",
       "3                    0.72             0.87               5   \n",
       "4                    0.37             0.52               2   \n",
       "...                   ...              ...             ...   \n",
       "14994                0.40             0.57               2   \n",
       "14995                0.37             0.48               2   \n",
       "14996                0.37             0.53               2   \n",
       "14997                0.11             0.96               6   \n",
       "14998                0.37             0.52               2   \n",
       "\n",
       "       average_montly_hours  time_spend_company  Work_accident  Stay  \\\n",
       "id                                                                     \n",
       "0                       157                   3              0     1   \n",
       "1                       262                   6              0     1   \n",
       "2                       272                   4              0     1   \n",
       "3                       223                   5              0     1   \n",
       "4                       159                   3              0     1   \n",
       "...                     ...                 ...            ...   ...   \n",
       "14994                   151                   3              0     1   \n",
       "14995                   160                   3              0     1   \n",
       "14996                   143                   3              0     1   \n",
       "14997                   280                   4              0     1   \n",
       "14998                   158                   3              0     1   \n",
       "\n",
       "       promotion_last_5years  salary  Department_IT  Department_RandD  \\\n",
       "id                                                                      \n",
       "0                          0       1              0                 0   \n",
       "1                          0       2              0                 0   \n",
       "2                          0       2              0                 0   \n",
       "3                          0       1              0                 0   \n",
       "4                          0       1              0                 0   \n",
       "...                      ...     ...            ...               ...   \n",
       "14994                      0       1              0                 0   \n",
       "14995                      0       1              0                 0   \n",
       "14996                      0       1              0                 0   \n",
       "14997                      0       1              0                 0   \n",
       "14998                      0       1              0                 0   \n",
       "\n",
       "       Department_accounting  Department_hr  Department_management  \\\n",
       "id                                                                   \n",
       "0                          0              0                      0   \n",
       "1                          0              0                      0   \n",
       "2                          0              0                      0   \n",
       "3                          0              0                      0   \n",
       "4                          0              0                      0   \n",
       "...                      ...            ...                    ...   \n",
       "14994                      0              0                      0   \n",
       "14995                      0              0                      0   \n",
       "14996                      0              0                      0   \n",
       "14997                      0              0                      0   \n",
       "14998                      0              0                      0   \n",
       "\n",
       "       Department_marketing  Department_product_mng  Department_sales  \\\n",
       "id                                                                      \n",
       "0                         0                       0                 1   \n",
       "1                         0                       0                 1   \n",
       "2                         0                       0                 1   \n",
       "3                         0                       0                 1   \n",
       "4                         0                       0                 1   \n",
       "...                     ...                     ...               ...   \n",
       "14994                     0                       0                 0   \n",
       "14995                     0                       0                 0   \n",
       "14996                     0                       0                 0   \n",
       "14997                     0                       0                 0   \n",
       "14998                     0                       0                 0   \n",
       "\n",
       "       Department_support  Department_technical  \n",
       "id                                               \n",
       "0                       0                     0  \n",
       "1                       0                     0  \n",
       "2                       0                     0  \n",
       "3                       0                     0  \n",
       "4                       0                     0  \n",
       "...                   ...                   ...  \n",
       "14994                   1                     0  \n",
       "14995                   1                     0  \n",
       "14996                   1                     0  \n",
       "14997                   1                     0  \n",
       "14998                   1                     0  \n",
       "\n",
       "[14999 rows x 19 columns]"
      ]
     },
     "execution_count": 24,
     "metadata": {},
     "output_type": "execute_result"
    }
   ],
   "source": [
    "df_model"
   ]
  },
  {
   "cell_type": "markdown",
   "metadata": {},
   "source": [
    "<h2>Categorizing target class"
   ]
  },
  {
   "cell_type": "code",
   "execution_count": 25,
   "metadata": {},
   "outputs": [
    {
     "name": "stdout",
     "output_type": "stream",
     "text": [
      "Categorizing employees into: CN(0), CR(1), TN(2), and TR(3)\n",
      ">>Categorizing successfull!\n"
     ]
    },
    {
     "data": {
      "text/plain": [
       "<matplotlib.axes._subplots.AxesSubplot at 0x1a7ec05c088>"
      ]
     },
     "execution_count": 25,
     "metadata": {},
     "output_type": "execute_result"
    },
    {
     "data": {
      "image/png": "[encoded data removed]",
      "text/plain": [
       "<Figure size 432x288 with 1 Axes>"
      ]
     },
     "metadata": {
      "needs_background": "light"
     },
     "output_type": "display_data"
    }
   ],
   "source": [
    "print(\"Categorizing employees into: CN(0), CR(1), TN(2), and TR(3)\")\n",
    "#to get the CN employees we can simply set the basic value of all data in column target_class equal to 0 \n",
    "df_model['target_class'] = 0 #CN\n",
    "\n",
    "#after that we set CR employees with target_class equal to 1 \n",
    "df_model.loc[(df_model[treat] == 0) & (df_model.Stay > 0),'target_class'] = 1 #CR\n",
    "\n",
    "#after that we set TN employees with with target_class equal to 2\n",
    "df_model.loc[(df_model[treat] == 1) & (df_model.Stay == 0),'target_class'] = 2 #TN\n",
    "\n",
    "#after that we set TR employees with with target_class equal to 3\n",
    "df_model.loc[(df_model[treat] == 1) & (df_model.Stay > 0),'target_class'] = 3 #TR\n",
    "\n",
    "print(\">>Categorizing successfull!\")\n",
    "sns.distplot(a=df_model.target_class, kde=False)"
   ]
  },
  {
   "cell_type": "markdown",
   "metadata": {},
   "source": [
    "<h2>Treatment Identification"
   ]
  },
  {
   "cell_type": "code",
   "execution_count": 26,
   "metadata": {
    "scrolled": false
   },
   "outputs": [
    {
     "data": {
      "text/html": [
       "<div>\n",
       "<style scoped>\n",
       "    .dataframe tbody tr th:only-of-type {\n",
       "        vertical-align: middle;\n",
       "    }\n",
       "\n",
       "    .dataframe tbody tr th {\n",
       "        vertical-align: top;\n",
       "    }\n",
       "\n",
       "    .dataframe thead th {\n",
       "        text-align: right;\n",
       "    }\n",
       "</style>\n",
       "<table border=\"1\" class=\"dataframe\">\n",
       "  <thead>\n",
       "    <tr style=\"text-align: right;\">\n",
       "      <th></th>\n",
       "      <th>index</th>\n",
       "      <th>Stay</th>\n",
       "    </tr>\n",
       "  </thead>\n",
       "  <tbody>\n",
       "    <tr>\n",
       "      <th>0</th>\n",
       "      <td>satisfaction_level</td>\n",
       "      <td>-38.84</td>\n",
       "    </tr>\n",
       "    <tr>\n",
       "      <th>1</th>\n",
       "      <td>Work_accident</td>\n",
       "      <td>-15.46</td>\n",
       "    </tr>\n",
       "    <tr>\n",
       "      <th>2</th>\n",
       "      <td>promotion_last_5years</td>\n",
       "      <td>-6.18</td>\n",
       "    </tr>\n",
       "    <tr>\n",
       "      <th>3</th>\n",
       "      <td>Department_RandD</td>\n",
       "      <td>-4.66</td>\n",
       "    </tr>\n",
       "    <tr>\n",
       "      <th>4</th>\n",
       "      <td>Department_management</td>\n",
       "      <td>-4.60</td>\n",
       "    </tr>\n",
       "    <tr>\n",
       "      <th>5</th>\n",
       "      <td>Department_product_mng</td>\n",
       "      <td>-1.10</td>\n",
       "    </tr>\n",
       "    <tr>\n",
       "      <th>6</th>\n",
       "      <td>Department_IT</td>\n",
       "      <td>-1.09</td>\n",
       "    </tr>\n",
       "    <tr>\n",
       "      <th>7</th>\n",
       "      <td>salary</td>\n",
       "      <td>-0.13</td>\n",
       "    </tr>\n",
       "    <tr>\n",
       "      <th>8</th>\n",
       "      <td>Department_marketing</td>\n",
       "      <td>-0.09</td>\n",
       "    </tr>\n",
       "    <tr>\n",
       "      <th>9</th>\n",
       "      <td>last_evaluation</td>\n",
       "      <td>0.66</td>\n",
       "    </tr>\n",
       "    <tr>\n",
       "      <th>10</th>\n",
       "      <td>Department_sales</td>\n",
       "      <td>0.99</td>\n",
       "    </tr>\n",
       "    <tr>\n",
       "      <th>11</th>\n",
       "      <td>Department_support</td>\n",
       "      <td>1.07</td>\n",
       "    </tr>\n",
       "    <tr>\n",
       "      <th>12</th>\n",
       "      <td>Department_accounting</td>\n",
       "      <td>1.52</td>\n",
       "    </tr>\n",
       "    <tr>\n",
       "      <th>13</th>\n",
       "      <td>Department_technical</td>\n",
       "      <td>2.01</td>\n",
       "    </tr>\n",
       "    <tr>\n",
       "      <th>14</th>\n",
       "      <td>number_project</td>\n",
       "      <td>2.38</td>\n",
       "    </tr>\n",
       "    <tr>\n",
       "      <th>15</th>\n",
       "      <td>Department_hr</td>\n",
       "      <td>2.82</td>\n",
       "    </tr>\n",
       "    <tr>\n",
       "      <th>16</th>\n",
       "      <td>average_montly_hours</td>\n",
       "      <td>7.13</td>\n",
       "    </tr>\n",
       "    <tr>\n",
       "      <th>17</th>\n",
       "      <td>time_spend_company</td>\n",
       "      <td>14.48</td>\n",
       "    </tr>\n",
       "    <tr>\n",
       "      <th>18</th>\n",
       "      <td>target_class</td>\n",
       "      <td>81.70</td>\n",
       "    </tr>\n",
       "    <tr>\n",
       "      <th>19</th>\n",
       "      <td>Stay</td>\n",
       "      <td>100.00</td>\n",
       "    </tr>\n",
       "  </tbody>\n",
       "</table>\n",
       "</div>"
      ],
      "text/plain": [
       "                     index    Stay\n",
       "0       satisfaction_level  -38.84\n",
       "1            Work_accident  -15.46\n",
       "2    promotion_last_5years   -6.18\n",
       "3         Department_RandD   -4.66\n",
       "4    Department_management   -4.60\n",
       "5   Department_product_mng   -1.10\n",
       "6            Department_IT   -1.09\n",
       "7                   salary   -0.13\n",
       "8     Department_marketing   -0.09\n",
       "9          last_evaluation    0.66\n",
       "10        Department_sales    0.99\n",
       "11      Department_support    1.07\n",
       "12   Department_accounting    1.52\n",
       "13    Department_technical    2.01\n",
       "14          number_project    2.38\n",
       "15           Department_hr    2.82\n",
       "16    average_montly_hours    7.13\n",
       "17      time_spend_company   14.48\n",
       "18            target_class   81.70\n",
       "19                    Stay  100.00"
      ]
     },
     "execution_count": 26,
     "metadata": {},
     "output_type": "execute_result"
    }
   ],
   "source": [
    "#measure the correlation of Employee who stay\n",
    "pd.options.display.max_rows=100\n",
    "correlation = df_model.corr(method ='pearson') \n",
    "pd.DataFrame(round(correlation.Stay.sort_values() * 100,2)).reset_index()"
   ]
  },
  {
   "cell_type": "code",
   "execution_count": 27,
   "metadata": {
    "scrolled": false
   },
   "outputs": [
    {
     "data": {
      "text/plain": [
       "<Figure size 216x1440 with 0 Axes>"
      ]
     },
     "execution_count": 27,
     "metadata": {},
     "output_type": "execute_result"
    },
    {
     "data": {
      "image/png": "[encoded data removed]",
      "text/plain": [
       "<Figure size 2880x2880 with 2 Axes>"
      ]
     },
     "metadata": {
      "needs_background": "light"
     },
     "output_type": "display_data"
    },
    {
     "data": {
      "text/plain": [
       "<Figure size 216x1440 with 0 Axes>"
      ]
     },
     "metadata": {},
     "output_type": "display_data"
    }
   ],
   "source": [
    "#measure the correlation of Employees who stay\n",
    "treatment_corr_matrix = df_model.corr(method ='pearson')\n",
    "#plot the data\n",
    "plt.figure(figsize=(40,40))\n",
    "corr = pd.DataFrame(treatment_corr_matrix.drop(labels=['Stay', 'target_class'])* 100)\n",
    "sns.heatmap(corr, annot=True, center=0, cmap=\"YlGnBu\")\n",
    "plt.figure(figsize=(3,20))"
   ]
  },
  {
   "cell_type": "code",
   "execution_count": 28,
   "metadata": {},
   "outputs": [],
   "source": [
    "treatment_corr_table = pd.DataFrame(treatment_corr_matrix['Stay'].drop(labels=['Stay', 'target_class']))\n",
    "treatment_corr_table['target_class'] = pd.DataFrame(treatment_corr_matrix['target_class'].drop(labels=['Stay', 'target_class']))"
   ]
  },
  {
   "cell_type": "code",
   "execution_count": 29,
   "metadata": {},
   "outputs": [
    {
     "data": {
      "text/plain": [
       "<matplotlib.axes._subplots.AxesSubplot at 0x1a7ec13e6c8>"
      ]
     },
     "execution_count": 29,
     "metadata": {},
     "output_type": "execute_result"
    },
    {
     "data": {
      "image/png": "[encoded data removed]",
      "text/plain": [
       "<Figure size 144x360 with 2 Axes>"
      ]
     },
     "metadata": {
      "needs_background": "light"
     },
     "output_type": "display_data"
    }
   ],
   "source": [
    "treatment_corr_table = pd.DataFrame(treatment_corr_matrix['Stay'].drop(labels=['Stay', 'target_class']))\n",
    "treatment_corr_table['target_class'] = pd.DataFrame(treatment_corr_matrix['target_class'].drop(labels=['Stay', 'target_class']))\n",
    "#plot features that correlated with stay and target class\n",
    "plt.figure(figsize=(2,5))\n",
    "sns.heatmap(treatment_corr_table*100, annot=True, center=0, cmap=\"YlGnBu\")"
   ]
  },
  {
   "cell_type": "code",
   "execution_count": 30,
   "metadata": {},
   "outputs": [
    {
     "data": {
      "text/plain": [
       "Text(0.5, 1, 'Top 5 Correlation')"
      ]
     },
     "execution_count": 30,
     "metadata": {},
     "output_type": "execute_result"
    },
    {
     "data": {
      "image/png": "[encoded data removed]",
      "text/plain": [
       "<Figure size 432x288 with 1 Axes>"
      ]
     },
     "metadata": {
      "needs_background": "light"
     },
     "output_type": "display_data"
    }
   ],
   "source": [
    "#define what column to drop\n",
    "treat_matrix = treatment_corr_table.copy()\n",
    "treat_matrix = treat_matrix.abs()*100 < 0\n",
    "treat_matrix['and'] = treat_matrix.all(axis = 1)\n",
    "target_labels = [treat, 'target_class','Stay']\n",
    "#define what column to drop\n",
    "drop_both = treat_matrix.index[treat_matrix['and'] == True].tolist()\n",
    "drop_both.extend(target_labels)\n",
    "drop_uplift = treat_matrix.index[treat_matrix['target_class'] == True].tolist()\n",
    "drop_uplift.extend(target_labels)\n",
    "drop_stay = treat_matrix.index[treat_matrix['Stay'] == True].tolist()\n",
    "drop_stay.extend(target_labels)\n",
    "# find the largest corr and plot it\n",
    "largest_corr = treatment_corr_table.Stay.abs().nlargest(5)\n",
    "largest = sns.barplot(y=largest_corr,x=largest_corr.index, palette='Set1')\n",
    "plt.subplots_adjust(right=2.5)\n",
    "plt.subplots_adjust(top=1.5)\n",
    "plt.title('Top 5 Correlation',y=1, fontsize=20)"
   ]
  },
  {
   "cell_type": "markdown",
   "metadata": {},
   "source": [
    "<h2>Create new dataframe for churn and uplift"
   ]
  },
  {
   "cell_type": "code",
   "execution_count": 31,
   "metadata": {},
   "outputs": [
    {
     "name": "stdout",
     "output_type": "stream",
     "text": [
      "    target_class  Stay  promotion_last_5years\n",
      "id                                           \n",
      "0              1     1                      0\n",
      "1              1     1                      0\n",
      "2              1     1                      0\n",
      "3              1     1                      0\n",
      "4              1     1                      0\n"
     ]
    }
   ],
   "source": [
    "#duplicate result to df_data for calculating MP & MPU\n",
    "df_data_churn = df_model[['target_class','Stay',treat]]\n",
    "# df_data_lift = df_model.copy()\n",
    "df_data_uplift = df_model[['target_class','Stay',treat]]\n",
    "print(df_data_uplift.head())"
   ]
  },
  {
   "cell_type": "markdown",
   "metadata": {},
   "source": [
    "<h1> Modeling"
   ]
  },
  {
   "cell_type": "markdown",
   "metadata": {},
   "source": [
    "<h2> Set Labels"
   ]
  },
  {
   "cell_type": "code",
   "execution_count": 32,
   "metadata": {},
   "outputs": [],
   "source": [
    "#create features\n",
    "X = df_model\n",
    "#create labels for churn target\n",
    "y_stay = df_model.Stay\n",
    "#create labels for treatment\n",
    "t = df_model[treat]"
   ]
  },
  {
   "cell_type": "markdown",
   "metadata": {},
   "source": [
    "<h2>Churn Prediction"
   ]
  },
  {
   "cell_type": "code",
   "execution_count": 33,
   "metadata": {
    "scrolled": true
   },
   "outputs": [
    {
     "name": "stderr",
     "output_type": "stream",
     "text": [
      "C:\\Users\\Davin\\AppData\\Local\\Continuum\\anaconda3\\lib\\site-packages\\ipykernel_launcher.py:10: SettingWithCopyWarning: \n",
      "A value is trying to be set on a copy of a slice from a DataFrame.\n",
      "Try using .loc[row_indexer,col_indexer] = value instead\n",
      "\n",
      "See the caveats in the documentation: https://pandas.pydata.org/pandas-docs/stable/user_guide/indexing.html#returning-a-view-versus-a-copy\n",
      "  # Remove the CWD from sys.path while we load stuff.\n",
      "C:\\Users\\Davin\\AppData\\Local\\Continuum\\anaconda3\\lib\\site-packages\\ipykernel_launcher.py:11: SettingWithCopyWarning: \n",
      "A value is trying to be set on a copy of a slice from a DataFrame.\n",
      "Try using .loc[row_indexer,col_indexer] = value instead\n",
      "\n",
      "See the caveats in the documentation: https://pandas.pydata.org/pandas-docs/stable/user_guide/indexing.html#returning-a-view-versus-a-copy\n",
      "  # This is added back by InteractiveShellApp.init_path()\n"
     ]
    }
   ],
   "source": [
    "#splitting train and test groups\n",
    "X_train, X_test, y_train, y_test = train_test_split(X, y_stay, test_size=0.3, random_state=42, stratify = t)\n",
    "#fitting the model and predicting the probabilities using eXtreme Gradient Boosting\n",
    "xgb_model_stay = xgb.XGBClassifier().fit(X_train.drop(drop_stay,axis=1), y_train)\n",
    "#Calculate probabilities for all customers using eXtreme Gradient Boost\n",
    "overall_predict_stay = xgb_model_stay.predict(X_test.drop(drop_stay,axis=1))\n",
    "overall_proba_stay = xgb_model_stay.predict_proba(X_test.drop(drop_stay,axis=1))\n",
    "# put result in dataframe\n",
    "df_data_churn = X_test\n",
    "df_data_churn['p_stay'] = overall_predict_stay\n",
    "df_data_churn['stay_score'] = overall_proba_stay[:,0]\n"
   ]
  },
  {
   "cell_type": "code",
   "execution_count": 34,
   "metadata": {},
   "outputs": [
    {
     "name": "stdout",
     "output_type": "stream",
     "text": [
      "Accuracy: 97.16%\n"
     ]
    }
   ],
   "source": [
    "# evaluate predictions\n",
    "accuracy = accuracy_score(y_test, overall_predict_stay)\n",
    "print(\"Accuracy: %.2f%%\" % (accuracy * 100.0))"
   ]
  },
  {
   "cell_type": "code",
   "execution_count": 35,
   "metadata": {},
   "outputs": [
    {
     "data": {
      "text/html": [
       "<div>\n",
       "<style scoped>\n",
       "    .dataframe tbody tr th:only-of-type {\n",
       "        vertical-align: middle;\n",
       "    }\n",
       "\n",
       "    .dataframe tbody tr th {\n",
       "        vertical-align: top;\n",
       "    }\n",
       "\n",
       "    .dataframe thead th {\n",
       "        text-align: right;\n",
       "    }\n",
       "</style>\n",
       "<table border=\"1\" class=\"dataframe\">\n",
       "  <thead>\n",
       "    <tr style=\"text-align: right;\">\n",
       "      <th></th>\n",
       "      <th>True</th>\n",
       "      <th>False</th>\n",
       "    </tr>\n",
       "  </thead>\n",
       "  <tbody>\n",
       "    <tr>\n",
       "      <th>Positive</th>\n",
       "      <td>3391</td>\n",
       "      <td>45</td>\n",
       "    </tr>\n",
       "    <tr>\n",
       "      <th>Negative</th>\n",
       "      <td>83</td>\n",
       "      <td>981</td>\n",
       "    </tr>\n",
       "  </tbody>\n",
       "</table>\n",
       "</div>"
      ],
      "text/plain": [
       "          True  False\n",
       "Positive  3391     45\n",
       "Negative    83    981"
      ]
     },
     "execution_count": 35,
     "metadata": {},
     "output_type": "execute_result"
    }
   ],
   "source": [
    "confusion = confusion_matrix(y_test, overall_predict_stay)\n",
    "tn, fp, fn, tp = confusion.ravel()\n",
    "confusion = pd.DataFrame(confusion, columns = ['True','False'], index = ['Positive','Negative'])\n",
    "confusion"
   ]
  },
  {
   "cell_type": "markdown",
   "metadata": {},
   "source": [
    "<h2>Uplift Modeling - Four Quadrant"
   ]
  },
  {
   "cell_type": "code",
   "execution_count": 36,
   "metadata": {
    "scrolled": true
   },
   "outputs": [],
   "source": [
    "#create labels\n",
    "y_target_class = df_model.target_class\n",
    "#splitting train and test groups\n",
    "X_train, X_test, y_train, y_test = train_test_split(X, y_target_class, test_size=0.3, random_state=42, stratify=t)"
   ]
  },
  {
   "cell_type": "code",
   "execution_count": 37,
   "metadata": {},
   "outputs": [
    {
     "name": "stderr",
     "output_type": "stream",
     "text": [
      "C:\\Users\\Davin\\AppData\\Local\\Continuum\\anaconda3\\lib\\site-packages\\ipykernel_launcher.py:10: SettingWithCopyWarning: \n",
      "A value is trying to be set on a copy of a slice from a DataFrame.\n",
      "Try using .loc[row_indexer,col_indexer] = value instead\n",
      "\n",
      "See the caveats in the documentation: https://pandas.pydata.org/pandas-docs/stable/user_guide/indexing.html#returning-a-view-versus-a-copy\n",
      "  # Remove the CWD from sys.path while we load stuff.\n",
      "C:\\Users\\Davin\\AppData\\Local\\Continuum\\anaconda3\\lib\\site-packages\\ipykernel_launcher.py:13: SettingWithCopyWarning: \n",
      "A value is trying to be set on a copy of a slice from a DataFrame.\n",
      "Try using .loc[row_indexer,col_indexer] = value instead\n",
      "\n",
      "See the caveats in the documentation: https://pandas.pydata.org/pandas-docs/stable/user_guide/indexing.html#returning-a-view-versus-a-copy\n",
      "  del sys.path[0]\n",
      "C:\\Users\\Davin\\AppData\\Local\\Continuum\\anaconda3\\lib\\site-packages\\ipykernel_launcher.py:14: SettingWithCopyWarning: \n",
      "A value is trying to be set on a copy of a slice from a DataFrame.\n",
      "Try using .loc[row_indexer,col_indexer] = value instead\n",
      "\n",
      "See the caveats in the documentation: https://pandas.pydata.org/pandas-docs/stable/user_guide/indexing.html#returning-a-view-versus-a-copy\n",
      "  \n",
      "C:\\Users\\Davin\\AppData\\Local\\Continuum\\anaconda3\\lib\\site-packages\\ipykernel_launcher.py:15: SettingWithCopyWarning: \n",
      "A value is trying to be set on a copy of a slice from a DataFrame.\n",
      "Try using .loc[row_indexer,col_indexer] = value instead\n",
      "\n",
      "See the caveats in the documentation: https://pandas.pydata.org/pandas-docs/stable/user_guide/indexing.html#returning-a-view-versus-a-copy\n",
      "  from ipykernel import kernelapp as app\n",
      "C:\\Users\\Davin\\AppData\\Local\\Continuum\\anaconda3\\lib\\site-packages\\ipykernel_launcher.py:16: SettingWithCopyWarning: \n",
      "A value is trying to be set on a copy of a slice from a DataFrame.\n",
      "Try using .loc[row_indexer,col_indexer] = value instead\n",
      "\n",
      "See the caveats in the documentation: https://pandas.pydata.org/pandas-docs/stable/user_guide/indexing.html#returning-a-view-versus-a-copy\n",
      "  app.launch_new_instance()\n",
      "C:\\Users\\Davin\\AppData\\Local\\Continuum\\anaconda3\\lib\\site-packages\\ipykernel_launcher.py:19: SettingWithCopyWarning: \n",
      "A value is trying to be set on a copy of a slice from a DataFrame.\n",
      "Try using .loc[row_indexer,col_indexer] = value instead\n",
      "\n",
      "See the caveats in the documentation: https://pandas.pydata.org/pandas-docs/stable/user_guide/indexing.html#returning-a-view-versus-a-copy\n",
      "C:\\Users\\Davin\\AppData\\Local\\Continuum\\anaconda3\\lib\\site-packages\\ipykernel_launcher.py:22: SettingWithCopyWarning: \n",
      "A value is trying to be set on a copy of a slice from a DataFrame.\n",
      "Try using .loc[row_indexer,col_indexer] = value instead\n",
      "\n",
      "See the caveats in the documentation: https://pandas.pydata.org/pandas-docs/stable/user_guide/indexing.html#returning-a-view-versus-a-copy\n"
     ]
    }
   ],
   "source": [
    "#fitting the model and predicting the probabilities using eXtreme Gradient Boosting\n",
    "xgb_model_target_class = xgb.XGBClassifier()\n",
    "xgb_model_target_class = xgb_model_target_class.fit(X_train.drop(drop_uplift,axis=1), y_train)\n",
    "#Calculate probabilities for all customers using eXtreme Gradient Boost\n",
    "overall_predict_target_class = xgb_model_target_class.predict(X_test.drop(drop_uplift,axis=1))\n",
    "overall_proba_target_class=xgb_model_target_class.predict_proba(X_test.drop(drop_uplift,axis=1))\n",
    "\n",
    "# insert predicted target to uplift dataframe\n",
    "df_data_uplift = X_test\n",
    "df_data_uplift['p_target'] = overall_predict_target_class\n",
    "\n",
    "# assign probabilities to 4 different columns\n",
    "df_data_uplift['proba_CN'] = overall_proba_target_class[:,0] \n",
    "df_data_uplift['proba_CR'] = overall_proba_target_class[:,1] \n",
    "df_data_uplift['proba_TN'] = overall_proba_target_class[:,2] \n",
    "df_data_uplift['proba_TR'] = overall_proba_target_class[:,3]\n",
    "\n",
    "#calculate uplift score for all customers\n",
    "df_data_uplift['uplift_score'] = df_data_uplift.eval('proba_CN/(proba_CN+proba_CR) + proba_TR/(proba_TN+proba_TR) - proba_TN/(proba_TN+proba_TR) - proba_CR/(proba_CN+proba_CR)')\n",
    "\n",
    "#assign it back to main dataframe\n",
    "df_data_uplift['uplift_score'] = df_data_uplift['uplift_score']"
   ]
  },
  {
   "cell_type": "code",
   "execution_count": 38,
   "metadata": {},
   "outputs": [
    {
     "name": "stdout",
     "output_type": "stream",
     "text": [
      "Accuracy: 95.18%\n"
     ]
    }
   ],
   "source": [
    "# evaluate predictions\n",
    "accuracy = accuracy_score(y_test, overall_predict_target_class)\n",
    "print(\"Accuracy: %.2f%%\" % (accuracy * 100.0))"
   ]
  },
  {
   "cell_type": "code",
   "execution_count": 42,
   "metadata": {},
   "outputs": [
    {
     "data": {
      "text/plain": [
       "array([[[ 993,  160],\n",
       "        [  50, 3297]],\n",
       "\n",
       "       [[3392,   51],\n",
       "        [  80,  977]],\n",
       "\n",
       "       [[4405,    6],\n",
       "        [  80,    9]],\n",
       "\n",
       "       [[4493,    0],\n",
       "        [   7,    0]]], dtype=int64)"
      ]
     },
     "execution_count": 42,
     "metadata": {},
     "output_type": "execute_result"
    }
   ],
   "source": [
    "multilabel_confusion_matrix(y_test, overall_predict_target_class)"
   ]
  },
  {
   "cell_type": "markdown",
   "metadata": {},
   "source": [
    "<h2> creating data for Ranking and Evaluation"
   ]
  },
  {
   "cell_type": "code",
   "execution_count": null,
   "metadata": {},
   "outputs": [],
   "source": [
    "df_data_churn = df_data_churn[['Stay', treat, 'target_class', 'p_stay', 'stay_score']]\n",
    "df_data_uplift = df_data_uplift[['Stay', treat, 'target_class', 'p_target', 'uplift_score']]"
   ]
  },
  {
   "cell_type": "markdown",
   "metadata": {},
   "source": [
    "<h2>Rank data from Churn prediction"
   ]
  },
  {
   "cell_type": "code",
   "execution_count": null,
   "metadata": {
    "scrolled": false
   },
   "outputs": [],
   "source": [
    "#both treatment and control\n",
    "print(\"Ranking data for Churn Prediction with control included\")\n",
    "\n",
    "df_data_churn_all = df_data_churn.copy()\n",
    "df_data_churn_all = df_data_churn_all.sort_values(by ='stay_score',ascending=True)\n",
    "df_data_churn_all = df_data_churn_all.reset_index()\n",
    "\n",
    "#treatment only\n",
    "df_data_churn = df_data_churn[df_data_churn.target_class > 1]\n",
    "print(\"Ranking data for Churn Prediction with control not included\")\n",
    "df_data_churn = df_data_churn.sort_values(by ='stay_score',ascending=True)\n",
    "df_data_churn = df_data_churn.reset_index()"
   ]
  },
  {
   "cell_type": "markdown",
   "metadata": {},
   "source": [
    "<h2>Rank data from Uplift prediction"
   ]
  },
  {
   "cell_type": "code",
   "execution_count": null,
   "metadata": {
    "scrolled": true
   },
   "outputs": [],
   "source": [
    "#both treatment and control\n",
    "print(\"Ranking data for Churn Uplift with control included\")\n",
    "df_data_uplift_all = df_data_uplift.copy()\n",
    "df_data_uplift_all = df_data_uplift_all.sort_values(by ='uplift_score',ascending=False)\n",
    "df_data_uplift_all = df_data_uplift_all.reset_index()\n",
    "\n",
    "#choose treatment only\n",
    "df_data_uplift = df_data_uplift[df_data_uplift.target_class > 1]\n",
    "print(\"Ranking data for Churn Uplift with control not included\")\n",
    "df_data_uplift = df_data_uplift.sort_values(by ='uplift_score',ascending=False)\n",
    "df_data_uplift = df_data_uplift.reset_index()"
   ]
  },
  {
   "cell_type": "code",
   "execution_count": null,
   "metadata": {
    "scrolled": false
   },
   "outputs": [],
   "source": [
    "#define basic variable c=cost, j=decile_count\n",
    "c=0\n",
    "j=round(len(df_data_churn)/10)\n",
    "\n",
    "#prepare 3 dataframe for CPMP\n",
    "CPMP1 = pd.DataFrame({\"n\":[], \n",
    "                      \"retained\":[], \n",
    "                      \"non_retained\":[], \n",
    "                      \"false\":[], \n",
    "                      \"mp\":[]})\n",
    "CUMP1 = CPMP1.copy()\n",
    "\n",
    "#1\n",
    "b1=82000\n",
    "i1=16666\n",
    "p1_1=(b1-i1-c)\n",
    "p2_1=(-c)\n",
    "p3_1=(-i1-c)\n",
    "\n",
    "CP_list1, CU_list1 = [], []\n",
    "\n",
    "for i in range(10):\n",
    "    m=(i+1)*j\n",
    "    \n",
    "         \n",
    "    #Variables for churn Prediction \n",
    "    #retained within the segment\n",
    "    r = sum(df_data_churn.target_class[0:m]==3)\n",
    "    #not retained within the segment\n",
    "    nr =  sum(df_data_churn.target_class[0:m]==2)\n",
    "    #False retained within the segment\n",
    "    fr = sum(df_data_churn.target_class[0:m]==1)\n",
    "        \n",
    "    #Variables for Uplift Modelling\n",
    "    u_r=sum(df_data_uplift.target_class[0:m]==3)\n",
    "    u_nr=sum(df_data_uplift.target_class[0:m]==2)\n",
    "    u_fr=sum(df_data_uplift.target_class[0:m]==1)\n",
    "    \n",
    "    \n",
    "    #Churn Prediction mp \n",
    "    #r as r, nr as nr, fr r as fr\n",
    "    r_profit1=(r*p1_1)\n",
    "    nr_profit1=(nr*p2_1)\n",
    "    fr_profit1=(fr*p3_1)\n",
    "    #churn Maximum Profit\n",
    "    mp1=(r_profit1 + nr_profit1 + fr_profit1)/m\n",
    "    \n",
    "    u_r_profit1=(u_r*p1_1)\n",
    "    u_nr_profit1=(u_nr*p2_1)\n",
    "    u_fr_profit1=(u_fr*p3_1)\n",
    "    #Churn Uplift Maximum Profit\n",
    "    u_mp1=(u_r_profit1 + u_nr_profit1 + u_fr_profit1)/m\n",
    "    \n",
    "    \n",
    "    CP_list1.append(pd.Series([((i+1)/10), r, nr, fr, mp1], index=CPMP1.columns)) \n",
    "    CU_list1.append(pd.Series([((i+1)/10), u_r, u_nr, u_fr, u_mp1], index=CUMP1.columns))\n",
    "    \n",
    "\n",
    "CPMP1 = CPMP1.append(CP_list1 , ignore_index=True)\n",
    "\n",
    "CUMP1 = CUMP1.append(CU_list1 , ignore_index=True)\n",
    "\n",
    "# add q0 into dataframe\n",
    "q0 = pd.DataFrame({'n':0, 'mp':0}, index =[0])\n",
    "CPMP1 = pd.concat([q0, CPMP1]).reset_index(drop = True)\n",
    "\n",
    "CUMP1 = pd.concat([q0, CUMP1]).reset_index(drop = True)"
   ]
  },
  {
   "cell_type": "code",
   "execution_count": null,
   "metadata": {},
   "outputs": [],
   "source": [
    "#create new column method = churn_prediction\n",
    "CPMP1['method'] = 'MPC'\n",
    "\n",
    "#create new column method = uplift_modelling Prediction\n",
    "CUMP1['method'] = 'MPU'\n",
    "#Combine both Churn Prediction and uplift modelling result\n",
    "result_mp1 = pd.concat([CUMP1, CPMP1])\n",
    "result_mp1 = result_mp1.sort_values(by='n')\n",
    "result_mp1"
   ]
  },
  {
   "cell_type": "code",
   "execution_count": null,
   "metadata": {},
   "outputs": [],
   "source": [
    "sns.lineplot(x='n', y='mp', hue='method', data=result_mp1, style=\"method\", palette='Set1')\n",
    "sns.set_style(\"whitegrid\")\n",
    "plt.title('MPU',fontsize=20)\n",
    "plt.xlabel('Proportion targeted (ascending)',fontsize=15)\n",
    "plt.ylabel('Maximum Profit',fontsize=15)\n",
    "plt.subplots_adjust(right=1.5)\n",
    "plt.subplots_adjust(top=1.5)"
   ]
  },
  {
   "cell_type": "markdown",
   "metadata": {},
   "source": [
    "<h2>Treatment and Control"
   ]
  },
  {
   "cell_type": "code",
   "execution_count": null,
   "metadata": {},
   "outputs": [],
   "source": [
    "#prepare 3 dataframe for CPMPU\n",
    "CPMPU = pd.DataFrame({\"n\":[], \n",
    "                      \"QINI\":[], \n",
    "                      \"TR\":[],  \n",
    "                      \"mpu\":[]})\n",
    "CUMPU, PUMPU = CPMPU.copy(), CPMPU.copy()\n",
    "CP_list, CU_list, PU_list = [], [], []\n",
    "\n",
    "#prepare dataframe for QINI Curves\n",
    "QU = pd.DataFrame({\"n\":[],  \n",
    "                    \"uplift\":[]})\n",
    "QC = QU.copy()\n",
    "QP = QU.copy()\n",
    "QU_list, QC_list, QP_list = [], [], []\n",
    "p4_1=(b1-i1)\n",
    "\n",
    "j = 10\n",
    "k = math.ceil(len(df_data_churn_all)/j)\n",
    "for i in range(j):\n",
    "    m=(i+1)*k \n",
    "    \n",
    "#     #Input total actual control and treatment data\n",
    "#     churn_control_count = sum(df_data_churn_all[treat]==0)\n",
    "#     churn_treatment_count = sum(df_data_churn_all[treat]==1)\n",
    "#     #Input total actual control and treatment data\n",
    "#     uplift_control_count = sum(df_data_uplift_all[treat]==0)\n",
    "#     uplift_treatment_count = sum(df_data_uplift_all[treat]==1)\n",
    "    #Actual Qini Churn - Input Data\n",
    "    RC_churn = sum((df_data_churn_all.Stay[0:m]==1)&(df_data_churn_all[treat][0:m]==0))\n",
    "    RT_churn = sum((df_data_churn_all.Stay[0:m]==1)&(df_data_churn_all[treat][0:m]==1))\n",
    "    NC_churn = sum(df_data_churn_all[treat][0:m]==0)\n",
    "    NT_churn = sum(df_data_churn_all[treat][0:m]==1)\n",
    "    #Actual Qini Uplift - Input Data\n",
    "    RC_uplift = sum((df_data_uplift_all.Stay[0:m]==1)&(df_data_uplift_all[treat][0:m]==0))\n",
    "    RT_uplift = sum((df_data_uplift_all.Stay[0:m]==1)&(df_data_uplift_all[treat][0:m]==1))\n",
    "    NC_uplift = sum(df_data_uplift_all[treat][0:m]==0)\n",
    "    NT_uplift = sum(df_data_uplift_all[treat][0:m]==1)\n",
    "    #Predicted Qini Uplift - Input Data\n",
    "    RC_predicted = sum(df_data_uplift_all.p_target[0:m]==1)\n",
    "    RT_predicted = sum(df_data_uplift_all.p_target[0:m]==3)\n",
    "    NC_predicted = sum(df_data_uplift_all.p_target[0:m]<=1)\n",
    "    NT_predicted = sum(df_data_uplift_all.p_target[0:m]>=2)\n",
    "    \n",
    "#     pilih salah satu metode:    \n",
    "#     QINI_c = ((RT_churn/churn_treatment_count) - (RC_churn/churn_control_count))\n",
    "#     QINI_u = ((RT/uplift_treatment_count) - (RC/uplift_control_count))   \n",
    "    #Calculate QINI\n",
    "    QINI_c = (RT_churn-((RC_churn*NT_churn)/NC_churn))\n",
    "    QINI_u = (RT_uplift-((RC_uplift*NT_uplift)/NC_uplift))\n",
    "    QINI_p = (RT_predicted/2-((RC_predicted*NT_predicted)/NC_predicted)*2)\n",
    "    #Append to list\n",
    "    QC_list.append(pd.Series([((i+1)/10), QINI_c], index=QC.columns))\n",
    "    QU_list.append(pd.Series([((i+1)/10), QINI_u], index=QU.columns))\n",
    "    QP_list.append(pd.Series([((i+1)/10), QINI_p], index=QU.columns))\n",
    "    \n",
    "    #Calculate MPU \n",
    "    #TR\n",
    "    TR_churn=sum(df_data_churn_all.target_class[0:m] == 3)\n",
    "    TR_uplift=sum(df_data_uplift_all.target_class[0:m] == 3) \n",
    "    #Qini & TR for churn prediction\n",
    "    CP_profit = ((QINI_c*p4_1) - TR_churn)/m\n",
    "    #Qini & TR for uplift prediction\n",
    "    CU_profit = ((QINI_u*p4_1) - TR_uplift)/m\n",
    "    #Qini & TR for uplift prediction\n",
    "    PU_profit = ((QINI_p*p4_1) - RT_predicted)/m\n",
    "    #Append to list\n",
    "    CP_list.append(pd.Series([((i+1)/10), QINI_c, TR_churn, CP_profit], index=CPMPU.columns))  \n",
    "    CU_list.append(pd.Series([((i+1)/10), QINI_u, TR_uplift, CU_profit], index=CUMPU.columns))\n",
    "    PU_list.append(pd.Series([((i+1)/10), QINI_p, RT_predicted, PU_profit], index=CUMPU.columns))\n",
    "    \n",
    "    \n",
    "# append list into dataframe    \n",
    "QU = QU.append(QU_list , ignore_index=True)\n",
    "QC = QC.append(QC_list , ignore_index=True)\n",
    "QP = QP.append(QP_list , ignore_index=True)\n",
    "# add q0 into dataframe for Qini Curve\n",
    "q0 = pd.DataFrame({'n':0, 'uplift':0}, index =[0])\n",
    "QU = pd.concat([q0, QU]).reset_index(drop = True)\n",
    "QC = pd.concat([q0, QC]).reset_index(drop = True)\n",
    "QP = pd.concat([q0, QP]).reset_index(drop = True)\n",
    "\n",
    "# append MPU list into dataframe    \n",
    "CPMPU = CPMPU.append(CP_list , ignore_index=True)\n",
    "CUMPU = CUMPU.append(CU_list , ignore_index=True)\n",
    "PUMPU = PUMPU.append(PU_list , ignore_index=True)\n",
    "# add q0 into MPU dataframe\n",
    "q0 = pd.DataFrame({'n':0, 'mpu':0}, index =[0])\n",
    "CPMPU = pd.concat([q0, CPMPU]).reset_index(drop = True)\n",
    "CUMPU = pd.concat([q0, CUMPU]).reset_index(drop = True)\n",
    "PUMPU = pd.concat([q0, PUMPU]).reset_index(drop = True)"
   ]
  },
  {
   "cell_type": "code",
   "execution_count": null,
   "metadata": {
    "scrolled": true
   },
   "outputs": [],
   "source": [
    "CPMPU['Churn Prediction MPU'] = CPMPU['mpu']\n",
    "CPMPU['Uplift Prediction MPU'] = CUMPU['mpu']\n",
    "CPMPU['Predicted Uplift MPU'] = PUMPU['mpu'] \n",
    "CPMPU = CPMPU.drop(['mpu', 'QINI', 'TR'], axis=1)\n",
    "CPMPU"
   ]
  },
  {
   "cell_type": "code",
   "execution_count": null,
   "metadata": {},
   "outputs": [],
   "source": [
    "sns.lineplot(x=CPMPU.n, y=CPMPU['Churn Prediction MPU'], label='Churn Prediction', color='blue')\n",
    "sns.lineplot(x=CPMPU.n, y=CPMPU['Uplift Prediction MPU'], label='Uplift Modelling', color='red')\n",
    "# sns.lineplot(x=CPMPU.n, y=CPMPU['Predicted Uplift MPU'], label='Predicted Uplift Modelling', color='green')\n",
    "\n",
    "sns.set_style(\"whitegrid\")\n",
    "plt.title('Maximum Profit Uplift',fontsize=20)\n",
    "plt.ylabel('profit per employee (pc pt)',fontsize=15)\n",
    "plt.xlabel('Proportion of Population Targeted',fontsize=15)\n",
    "plt.subplots_adjust(right=1.5)\n",
    "plt.subplots_adjust(top=1.5)"
   ]
  },
  {
   "cell_type": "code",
   "execution_count": null,
   "metadata": {},
   "outputs": [],
   "source": [
    "QP = QP.rename(columns={\"uplift\": \"Predicted Uplift QINI\"})\n",
    "QP['Actual Uplift QINI'] = QU['uplift']\n",
    "QP['Actual Churn QINI'] = QC['uplift']\n",
    "QP"
   ]
  },
  {
   "cell_type": "code",
   "execution_count": null,
   "metadata": {},
   "outputs": [],
   "source": [
    "random = np.linspace(QP['Predicted Uplift QINI'][0],QP['Predicted Uplift QINI'][j],j+1)\n",
    "sns.lineplot(x=QP.n, y=random)\n",
    "sns.lineplot(x=QP.n, y=QP['Predicted Uplift QINI'], label=\"Uplift Qini Prediction\", color=\"green\")\n",
    "sns.set_style(\"whitegrid\")\n",
    "plt.title('Predicted QINI Curve',fontsize=20)\n",
    "plt.ylabel('Cumulative Uplift (pc pt)',fontsize=15)\n",
    "plt.xlabel('Proportion of Population Targeted',fontsize=15)\n",
    "plt.subplots_adjust(right=1.5)\n",
    "plt.subplots_adjust(top=1.5)"
   ]
  },
  {
   "cell_type": "code",
   "execution_count": null,
   "metadata": {},
   "outputs": [],
   "source": [
    "random = np.linspace(QP['Actual Uplift QINI'][0],QP['Actual Uplift QINI'][10],j+1)\n",
    "sns.lineplot(x=QP.n, y=random)\n",
    "sns.lineplot(x=QC.n, y=QC.uplift, label=\"Churn Prediction\", color=\"blue\")\n",
    "sns.lineplot(x=QU.n, y=QU.uplift, label=\"Uplift Prediction\", color=\"red\")\n",
    "sns.set_style(\"whitegrid\")\n",
    "plt.title('Actual QINI Curve',fontsize=20)\n",
    "plt.ylabel('Cumulative Uplift (pc pt)',fontsize=15)\n",
    "plt.xlabel('Proportion of Population Targeted',fontsize=15)\n",
    "plt.subplots_adjust(right=1.5)\n",
    "plt.subplots_adjust(top=1.5)"
   ]
  },
  {
   "cell_type": "markdown",
   "metadata": {},
   "source": [
    "<h2>Pylift"
   ]
  },
  {
   "cell_type": "code",
   "execution_count": null,
   "metadata": {},
   "outputs": [],
   "source": [
    "df_data_pylift = df_model.copy()\n",
    "df_data_pylift.drop(['target_class'], axis=1)\n",
    "df_data_pylift"
   ]
  },
  {
   "cell_type": "markdown",
   "metadata": {},
   "source": [
    "pylift modelling"
   ]
  },
  {
   "cell_type": "code",
   "execution_count": null,
   "metadata": {},
   "outputs": [],
   "source": [
    "up = TransformedOutcome(df_model, col_treatment=treat, col_outcome='Stay')"
   ]
  },
  {
   "cell_type": "code",
   "execution_count": null,
   "metadata": {
    "scrolled": false
   },
   "outputs": [],
   "source": [
    "up.randomized_search(n_iter=20, n_jobs=10, random_state=46)"
   ]
  },
  {
   "cell_type": "code",
   "execution_count": null,
   "metadata": {},
   "outputs": [],
   "source": [
    "up.fit(**up.rand_search_.best_params_)"
   ]
  },
  {
   "cell_type": "code",
   "execution_count": null,
   "metadata": {
    "scrolled": false
   },
   "outputs": [],
   "source": [
    "up.plot(plot_type='cuplift')"
   ]
  },
  {
   "cell_type": "code",
   "execution_count": null,
   "metadata": {},
   "outputs": [],
   "source": [
    "up.test_results_.q1_cgains"
   ]
  },
  {
   "cell_type": "code",
   "execution_count": null,
   "metadata": {
    "scrolled": false
   },
   "outputs": [],
   "source": [
    "up.plot(plot_type='qini')"
   ]
  },
  {
   "cell_type": "code",
   "execution_count": null,
   "metadata": {
    "scrolled": true
   },
   "outputs": [],
   "source": [
    "up.shuffle_fit(params=up.rand_search_.best_params_, nthread=30, iterations=5);\n",
    "up.plot(show_shuffle_fits=True)"
   ]
  },
  {
   "cell_type": "code",
   "execution_count": null,
   "metadata": {
    "scrolled": true
   },
   "outputs": [],
   "source": [
    "up.plot(show_theoretical_max=True, show_practical_max=True, show_no_dogs=True)"
   ]
  },
  {
   "cell_type": "markdown",
   "metadata": {},
   "source": [
    "<h1>Causal Lift"
   ]
  },
  {
   "cell_type": "code",
   "execution_count": null,
   "metadata": {},
   "outputs": [],
   "source": [
    "def calc_cumulative_gains(df: pd.DataFrame, actual_col: str, predicted_col:str, probability_col:str):\n",
    "    df.sort_values(by=probability_col, ascending=False, inplace=True)\n",
    "\n",
    "    subset = df[df[predicted_col] == True]\n",
    "\n",
    "    rows = []\n",
    "    for group in np.array_split(subset, 10):\n",
    "        score = sklearn.metrics.accuracy_score(group[actual_col].tolist(),\n",
    "                                                   group[predicted_col].tolist(),\n",
    "                                                   normalize=False)\n",
    "\n",
    "        rows.append({'NumCases': len(group), 'NumCorrectPredictions': score})\n",
    "\n",
    "    lift = pd.DataFrame(rows)\n",
    "\n",
    "    #Cumulative Gains Calculation\n",
    "    lift['RunningCorrect'] = lift['NumCorrectPredictions'].cumsum()\n",
    "    lift['PercentCorrect'] = lift.apply(\n",
    "        lambda x: (100 / lift['NumCorrectPredictions'].sum()) * x['RunningCorrect'], axis=1)\n",
    "    lift['CumulativeCorrectBestCase'] = lift['NumCases'].cumsum()\n",
    "    lift['PercentCorrectBestCase'] = lift['CumulativeCorrectBestCase'].apply(\n",
    "        lambda x: 100 if (100 / lift['NumCorrectPredictions'].sum()) * x > 100 else (100 / lift[\n",
    "            'NumCorrectPredictions'].sum()) * x)\n",
    "    lift['AvgCase'] = lift['NumCorrectPredictions'].sum() / len(lift)\n",
    "    lift['CumulativeAvgCase'] = lift['AvgCase'].cumsum()\n",
    "    lift['PercentAvgCase'] = lift['CumulativeAvgCase'].apply(\n",
    "        lambda x: (100 / lift['NumCorrectPredictions'].sum()) * x)\n",
    "\n",
    "    #Lift Chart\n",
    "    lift['NormalisedPercentAvg'] = 1\n",
    "    lift['NormalisedPercentWithModel'] = lift['PercentCorrect'] / lift['PercentAvgCase']\n",
    "\n",
    "    return lift"
   ]
  },
  {
   "cell_type": "code",
   "execution_count": null,
   "metadata": {
    "scrolled": true
   },
   "outputs": [],
   "source": [
    "cum_lift = calc_cumulative_gains(df_data_churn, 'Stay', 'p_stay', 'stay_score')\n",
    "cum_lift"
   ]
  },
  {
   "cell_type": "code",
   "execution_count": null,
   "metadata": {
    "scrolled": false
   },
   "outputs": [],
   "source": [
    "sns.lineplot(x='PercentAvgCase',y='PercentCorrectBestCase',data=cum_lift, label=\"Best Case (for current model)\")\n",
    "sns.lineplot(x='PercentAvgCase',y='PercentAvgCase',data=cum_lift, label=\"Average Case (for current model)\")"
   ]
  },
  {
   "cell_type": "code",
   "execution_count": null,
   "metadata": {
    "scrolled": true
   },
   "outputs": [],
   "source": [
    "sns.lineplot(x='PercentAvgCase',y='NormalisedPercentWithModel',data=cum_lift, label=\"Normalised Respond Rate With Model\")\n",
    "sns.lineplot(x='PercentAvgCase',y='NormalisedPercentAvg',data=cum_lift, label=\"Normalised Respond Rate Avg\")"
   ]
  },
  {
   "cell_type": "code",
   "execution_count": null,
   "metadata": {
    "scrolled": false
   },
   "outputs": [],
   "source": [
    "cum_uplift = calc_cumulative_gains(df_data_uplift, 'target_class', 'p_target', 'uplift_score')\n",
    "cum_uplift"
   ]
  },
  {
   "cell_type": "code",
   "execution_count": null,
   "metadata": {
    "scrolled": false
   },
   "outputs": [],
   "source": [
    "sns.lineplot(x='PercentAvgCase',y='PercentCorrectBestCase',data=cum_uplift, label=\"Best Case (for current model)\")\n",
    "sns.lineplot(x='PercentAvgCase',y='PercentAvgCase',data=cum_uplift, label=\"Average Case (for current model)\")"
   ]
  },
  {
   "cell_type": "code",
   "execution_count": null,
   "metadata": {
    "scrolled": true
   },
   "outputs": [],
   "source": [
    "sns.lineplot(x='PercentAvgCase',y='NormalisedPercentWithModel',data=cum_uplift, label=\"Normalised Respond Rate With Model\")\n",
    "sns.lineplot(x='PercentAvgCase',y='NormalisedPercentAvg',data=cum_uplift, label=\"Normalised Respond Rate Avg\")"
   ]
  },
  {
   "cell_type": "code",
   "execution_count": null,
   "metadata": {
    "scrolled": true
   },
   "outputs": [],
   "source": [
    "#create feature set and labels\n",
    "df_model_causal = df_model.drop(['target_class','p_stay','p_target'],axis=1)\n",
    "df_model_causal.rename(columns={treat:'Treatment','Stay':'Outcome'}, inplace=True)\n",
    "df_model_causal"
   ]
  },
  {
   "cell_type": "code",
   "execution_count": null,
   "metadata": {},
   "outputs": [],
   "source": [
    "#splitting train and test groups\n",
    "train_df, test_df = train_test_split(df_model_causal, test_size=0.2, random_state=42, stratify=df_model_causal['Treatment'])"
   ]
  },
  {
   "cell_type": "code",
   "execution_count": null,
   "metadata": {
    "scrolled": true
   },
   "outputs": [],
   "source": [
    "\"\"\" Step 0. Import CausalLift\n",
    "\"\"\"\n",
    "\n",
    "from causallift import CausalLift\n",
    "\n",
    "\"\"\" Step 1. Feed datasets and optionally compute estimated propensity scores\n",
    "using logistic regression if set enable_ipw = True.\n",
    "\"\"\"\n",
    "\n",
    "\n",
    "cl = CausalLift(train_df, test_df, enable_ipw=True, verbose=3)\n",
    "\n",
    "\"\"\" Step 2. Train 2 classification models (XGBoost) for treated and untreated\n",
    "samples independently and compute estimated CATE (Conditional Average Treatment\n",
    "Effect), ITE (Individual Treatment Effect), or uplift score.\n",
    "\"\"\"\n",
    "\n",
    "train_df, test_df = cl.estimate_cate_by_2_models()\n",
    "\n",
    "\"\"\" Step 3. Estimate how much conversion rate will increase by selecting treatment\n",
    "(campaign) targets as recommended by the uplift modeling.\n",
    "\"\"\"\n",
    "\n",
    "estimated_effect_df = cl.estimate_recommendation_impact()"
   ]
  },
  {
   "cell_type": "code",
   "execution_count": null,
   "metadata": {
    "scrolled": true
   },
   "outputs": [],
   "source": [
    "estimated_effect_df"
   ]
  }
 ],
 "metadata": {
  "kernelspec": {
   "display_name": "Python 3",
   "language": "python",
   "name": "python3"
  },
  "language_info": {
   "codemirror_mode": {
    "name": "ipython",
    "version": 3
   },
   "file_extension": ".py",
   "mimetype": "text/x-python",
   "name": "python",
   "nbconvert_exporter": "python",
   "pygments_lexer": "ipython3",
   "version": "3.7.6"
  }
 },
 "nbformat": 4,
 "nbformat_minor": 4
}
