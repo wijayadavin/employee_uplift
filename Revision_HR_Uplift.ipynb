{
 "cells": [
  {
   "cell_type": "markdown",
   "metadata": {},
   "source": [
    "<h1>A. Data Collection & Exploration"
   ]
  },
  {
   "cell_type": "markdown",
   "metadata": {},
   "source": [
    "<h2>Import libraries"
   ]
  },
  {
   "cell_type": "code",
   "execution_count": 1,
   "metadata": {},
   "outputs": [],
   "source": [
    "import numpy as np, matplotlib as mpl, matplotlib.pyplot as plt, pandas as pd\n",
    "import seaborn as sns\n",
    "%matplotlib inline\n",
    "import sklearn\n",
    "import xgboost as xgb\n",
    "from sklearn.model_selection import KFold, cross_val_score, train_test_split\n",
    "from mpl_toolkits import mplot3d\n",
    "from sklearn.preprocessing import LabelEncoder\n",
    "from pylift import TransformedOutcome\n",
    "from pylift.generate_data import dgp\n",
    "from pylift.eval import UpliftEval\n",
    "from sklearn.cluster import KMeans\n",
    "from statistics import mean\n",
    "import sklearn.metrics"
   ]
  },
  {
   "cell_type": "markdown",
   "metadata": {},
   "source": [
    "<h2>Import dataset"
   ]
  },
  {
   "cell_type": "code",
   "execution_count": 2,
   "metadata": {},
   "outputs": [],
   "source": [
    "df_data = pd.read_csv('HR_comma_sep.csv')\n",
    "df_data.index.name = \"id\"\n",
    "df_model = df_data.copy()"
   ]
  },
  {
   "cell_type": "markdown",
   "metadata": {},
   "source": [
    "<h2>Data exploratioin"
   ]
  },
  {
   "cell_type": "code",
   "execution_count": 3,
   "metadata": {
    "scrolled": true
   },
   "outputs": [
    {
     "data": {
      "text/html": [
       "<div>\n",
       "<style scoped>\n",
       "    .dataframe tbody tr th:only-of-type {\n",
       "        vertical-align: middle;\n",
       "    }\n",
       "\n",
       "    .dataframe tbody tr th {\n",
       "        vertical-align: top;\n",
       "    }\n",
       "\n",
       "    .dataframe thead th {\n",
       "        text-align: right;\n",
       "    }\n",
       "</style>\n",
       "<table border=\"1\" class=\"dataframe\">\n",
       "  <thead>\n",
       "    <tr style=\"text-align: right;\">\n",
       "      <th></th>\n",
       "      <th>satisfaction_level</th>\n",
       "      <th>last_evaluation</th>\n",
       "      <th>number_project</th>\n",
       "      <th>average_montly_hours</th>\n",
       "      <th>time_spend_company</th>\n",
       "      <th>Work_accident</th>\n",
       "      <th>left</th>\n",
       "      <th>promotion_last_5years</th>\n",
       "      <th>Department</th>\n",
       "      <th>salary</th>\n",
       "    </tr>\n",
       "    <tr>\n",
       "      <th>id</th>\n",
       "      <th></th>\n",
       "      <th></th>\n",
       "      <th></th>\n",
       "      <th></th>\n",
       "      <th></th>\n",
       "      <th></th>\n",
       "      <th></th>\n",
       "      <th></th>\n",
       "      <th></th>\n",
       "      <th></th>\n",
       "    </tr>\n",
       "  </thead>\n",
       "  <tbody>\n",
       "    <tr>\n",
       "      <th>0</th>\n",
       "      <td>0.38</td>\n",
       "      <td>0.53</td>\n",
       "      <td>2</td>\n",
       "      <td>157</td>\n",
       "      <td>3</td>\n",
       "      <td>0</td>\n",
       "      <td>1</td>\n",
       "      <td>0</td>\n",
       "      <td>sales</td>\n",
       "      <td>low</td>\n",
       "    </tr>\n",
       "    <tr>\n",
       "      <th>1</th>\n",
       "      <td>0.80</td>\n",
       "      <td>0.86</td>\n",
       "      <td>5</td>\n",
       "      <td>262</td>\n",
       "      <td>6</td>\n",
       "      <td>0</td>\n",
       "      <td>1</td>\n",
       "      <td>0</td>\n",
       "      <td>sales</td>\n",
       "      <td>medium</td>\n",
       "    </tr>\n",
       "    <tr>\n",
       "      <th>2</th>\n",
       "      <td>0.11</td>\n",
       "      <td>0.88</td>\n",
       "      <td>7</td>\n",
       "      <td>272</td>\n",
       "      <td>4</td>\n",
       "      <td>0</td>\n",
       "      <td>1</td>\n",
       "      <td>0</td>\n",
       "      <td>sales</td>\n",
       "      <td>medium</td>\n",
       "    </tr>\n",
       "    <tr>\n",
       "      <th>3</th>\n",
       "      <td>0.72</td>\n",
       "      <td>0.87</td>\n",
       "      <td>5</td>\n",
       "      <td>223</td>\n",
       "      <td>5</td>\n",
       "      <td>0</td>\n",
       "      <td>1</td>\n",
       "      <td>0</td>\n",
       "      <td>sales</td>\n",
       "      <td>low</td>\n",
       "    </tr>\n",
       "    <tr>\n",
       "      <th>4</th>\n",
       "      <td>0.37</td>\n",
       "      <td>0.52</td>\n",
       "      <td>2</td>\n",
       "      <td>159</td>\n",
       "      <td>3</td>\n",
       "      <td>0</td>\n",
       "      <td>1</td>\n",
       "      <td>0</td>\n",
       "      <td>sales</td>\n",
       "      <td>low</td>\n",
       "    </tr>\n",
       "  </tbody>\n",
       "</table>\n",
       "</div>"
      ],
      "text/plain": [
       "    satisfaction_level  last_evaluation  number_project  average_montly_hours  \\\n",
       "id                                                                              \n",
       "0                 0.38             0.53               2                   157   \n",
       "1                 0.80             0.86               5                   262   \n",
       "2                 0.11             0.88               7                   272   \n",
       "3                 0.72             0.87               5                   223   \n",
       "4                 0.37             0.52               2                   159   \n",
       "\n",
       "    time_spend_company  Work_accident  left  promotion_last_5years Department  \\\n",
       "id                                                                              \n",
       "0                    3              0     1                      0      sales   \n",
       "1                    6              0     1                      0      sales   \n",
       "2                    4              0     1                      0      sales   \n",
       "3                    5              0     1                      0      sales   \n",
       "4                    3              0     1                      0      sales   \n",
       "\n",
       "    salary  \n",
       "id          \n",
       "0      low  \n",
       "1   medium  \n",
       "2   medium  \n",
       "3      low  \n",
       "4      low  "
      ]
     },
     "execution_count": 3,
     "metadata": {},
     "output_type": "execute_result"
    }
   ],
   "source": [
    "pd.options.display.max_columns=100\n",
    "df_model.head()\n",
    "# df_model.Stay\n",
    "\n",
    "# for x in df_model.Stay:\n",
    "#     if df_model.Stay[x] != 0:\n",
    "#       print(df_model.Stay[x])\n",
    "#     else:\n",
    "#       message =\"no employee stay find!\";\n",
    "#       print(message)\n",
    "#       break;"
   ]
  },
  {
   "cell_type": "markdown",
   "metadata": {},
   "source": [
    "<h2>Define Cols"
   ]
  },
  {
   "cell_type": "code",
   "execution_count": 4,
   "metadata": {},
   "outputs": [],
   "source": [
    "#choose the single dependent variable (Positive Outcome)\n",
    "treat = 'promotion_last_5years'"
   ]
  },
  {
   "cell_type": "code",
   "execution_count": 5,
   "metadata": {},
   "outputs": [],
   "source": [
    "#choose the treatment variable\n",
    "target = \"left\""
   ]
  },
  {
   "cell_type": "code",
   "execution_count": 6,
   "metadata": {
    "scrolled": true
   },
   "outputs": [
    {
     "name": "stdout",
     "output_type": "stream",
     "text": [
      "<class 'pandas.core.frame.DataFrame'>\n",
      "RangeIndex: 14999 entries, 0 to 14998\n",
      "Data columns (total 10 columns):\n",
      " #   Column                 Non-Null Count  Dtype  \n",
      "---  ------                 --------------  -----  \n",
      " 0   satisfaction_level     14999 non-null  float64\n",
      " 1   last_evaluation        14999 non-null  float64\n",
      " 2   number_project         14999 non-null  int64  \n",
      " 3   average_montly_hours   14999 non-null  int64  \n",
      " 4   time_spend_company     14999 non-null  int64  \n",
      " 5   Work_accident          14999 non-null  int64  \n",
      " 6   left                   14999 non-null  int64  \n",
      " 7   promotion_last_5years  14999 non-null  int64  \n",
      " 8   Department             14999 non-null  object \n",
      " 9   salary                 14999 non-null  object \n",
      "dtypes: float64(2), int64(6), object(2)\n",
      "memory usage: 1.1+ MB\n"
     ]
    }
   ],
   "source": [
    "df_model.info()"
   ]
  },
  {
   "cell_type": "markdown",
   "metadata": {},
   "source": [
    "<h2>Check N-uniques for non-categorical data"
   ]
  },
  {
   "cell_type": "code",
   "execution_count": 7,
   "metadata": {
    "scrolled": false
   },
   "outputs": [],
   "source": [
    "#Checking uniques data in Department column\n",
    "object_cols = [col for col in df_data.columns if df_data[col].dtype != \"object\"]\n",
    "numbers = [[obj,df_data[obj].nunique()] for obj in object_cols]\n",
    "numbers_data = pd.DataFrame(numbers, columns = ['column', 'N-unique']) "
   ]
  },
  {
   "cell_type": "code",
   "execution_count": 8,
   "metadata": {
    "scrolled": true
   },
   "outputs": [
    {
     "data": {
      "text/html": [
       "<div>\n",
       "<style scoped>\n",
       "    .dataframe tbody tr th:only-of-type {\n",
       "        vertical-align: middle;\n",
       "    }\n",
       "\n",
       "    .dataframe tbody tr th {\n",
       "        vertical-align: top;\n",
       "    }\n",
       "\n",
       "    .dataframe thead th {\n",
       "        text-align: right;\n",
       "    }\n",
       "</style>\n",
       "<table border=\"1\" class=\"dataframe\">\n",
       "  <thead>\n",
       "    <tr style=\"text-align: right;\">\n",
       "      <th></th>\n",
       "      <th>column</th>\n",
       "      <th>N-unique</th>\n",
       "    </tr>\n",
       "  </thead>\n",
       "  <tbody>\n",
       "    <tr>\n",
       "      <th>3</th>\n",
       "      <td>average_montly_hours</td>\n",
       "      <td>215</td>\n",
       "    </tr>\n",
       "    <tr>\n",
       "      <th>0</th>\n",
       "      <td>satisfaction_level</td>\n",
       "      <td>92</td>\n",
       "    </tr>\n",
       "    <tr>\n",
       "      <th>1</th>\n",
       "      <td>last_evaluation</td>\n",
       "      <td>65</td>\n",
       "    </tr>\n",
       "    <tr>\n",
       "      <th>4</th>\n",
       "      <td>time_spend_company</td>\n",
       "      <td>8</td>\n",
       "    </tr>\n",
       "    <tr>\n",
       "      <th>2</th>\n",
       "      <td>number_project</td>\n",
       "      <td>6</td>\n",
       "    </tr>\n",
       "    <tr>\n",
       "      <th>5</th>\n",
       "      <td>Work_accident</td>\n",
       "      <td>2</td>\n",
       "    </tr>\n",
       "    <tr>\n",
       "      <th>6</th>\n",
       "      <td>left</td>\n",
       "      <td>2</td>\n",
       "    </tr>\n",
       "    <tr>\n",
       "      <th>7</th>\n",
       "      <td>promotion_last_5years</td>\n",
       "      <td>2</td>\n",
       "    </tr>\n",
       "  </tbody>\n",
       "</table>\n",
       "</div>"
      ],
      "text/plain": [
       "                  column  N-unique\n",
       "3   average_montly_hours       215\n",
       "0     satisfaction_level        92\n",
       "1        last_evaluation        65\n",
       "4     time_spend_company         8\n",
       "2         number_project         6\n",
       "5          Work_accident         2\n",
       "6                   left         2\n",
       "7  promotion_last_5years         2"
      ]
     },
     "execution_count": 8,
     "metadata": {},
     "output_type": "execute_result"
    }
   ],
   "source": [
    "numbers_data.sort_values(by='N-unique',ascending=False)"
   ]
  },
  {
   "cell_type": "markdown",
   "metadata": {},
   "source": [
    "<h2>Define Columns to Cluster</h2>\n",
    "Define column to cluster with high amount of N-Uniques"
   ]
  },
  {
   "cell_type": "code",
   "execution_count": 9,
   "metadata": {},
   "outputs": [],
   "source": [
    "#choose a column with hiearchy to be label encoded\n",
    "cluster_cols=['average_montly_hours']"
   ]
  },
  {
   "cell_type": "markdown",
   "metadata": {},
   "source": [
    "<h2>Check uniques for categorical data"
   ]
  },
  {
   "cell_type": "code",
   "execution_count": 10,
   "metadata": {
    "scrolled": true
   },
   "outputs": [
    {
     "name": "stdout",
     "output_type": "stream",
     "text": [
      "\n",
      " Department\n",
      "sales 4140\n",
      "accounting 767\n",
      "hr 739\n",
      "technical 2720\n",
      "support 2229\n",
      "management 630\n",
      "IT 1227\n",
      "product_mng 902\n",
      "marketing 858\n",
      "RandD 787\n",
      "\n",
      " salary\n",
      "low 7316\n",
      "medium 6446\n",
      "high 1237\n"
     ]
    }
   ],
   "source": [
    "#Checking uniques data in Department column\n",
    "object_cols = [col for col in df_data.columns if df_data[col].dtype == \"object\"]\n",
    "for obj in object_cols:\n",
    "    print('\\n', obj)\n",
    "    for unique in df_data[obj].unique():\n",
    "        print(\"{} {}\".format(unique,sum(df_data[obj] == unique)))"
   ]
  },
  {
   "cell_type": "markdown",
   "metadata": {},
   "source": [
    "<h2>Replace Yes or No to 1 or 0"
   ]
  },
  {
   "cell_type": "code",
   "execution_count": 11,
   "metadata": {},
   "outputs": [],
   "source": [
    "# df_model.Attrition.replace(to_replace = dict(Yes = 0, No = 1), inplace = True)\n",
    "# df_model.OverTime.replace(to_replace = dict(Yes = 0, No = 1), inplace = True)"
   ]
  },
  {
   "cell_type": "markdown",
   "metadata": {},
   "source": [
    "<h2>Rename Data"
   ]
  },
  {
   "cell_type": "code",
   "execution_count": 12,
   "metadata": {},
   "outputs": [
    {
     "data": {
      "text/html": [
       "<div>\n",
       "<style scoped>\n",
       "    .dataframe tbody tr th:only-of-type {\n",
       "        vertical-align: middle;\n",
       "    }\n",
       "\n",
       "    .dataframe tbody tr th {\n",
       "        vertical-align: top;\n",
       "    }\n",
       "\n",
       "    .dataframe thead th {\n",
       "        text-align: right;\n",
       "    }\n",
       "</style>\n",
       "<table border=\"1\" class=\"dataframe\">\n",
       "  <thead>\n",
       "    <tr style=\"text-align: right;\">\n",
       "      <th></th>\n",
       "      <th>promotion_last_5years</th>\n",
       "      <th>left</th>\n",
       "    </tr>\n",
       "    <tr>\n",
       "      <th>id</th>\n",
       "      <th></th>\n",
       "      <th></th>\n",
       "    </tr>\n",
       "  </thead>\n",
       "  <tbody>\n",
       "    <tr>\n",
       "      <th>0</th>\n",
       "      <td>0</td>\n",
       "      <td>1</td>\n",
       "    </tr>\n",
       "    <tr>\n",
       "      <th>1</th>\n",
       "      <td>0</td>\n",
       "      <td>1</td>\n",
       "    </tr>\n",
       "    <tr>\n",
       "      <th>2</th>\n",
       "      <td>0</td>\n",
       "      <td>1</td>\n",
       "    </tr>\n",
       "    <tr>\n",
       "      <th>3</th>\n",
       "      <td>0</td>\n",
       "      <td>1</td>\n",
       "    </tr>\n",
       "    <tr>\n",
       "      <th>4</th>\n",
       "      <td>0</td>\n",
       "      <td>1</td>\n",
       "    </tr>\n",
       "  </tbody>\n",
       "</table>\n",
       "</div>"
      ],
      "text/plain": [
       "    promotion_last_5years  left\n",
       "id                             \n",
       "0                       0     1\n",
       "1                       0     1\n",
       "2                       0     1\n",
       "3                       0     1\n",
       "4                       0     1"
      ]
     },
     "execution_count": 12,
     "metadata": {},
     "output_type": "execute_result"
    }
   ],
   "source": [
    "df_model[[treat,target]].head()"
   ]
  },
  {
   "cell_type": "code",
   "execution_count": 13,
   "metadata": {},
   "outputs": [
    {
     "data": {
      "text/plain": [
       "<matplotlib.axes._subplots.AxesSubplot at 0x1c5d2e16708>"
      ]
     },
     "execution_count": 13,
     "metadata": {},
     "output_type": "execute_result"
    },
    {
     "data": {
      "image/png": "[encoded data removed]",
      "text/plain": [
       "<Figure size 432x288 with 1 Axes>"
      ]
     },
     "metadata": {
      "needs_background": "light"
     },
     "output_type": "display_data"
    }
   ],
   "source": [
    "df_model = df_model.rename(columns={\"left\": \"Stay\"})\n",
    "df_model.Stay = df_model.Stay.replace({0:1, 1:0})\n",
    "sns.distplot(a=df_model.Stay, hist=True,kde=False)\n",
    "# df_model = df_model.rename(columns={\"promotion_last_5years\": \"NotOvertime\"})\n",
    "# treat = 'NotOvertime'\n"
   ]
  },
  {
   "cell_type": "code",
   "execution_count": 14,
   "metadata": {},
   "outputs": [
    {
     "data": {
      "text/plain": [
       "id\n",
       "0        0\n",
       "1        0\n",
       "2        0\n",
       "3        0\n",
       "4        0\n",
       "        ..\n",
       "14994    0\n",
       "14995    0\n",
       "14996    0\n",
       "14997    0\n",
       "14998    0\n",
       "Name: Stay, Length: 14999, dtype: int64"
      ]
     },
     "execution_count": 14,
     "metadata": {},
     "output_type": "execute_result"
    }
   ],
   "source": [
    "df_model.Stay"
   ]
  },
  {
   "cell_type": "markdown",
   "metadata": {},
   "source": [
    "<h2>Invert Target Value(Churn to Stay)"
   ]
  },
  {
   "cell_type": "code",
   "execution_count": 15,
   "metadata": {},
   "outputs": [],
   "source": [
    "# sns.distplot(a=df_model.Stay, hist=True,kde=False)"
   ]
  },
  {
   "cell_type": "code",
   "execution_count": 16,
   "metadata": {
    "scrolled": true
   },
   "outputs": [
    {
     "name": "stdout",
     "output_type": "stream",
     "text": [
      "B.6. Inverting data from column 'Stay':[0 0 0 0 0 0 0 0 0 0] ... \n",
      "Inverted result named 'stay':[1, 1, 1, 1, 1, 1, 1, 1, 1, 1] ... \n",
      "Column 'left' has been successfully replaced by new column 'stay'!\n"
     ]
    },
    {
     "data": {
      "text/plain": [
       "<matplotlib.axes._subplots.AxesSubplot at 0x1c5d2f7ee08>"
      ]
     },
     "execution_count": 16,
     "metadata": {},
     "output_type": "execute_result"
    },
    {
     "data": {
      "image/png": "[encoded data removed]",
      "text/plain": [
       "<Figure size 432x288 with 1 Axes>"
      ]
     },
     "metadata": {
      "needs_background": "light"
     },
     "output_type": "display_data"
    }
   ],
   "source": [
    "#setup the target column to be inverted and prepare empty array named inverted\n",
    "input_data = df_model.Stay\n",
    "inverted = []\n",
    "print (\"B.6. Inverting data from column '{}':{} ... \".format(input_data.name,df_model.Stay.values[:10]))\n",
    "\n",
    "#inverting through all datas in column\n",
    "for i in range(len(input_data)):\n",
    "    inverted.append(1 - input_data[i])\n",
    "print (\"Inverted result named 'stay':{} ... \".format(inverted[:10]) )\n",
    "\n",
    "#add new column stay and remove column left\n",
    "df_model['Stay']=inverted\n",
    "print (\"Column 'left' has been successfully replaced by new column 'stay'!\")\n",
    "\n",
    "#check the result\n",
    "sns.distplot(a=df_model.Stay, hist=True,kde=False)"
   ]
  },
  {
   "cell_type": "markdown",
   "metadata": {},
   "source": [
    "<h2>Define columns to Label encode"
   ]
  },
  {
   "cell_type": "code",
   "execution_count": 17,
   "metadata": {
    "scrolled": true
   },
   "outputs": [
    {
     "data": {
      "text/html": [
       "<div>\n",
       "<style scoped>\n",
       "    .dataframe tbody tr th:only-of-type {\n",
       "        vertical-align: middle;\n",
       "    }\n",
       "\n",
       "    .dataframe tbody tr th {\n",
       "        vertical-align: top;\n",
       "    }\n",
       "\n",
       "    .dataframe thead th {\n",
       "        text-align: right;\n",
       "    }\n",
       "</style>\n",
       "<table border=\"1\" class=\"dataframe\">\n",
       "  <thead>\n",
       "    <tr style=\"text-align: right;\">\n",
       "      <th></th>\n",
       "      <th>satisfaction_level</th>\n",
       "      <th>last_evaluation</th>\n",
       "      <th>number_project</th>\n",
       "      <th>average_montly_hours</th>\n",
       "      <th>time_spend_company</th>\n",
       "      <th>Work_accident</th>\n",
       "      <th>Stay</th>\n",
       "      <th>promotion_last_5years</th>\n",
       "      <th>Department</th>\n",
       "      <th>salary</th>\n",
       "    </tr>\n",
       "    <tr>\n",
       "      <th>id</th>\n",
       "      <th></th>\n",
       "      <th></th>\n",
       "      <th></th>\n",
       "      <th></th>\n",
       "      <th></th>\n",
       "      <th></th>\n",
       "      <th></th>\n",
       "      <th></th>\n",
       "      <th></th>\n",
       "      <th></th>\n",
       "    </tr>\n",
       "  </thead>\n",
       "  <tbody>\n",
       "    <tr>\n",
       "      <th>0</th>\n",
       "      <td>0.38</td>\n",
       "      <td>0.53</td>\n",
       "      <td>2</td>\n",
       "      <td>157</td>\n",
       "      <td>3</td>\n",
       "      <td>0</td>\n",
       "      <td>1</td>\n",
       "      <td>0</td>\n",
       "      <td>sales</td>\n",
       "      <td>low</td>\n",
       "    </tr>\n",
       "    <tr>\n",
       "      <th>1</th>\n",
       "      <td>0.80</td>\n",
       "      <td>0.86</td>\n",
       "      <td>5</td>\n",
       "      <td>262</td>\n",
       "      <td>6</td>\n",
       "      <td>0</td>\n",
       "      <td>1</td>\n",
       "      <td>0</td>\n",
       "      <td>sales</td>\n",
       "      <td>medium</td>\n",
       "    </tr>\n",
       "    <tr>\n",
       "      <th>2</th>\n",
       "      <td>0.11</td>\n",
       "      <td>0.88</td>\n",
       "      <td>7</td>\n",
       "      <td>272</td>\n",
       "      <td>4</td>\n",
       "      <td>0</td>\n",
       "      <td>1</td>\n",
       "      <td>0</td>\n",
       "      <td>sales</td>\n",
       "      <td>medium</td>\n",
       "    </tr>\n",
       "    <tr>\n",
       "      <th>3</th>\n",
       "      <td>0.72</td>\n",
       "      <td>0.87</td>\n",
       "      <td>5</td>\n",
       "      <td>223</td>\n",
       "      <td>5</td>\n",
       "      <td>0</td>\n",
       "      <td>1</td>\n",
       "      <td>0</td>\n",
       "      <td>sales</td>\n",
       "      <td>low</td>\n",
       "    </tr>\n",
       "    <tr>\n",
       "      <th>4</th>\n",
       "      <td>0.37</td>\n",
       "      <td>0.52</td>\n",
       "      <td>2</td>\n",
       "      <td>159</td>\n",
       "      <td>3</td>\n",
       "      <td>0</td>\n",
       "      <td>1</td>\n",
       "      <td>0</td>\n",
       "      <td>sales</td>\n",
       "      <td>low</td>\n",
       "    </tr>\n",
       "  </tbody>\n",
       "</table>\n",
       "</div>"
      ],
      "text/plain": [
       "    satisfaction_level  last_evaluation  number_project  average_montly_hours  \\\n",
       "id                                                                              \n",
       "0                 0.38             0.53               2                   157   \n",
       "1                 0.80             0.86               5                   262   \n",
       "2                 0.11             0.88               7                   272   \n",
       "3                 0.72             0.87               5                   223   \n",
       "4                 0.37             0.52               2                   159   \n",
       "\n",
       "    time_spend_company  Work_accident  Stay  promotion_last_5years Department  \\\n",
       "id                                                                              \n",
       "0                    3              0     1                      0      sales   \n",
       "1                    6              0     1                      0      sales   \n",
       "2                    4              0     1                      0      sales   \n",
       "3                    5              0     1                      0      sales   \n",
       "4                    3              0     1                      0      sales   \n",
       "\n",
       "    salary  \n",
       "id          \n",
       "0      low  \n",
       "1   medium  \n",
       "2   medium  \n",
       "3      low  \n",
       "4      low  "
      ]
     },
     "execution_count": 17,
     "metadata": {},
     "output_type": "execute_result"
    }
   ],
   "source": [
    "# df_model[object_cols].head()\n",
    "df_model.head()"
   ]
  },
  {
   "cell_type": "code",
   "execution_count": 18,
   "metadata": {},
   "outputs": [],
   "source": [
    "#choose a column with wide range to be clusterred\n",
    "label_cols = ['salary']"
   ]
  },
  {
   "cell_type": "markdown",
   "metadata": {},
   "source": [
    "<h1>B. Data Preprocessing"
   ]
  },
  {
   "cell_type": "markdown",
   "metadata": {},
   "source": [
    "<h2>Label encoding hierarchy columns"
   ]
  },
  {
   "cell_type": "code",
   "execution_count": 19,
   "metadata": {},
   "outputs": [
    {
     "name": "stdout",
     "output_type": "stream",
     "text": [
      "label encoding columns: ['salary']\n",
      ">>label encoding finished\n"
     ]
    },
    {
     "data": {
      "text/html": [
       "<div>\n",
       "<style scoped>\n",
       "    .dataframe tbody tr th:only-of-type {\n",
       "        vertical-align: middle;\n",
       "    }\n",
       "\n",
       "    .dataframe tbody tr th {\n",
       "        vertical-align: top;\n",
       "    }\n",
       "\n",
       "    .dataframe thead th {\n",
       "        text-align: right;\n",
       "    }\n",
       "</style>\n",
       "<table border=\"1\" class=\"dataframe\">\n",
       "  <thead>\n",
       "    <tr style=\"text-align: right;\">\n",
       "      <th></th>\n",
       "      <th>salary</th>\n",
       "    </tr>\n",
       "    <tr>\n",
       "      <th>id</th>\n",
       "      <th></th>\n",
       "    </tr>\n",
       "  </thead>\n",
       "  <tbody>\n",
       "    <tr>\n",
       "      <th>0</th>\n",
       "      <td>1</td>\n",
       "    </tr>\n",
       "    <tr>\n",
       "      <th>1</th>\n",
       "      <td>2</td>\n",
       "    </tr>\n",
       "    <tr>\n",
       "      <th>2</th>\n",
       "      <td>2</td>\n",
       "    </tr>\n",
       "    <tr>\n",
       "      <th>3</th>\n",
       "      <td>1</td>\n",
       "    </tr>\n",
       "    <tr>\n",
       "      <th>4</th>\n",
       "      <td>1</td>\n",
       "    </tr>\n",
       "  </tbody>\n",
       "</table>\n",
       "</div>"
      ],
      "text/plain": [
       "    salary\n",
       "id        \n",
       "0        1\n",
       "1        2\n",
       "2        2\n",
       "3        1\n",
       "4        1"
      ]
     },
     "execution_count": 19,
     "metadata": {},
     "output_type": "execute_result"
    }
   ],
   "source": [
    "#Label encoding\n",
    "print(\"label encoding columns:\",label_cols)\n",
    "label_encoder = LabelEncoder()\n",
    "for col in label_cols:\n",
    "    df_model[col] = label_encoder.fit_transform(df_data[col])\n",
    "    df_model[col] = label_encoder.transform(df_data[col])\n",
    "print(\">>label encoding finished\")\n",
    "df_model[label_cols].head()"
   ]
  },
  {
   "cell_type": "markdown",
   "metadata": {},
   "source": [
    "<h2>Data cleaning"
   ]
  },
  {
   "cell_type": "code",
   "execution_count": 20,
   "metadata": {
    "scrolled": true
   },
   "outputs": [
    {
     "data": {
      "text/html": [
       "<div>\n",
       "<style scoped>\n",
       "    .dataframe tbody tr th:only-of-type {\n",
       "        vertical-align: middle;\n",
       "    }\n",
       "\n",
       "    .dataframe tbody tr th {\n",
       "        vertical-align: top;\n",
       "    }\n",
       "\n",
       "    .dataframe thead th {\n",
       "        text-align: right;\n",
       "    }\n",
       "</style>\n",
       "<table border=\"1\" class=\"dataframe\">\n",
       "  <thead>\n",
       "    <tr style=\"text-align: right;\">\n",
       "      <th></th>\n",
       "      <th>satisfaction_level</th>\n",
       "      <th>last_evaluation</th>\n",
       "      <th>number_project</th>\n",
       "      <th>average_montly_hours</th>\n",
       "      <th>time_spend_company</th>\n",
       "      <th>Work_accident</th>\n",
       "      <th>Stay</th>\n",
       "      <th>promotion_last_5years</th>\n",
       "      <th>Department</th>\n",
       "      <th>salary</th>\n",
       "    </tr>\n",
       "    <tr>\n",
       "      <th>id</th>\n",
       "      <th></th>\n",
       "      <th></th>\n",
       "      <th></th>\n",
       "      <th></th>\n",
       "      <th></th>\n",
       "      <th></th>\n",
       "      <th></th>\n",
       "      <th></th>\n",
       "      <th></th>\n",
       "      <th></th>\n",
       "    </tr>\n",
       "  </thead>\n",
       "  <tbody>\n",
       "    <tr>\n",
       "      <th>0</th>\n",
       "      <td>0.38</td>\n",
       "      <td>0.53</td>\n",
       "      <td>2</td>\n",
       "      <td>157</td>\n",
       "      <td>3</td>\n",
       "      <td>0</td>\n",
       "      <td>1</td>\n",
       "      <td>0</td>\n",
       "      <td>sales</td>\n",
       "      <td>1</td>\n",
       "    </tr>\n",
       "    <tr>\n",
       "      <th>1</th>\n",
       "      <td>0.80</td>\n",
       "      <td>0.86</td>\n",
       "      <td>5</td>\n",
       "      <td>262</td>\n",
       "      <td>6</td>\n",
       "      <td>0</td>\n",
       "      <td>1</td>\n",
       "      <td>0</td>\n",
       "      <td>sales</td>\n",
       "      <td>2</td>\n",
       "    </tr>\n",
       "    <tr>\n",
       "      <th>2</th>\n",
       "      <td>0.11</td>\n",
       "      <td>0.88</td>\n",
       "      <td>7</td>\n",
       "      <td>272</td>\n",
       "      <td>4</td>\n",
       "      <td>0</td>\n",
       "      <td>1</td>\n",
       "      <td>0</td>\n",
       "      <td>sales</td>\n",
       "      <td>2</td>\n",
       "    </tr>\n",
       "    <tr>\n",
       "      <th>3</th>\n",
       "      <td>0.72</td>\n",
       "      <td>0.87</td>\n",
       "      <td>5</td>\n",
       "      <td>223</td>\n",
       "      <td>5</td>\n",
       "      <td>0</td>\n",
       "      <td>1</td>\n",
       "      <td>0</td>\n",
       "      <td>sales</td>\n",
       "      <td>1</td>\n",
       "    </tr>\n",
       "    <tr>\n",
       "      <th>4</th>\n",
       "      <td>0.37</td>\n",
       "      <td>0.52</td>\n",
       "      <td>2</td>\n",
       "      <td>159</td>\n",
       "      <td>3</td>\n",
       "      <td>0</td>\n",
       "      <td>1</td>\n",
       "      <td>0</td>\n",
       "      <td>sales</td>\n",
       "      <td>1</td>\n",
       "    </tr>\n",
       "  </tbody>\n",
       "</table>\n",
       "</div>"
      ],
      "text/plain": [
       "    satisfaction_level  last_evaluation  number_project  average_montly_hours  \\\n",
       "id                                                                              \n",
       "0                 0.38             0.53               2                   157   \n",
       "1                 0.80             0.86               5                   262   \n",
       "2                 0.11             0.88               7                   272   \n",
       "3                 0.72             0.87               5                   223   \n",
       "4                 0.37             0.52               2                   159   \n",
       "\n",
       "    time_spend_company  Work_accident  Stay  promotion_last_5years Department  \\\n",
       "id                                                                              \n",
       "0                    3              0     1                      0      sales   \n",
       "1                    6              0     1                      0      sales   \n",
       "2                    4              0     1                      0      sales   \n",
       "3                    5              0     1                      0      sales   \n",
       "4                    3              0     1                      0      sales   \n",
       "\n",
       "    salary  \n",
       "id          \n",
       "0        1  \n",
       "1        2  \n",
       "2        2  \n",
       "3        1  \n",
       "4        1  "
      ]
     },
     "execution_count": 20,
     "metadata": {},
     "output_type": "execute_result"
    }
   ],
   "source": [
    "df_model.head()"
   ]
  },
  {
   "cell_type": "code",
   "execution_count": 21,
   "metadata": {},
   "outputs": [],
   "source": [
    "#DROP unused columns\n",
    "# df_model = df_model.drop(['Over18','StandardHours','StockOptionLevel','EmployeeCount','EmployeeNumber'],axis=1)"
   ]
  },
  {
   "cell_type": "markdown",
   "metadata": {},
   "source": [
    "<h2>Cluster & One Hot Encoding"
   ]
  },
  {
   "cell_type": "code",
   "execution_count": 22,
   "metadata": {},
   "outputs": [],
   "source": [
    "#function to order clusters\n",
    "def order_cluster(cluster_field_name, target_field_name,df,ascending):\n",
    "    new_cluster_field_name = 'new_' + cluster_field_name\n",
    "    df_new = df.groupby(cluster_field_name)[target_field_name].mean().reset_index()\n",
    "    df_new = df_new.sort_values(by=target_field_name,ascending=ascending).reset_index(drop=True)\n",
    "    df_new['index'] = df_new.index\n",
    "    df_final = pd.merge(df,df_new[[cluster_field_name,'index']], on=cluster_field_name)\n",
    "    df_final = df_final.drop([cluster_field_name],axis=1)\n",
    "    df_final = df_final.rename(columns={\"index\":cluster_field_name})\n",
    "    return df_final"
   ]
  },
  {
   "cell_type": "code",
   "execution_count": 23,
   "metadata": {},
   "outputs": [
    {
     "name": "stdout",
     "output_type": "stream",
     "text": [
      "Clustering columns: ['average_montly_hours']\n",
      ">>Cluster succeeded!\n",
      "\n",
      "One Hot Encoding: ['satisfaction_level' 'last_evaluation' 'number_project'\n",
      " 'time_spend_company' 'Work_accident' 'Stay' 'promotion_last_5years'\n",
      " 'salary' 'average_montly_hours_cluster' 'Department_IT'\n",
      " 'Department_RandD' 'Department_accounting' 'Department_hr'\n",
      " 'Department_management' 'Department_marketing' 'Department_product_mng'\n",
      " 'Department_sales' 'Department_support' 'Department_technical']\n",
      ">>One Hot Encoding succeeded!\n"
     ]
    }
   ],
   "source": [
    "#preparing float columns to cluster\n",
    "print('Clustering columns:',cluster_cols)\n",
    "#creating the clusters\n",
    "for col in cluster_cols:\n",
    "    col_cluster = col + \"_cluster\"\n",
    "    kmeans = KMeans(n_clusters=5)\n",
    "    kmeans.fit(df_model[[col]])\n",
    "    df_model[col_cluster] = kmeans.predict(df_model[[col]])\n",
    "    #order the clusters\n",
    "    df_model = order_cluster(col_cluster, col, df_model, True)\n",
    "print('>>Cluster succeeded!')\n",
    "#dropping columns that have been clustered\n",
    "df_model = df_model.drop(cluster_cols,axis=1)\n",
    "\n",
    "#one hot encoding the rest columns\n",
    "dummies = pd.get_dummies(df_model)\n",
    "print(\"\\nOne Hot Encoding:\",dummies.columns.values)\n",
    "df_model = dummies\n",
    "print('>>One Hot Encoding succeeded!')"
   ]
  },
  {
   "cell_type": "code",
   "execution_count": 24,
   "metadata": {
    "scrolled": true
   },
   "outputs": [
    {
     "data": {
      "text/html": [
       "<div>\n",
       "<style scoped>\n",
       "    .dataframe tbody tr th:only-of-type {\n",
       "        vertical-align: middle;\n",
       "    }\n",
       "\n",
       "    .dataframe tbody tr th {\n",
       "        vertical-align: top;\n",
       "    }\n",
       "\n",
       "    .dataframe thead th {\n",
       "        text-align: right;\n",
       "    }\n",
       "</style>\n",
       "<table border=\"1\" class=\"dataframe\">\n",
       "  <thead>\n",
       "    <tr style=\"text-align: right;\">\n",
       "      <th></th>\n",
       "      <th>satisfaction_level</th>\n",
       "      <th>last_evaluation</th>\n",
       "      <th>number_project</th>\n",
       "      <th>time_spend_company</th>\n",
       "      <th>Work_accident</th>\n",
       "      <th>Stay</th>\n",
       "      <th>promotion_last_5years</th>\n",
       "      <th>salary</th>\n",
       "      <th>average_montly_hours_cluster</th>\n",
       "      <th>Department_IT</th>\n",
       "      <th>Department_RandD</th>\n",
       "      <th>Department_accounting</th>\n",
       "      <th>Department_hr</th>\n",
       "      <th>Department_management</th>\n",
       "      <th>Department_marketing</th>\n",
       "      <th>Department_product_mng</th>\n",
       "      <th>Department_sales</th>\n",
       "      <th>Department_support</th>\n",
       "      <th>Department_technical</th>\n",
       "    </tr>\n",
       "  </thead>\n",
       "  <tbody>\n",
       "    <tr>\n",
       "      <th>0</th>\n",
       "      <td>0.38</td>\n",
       "      <td>0.53</td>\n",
       "      <td>2</td>\n",
       "      <td>3</td>\n",
       "      <td>0</td>\n",
       "      <td>1</td>\n",
       "      <td>0</td>\n",
       "      <td>1</td>\n",
       "      <td>1</td>\n",
       "      <td>0</td>\n",
       "      <td>0</td>\n",
       "      <td>0</td>\n",
       "      <td>0</td>\n",
       "      <td>0</td>\n",
       "      <td>0</td>\n",
       "      <td>0</td>\n",
       "      <td>1</td>\n",
       "      <td>0</td>\n",
       "      <td>0</td>\n",
       "    </tr>\n",
       "    <tr>\n",
       "      <th>1</th>\n",
       "      <td>0.37</td>\n",
       "      <td>0.52</td>\n",
       "      <td>2</td>\n",
       "      <td>3</td>\n",
       "      <td>0</td>\n",
       "      <td>1</td>\n",
       "      <td>0</td>\n",
       "      <td>1</td>\n",
       "      <td>1</td>\n",
       "      <td>0</td>\n",
       "      <td>0</td>\n",
       "      <td>0</td>\n",
       "      <td>0</td>\n",
       "      <td>0</td>\n",
       "      <td>0</td>\n",
       "      <td>0</td>\n",
       "      <td>1</td>\n",
       "      <td>0</td>\n",
       "      <td>0</td>\n",
       "    </tr>\n",
       "    <tr>\n",
       "      <th>2</th>\n",
       "      <td>0.41</td>\n",
       "      <td>0.50</td>\n",
       "      <td>2</td>\n",
       "      <td>3</td>\n",
       "      <td>0</td>\n",
       "      <td>1</td>\n",
       "      <td>0</td>\n",
       "      <td>1</td>\n",
       "      <td>1</td>\n",
       "      <td>0</td>\n",
       "      <td>0</td>\n",
       "      <td>0</td>\n",
       "      <td>0</td>\n",
       "      <td>0</td>\n",
       "      <td>0</td>\n",
       "      <td>0</td>\n",
       "      <td>1</td>\n",
       "      <td>0</td>\n",
       "      <td>0</td>\n",
       "    </tr>\n",
       "    <tr>\n",
       "      <th>3</th>\n",
       "      <td>0.41</td>\n",
       "      <td>0.55</td>\n",
       "      <td>2</td>\n",
       "      <td>3</td>\n",
       "      <td>0</td>\n",
       "      <td>1</td>\n",
       "      <td>0</td>\n",
       "      <td>1</td>\n",
       "      <td>1</td>\n",
       "      <td>0</td>\n",
       "      <td>0</td>\n",
       "      <td>0</td>\n",
       "      <td>0</td>\n",
       "      <td>0</td>\n",
       "      <td>0</td>\n",
       "      <td>0</td>\n",
       "      <td>1</td>\n",
       "      <td>0</td>\n",
       "      <td>0</td>\n",
       "    </tr>\n",
       "    <tr>\n",
       "      <th>4</th>\n",
       "      <td>0.45</td>\n",
       "      <td>0.47</td>\n",
       "      <td>2</td>\n",
       "      <td>3</td>\n",
       "      <td>0</td>\n",
       "      <td>1</td>\n",
       "      <td>0</td>\n",
       "      <td>1</td>\n",
       "      <td>1</td>\n",
       "      <td>0</td>\n",
       "      <td>0</td>\n",
       "      <td>0</td>\n",
       "      <td>0</td>\n",
       "      <td>0</td>\n",
       "      <td>0</td>\n",
       "      <td>0</td>\n",
       "      <td>1</td>\n",
       "      <td>0</td>\n",
       "      <td>0</td>\n",
       "    </tr>\n",
       "    <tr>\n",
       "      <th>...</th>\n",
       "      <td>...</td>\n",
       "      <td>...</td>\n",
       "      <td>...</td>\n",
       "      <td>...</td>\n",
       "      <td>...</td>\n",
       "      <td>...</td>\n",
       "      <td>...</td>\n",
       "      <td>...</td>\n",
       "      <td>...</td>\n",
       "      <td>...</td>\n",
       "      <td>...</td>\n",
       "      <td>...</td>\n",
       "      <td>...</td>\n",
       "      <td>...</td>\n",
       "      <td>...</td>\n",
       "      <td>...</td>\n",
       "      <td>...</td>\n",
       "      <td>...</td>\n",
       "      <td>...</td>\n",
       "    </tr>\n",
       "    <tr>\n",
       "      <th>14994</th>\n",
       "      <td>0.25</td>\n",
       "      <td>0.46</td>\n",
       "      <td>4</td>\n",
       "      <td>4</td>\n",
       "      <td>0</td>\n",
       "      <td>1</td>\n",
       "      <td>0</td>\n",
       "      <td>2</td>\n",
       "      <td>2</td>\n",
       "      <td>0</td>\n",
       "      <td>0</td>\n",
       "      <td>0</td>\n",
       "      <td>0</td>\n",
       "      <td>0</td>\n",
       "      <td>0</td>\n",
       "      <td>0</td>\n",
       "      <td>0</td>\n",
       "      <td>0</td>\n",
       "      <td>1</td>\n",
       "    </tr>\n",
       "    <tr>\n",
       "      <th>14995</th>\n",
       "      <td>0.48</td>\n",
       "      <td>0.78</td>\n",
       "      <td>2</td>\n",
       "      <td>2</td>\n",
       "      <td>0</td>\n",
       "      <td>1</td>\n",
       "      <td>0</td>\n",
       "      <td>2</td>\n",
       "      <td>2</td>\n",
       "      <td>0</td>\n",
       "      <td>0</td>\n",
       "      <td>0</td>\n",
       "      <td>0</td>\n",
       "      <td>0</td>\n",
       "      <td>0</td>\n",
       "      <td>0</td>\n",
       "      <td>0</td>\n",
       "      <td>0</td>\n",
       "      <td>1</td>\n",
       "    </tr>\n",
       "    <tr>\n",
       "      <th>14996</th>\n",
       "      <td>0.80</td>\n",
       "      <td>0.83</td>\n",
       "      <td>2</td>\n",
       "      <td>3</td>\n",
       "      <td>0</td>\n",
       "      <td>1</td>\n",
       "      <td>0</td>\n",
       "      <td>1</td>\n",
       "      <td>2</td>\n",
       "      <td>0</td>\n",
       "      <td>0</td>\n",
       "      <td>0</td>\n",
       "      <td>0</td>\n",
       "      <td>0</td>\n",
       "      <td>0</td>\n",
       "      <td>0</td>\n",
       "      <td>0</td>\n",
       "      <td>1</td>\n",
       "      <td>0</td>\n",
       "    </tr>\n",
       "    <tr>\n",
       "      <th>14997</th>\n",
       "      <td>0.73</td>\n",
       "      <td>0.97</td>\n",
       "      <td>6</td>\n",
       "      <td>2</td>\n",
       "      <td>0</td>\n",
       "      <td>1</td>\n",
       "      <td>0</td>\n",
       "      <td>1</td>\n",
       "      <td>2</td>\n",
       "      <td>0</td>\n",
       "      <td>0</td>\n",
       "      <td>0</td>\n",
       "      <td>0</td>\n",
       "      <td>0</td>\n",
       "      <td>0</td>\n",
       "      <td>0</td>\n",
       "      <td>1</td>\n",
       "      <td>0</td>\n",
       "      <td>0</td>\n",
       "    </tr>\n",
       "    <tr>\n",
       "      <th>14998</th>\n",
       "      <td>0.90</td>\n",
       "      <td>0.70</td>\n",
       "      <td>5</td>\n",
       "      <td>4</td>\n",
       "      <td>0</td>\n",
       "      <td>1</td>\n",
       "      <td>0</td>\n",
       "      <td>1</td>\n",
       "      <td>2</td>\n",
       "      <td>0</td>\n",
       "      <td>0</td>\n",
       "      <td>0</td>\n",
       "      <td>0</td>\n",
       "      <td>0</td>\n",
       "      <td>0</td>\n",
       "      <td>0</td>\n",
       "      <td>0</td>\n",
       "      <td>0</td>\n",
       "      <td>1</td>\n",
       "    </tr>\n",
       "  </tbody>\n",
       "</table>\n",
       "<p>14999 rows × 19 columns</p>\n",
       "</div>"
      ],
      "text/plain": [
       "       satisfaction_level  last_evaluation  number_project  \\\n",
       "0                    0.38             0.53               2   \n",
       "1                    0.37             0.52               2   \n",
       "2                    0.41             0.50               2   \n",
       "3                    0.41             0.55               2   \n",
       "4                    0.45             0.47               2   \n",
       "...                   ...              ...             ...   \n",
       "14994                0.25             0.46               4   \n",
       "14995                0.48             0.78               2   \n",
       "14996                0.80             0.83               2   \n",
       "14997                0.73             0.97               6   \n",
       "14998                0.90             0.70               5   \n",
       "\n",
       "       time_spend_company  Work_accident  Stay  promotion_last_5years  salary  \\\n",
       "0                       3              0     1                      0       1   \n",
       "1                       3              0     1                      0       1   \n",
       "2                       3              0     1                      0       1   \n",
       "3                       3              0     1                      0       1   \n",
       "4                       3              0     1                      0       1   \n",
       "...                   ...            ...   ...                    ...     ...   \n",
       "14994                   4              0     1                      0       2   \n",
       "14995                   2              0     1                      0       2   \n",
       "14996                   3              0     1                      0       1   \n",
       "14997                   2              0     1                      0       1   \n",
       "14998                   4              0     1                      0       1   \n",
       "\n",
       "       average_montly_hours_cluster  Department_IT  Department_RandD  \\\n",
       "0                                 1              0                 0   \n",
       "1                                 1              0                 0   \n",
       "2                                 1              0                 0   \n",
       "3                                 1              0                 0   \n",
       "4                                 1              0                 0   \n",
       "...                             ...            ...               ...   \n",
       "14994                             2              0                 0   \n",
       "14995                             2              0                 0   \n",
       "14996                             2              0                 0   \n",
       "14997                             2              0                 0   \n",
       "14998                             2              0                 0   \n",
       "\n",
       "       Department_accounting  Department_hr  Department_management  \\\n",
       "0                          0              0                      0   \n",
       "1                          0              0                      0   \n",
       "2                          0              0                      0   \n",
       "3                          0              0                      0   \n",
       "4                          0              0                      0   \n",
       "...                      ...            ...                    ...   \n",
       "14994                      0              0                      0   \n",
       "14995                      0              0                      0   \n",
       "14996                      0              0                      0   \n",
       "14997                      0              0                      0   \n",
       "14998                      0              0                      0   \n",
       "\n",
       "       Department_marketing  Department_product_mng  Department_sales  \\\n",
       "0                         0                       0                 1   \n",
       "1                         0                       0                 1   \n",
       "2                         0                       0                 1   \n",
       "3                         0                       0                 1   \n",
       "4                         0                       0                 1   \n",
       "...                     ...                     ...               ...   \n",
       "14994                     0                       0                 0   \n",
       "14995                     0                       0                 0   \n",
       "14996                     0                       0                 0   \n",
       "14997                     0                       0                 1   \n",
       "14998                     0                       0                 0   \n",
       "\n",
       "       Department_support  Department_technical  \n",
       "0                       0                     0  \n",
       "1                       0                     0  \n",
       "2                       0                     0  \n",
       "3                       0                     0  \n",
       "4                       0                     0  \n",
       "...                   ...                   ...  \n",
       "14994                   0                     1  \n",
       "14995                   0                     1  \n",
       "14996                   1                     0  \n",
       "14997                   0                     0  \n",
       "14998                   0                     1  \n",
       "\n",
       "[14999 rows x 19 columns]"
      ]
     },
     "execution_count": 24,
     "metadata": {},
     "output_type": "execute_result"
    }
   ],
   "source": [
    "df_model"
   ]
  },
  {
   "cell_type": "markdown",
   "metadata": {},
   "source": [
    "<h2>Categorizing target class"
   ]
  },
  {
   "cell_type": "code",
   "execution_count": 25,
   "metadata": {},
   "outputs": [
    {
     "name": "stdout",
     "output_type": "stream",
     "text": [
      "Categorizing employees into: CN(0), CR(1), TN(2), and TR(3)\n",
      ">>Categorizing successfull!\n"
     ]
    },
    {
     "data": {
      "text/plain": [
       "<matplotlib.axes._subplots.AxesSubplot at 0x1c5d311fa48>"
      ]
     },
     "execution_count": 25,
     "metadata": {},
     "output_type": "execute_result"
    },
    {
     "data": {
      "image/png": "[encoded data removed]",
      "text/plain": [
       "<Figure size 432x288 with 1 Axes>"
      ]
     },
     "metadata": {
      "needs_background": "light"
     },
     "output_type": "display_data"
    }
   ],
   "source": [
    "print(\"Categorizing employees into: CN(0), CR(1), TN(2), and TR(3)\")\n",
    "#to get the CN employees we can simply set the basic value of all data in column target_class equal to 0 \n",
    "df_model['target_class'] = 0 #CN\n",
    "\n",
    "#after that we set CR employees with target_class equal to 1 \n",
    "df_model.loc[(df_model[treat] == 0) & (df_model.Stay > 0),'target_class'] = 1 #CR\n",
    "\n",
    "#after that we set TN employees with with target_class equal to 2\n",
    "df_model.loc[(df_model[treat] == 1) & (df_model.Stay == 0),'target_class'] = 2 #TN\n",
    "\n",
    "#after that we set TR employees with with target_class equal to 3\n",
    "df_model.loc[(df_model[treat] == 1) & (df_model.Stay > 0),'target_class'] = 3 #TR\n",
    "\n",
    "print(\">>Categorizing successfull!\")\n",
    "sns.distplot(a=df_model.target_class, kde=False)"
   ]
  },
  {
   "cell_type": "markdown",
   "metadata": {},
   "source": [
    "<h2>Explore data Correlation"
   ]
  },
  {
   "cell_type": "code",
   "execution_count": 26,
   "metadata": {
    "scrolled": false
   },
   "outputs": [],
   "source": [
    "#measure the correlation of Employee who stay\n",
    "pd.options.display.max_rows=100\n",
    "correlation = df_model.corr(method ='pearson') \n",
    "correlation = correlation.Stay.sort_values() * 100"
   ]
  },
  {
   "cell_type": "code",
   "execution_count": 27,
   "metadata": {},
   "outputs": [
    {
     "data": {
      "text/html": [
       "<div>\n",
       "<style scoped>\n",
       "    .dataframe tbody tr th:only-of-type {\n",
       "        vertical-align: middle;\n",
       "    }\n",
       "\n",
       "    .dataframe tbody tr th {\n",
       "        vertical-align: top;\n",
       "    }\n",
       "\n",
       "    .dataframe thead th {\n",
       "        text-align: right;\n",
       "    }\n",
       "</style>\n",
       "<table border=\"1\" class=\"dataframe\">\n",
       "  <thead>\n",
       "    <tr style=\"text-align: right;\">\n",
       "      <th></th>\n",
       "      <th>Stay</th>\n",
       "    </tr>\n",
       "  </thead>\n",
       "  <tbody>\n",
       "    <tr>\n",
       "      <th>satisfaction_level</th>\n",
       "      <td>-38.837498</td>\n",
       "    </tr>\n",
       "    <tr>\n",
       "      <th>Work_accident</th>\n",
       "      <td>-15.462163</td>\n",
       "    </tr>\n",
       "    <tr>\n",
       "      <th>promotion_last_5years</th>\n",
       "      <td>-6.178811</td>\n",
       "    </tr>\n",
       "    <tr>\n",
       "      <th>Department_RandD</th>\n",
       "      <td>-4.659565</td>\n",
       "    </tr>\n",
       "    <tr>\n",
       "      <th>Department_management</th>\n",
       "      <td>-4.603539</td>\n",
       "    </tr>\n",
       "    <tr>\n",
       "      <th>Department_product_mng</th>\n",
       "      <td>-1.102915</td>\n",
       "    </tr>\n",
       "    <tr>\n",
       "      <th>Department_IT</th>\n",
       "      <td>-1.092483</td>\n",
       "    </tr>\n",
       "    <tr>\n",
       "      <th>salary</th>\n",
       "      <td>-0.129372</td>\n",
       "    </tr>\n",
       "    <tr>\n",
       "      <th>Department_marketing</th>\n",
       "      <td>-0.085930</td>\n",
       "    </tr>\n",
       "    <tr>\n",
       "      <th>last_evaluation</th>\n",
       "      <td>0.656712</td>\n",
       "    </tr>\n",
       "    <tr>\n",
       "      <th>Department_sales</th>\n",
       "      <td>0.992341</td>\n",
       "    </tr>\n",
       "    <tr>\n",
       "      <th>Department_support</th>\n",
       "      <td>1.070012</td>\n",
       "    </tr>\n",
       "    <tr>\n",
       "      <th>Department_accounting</th>\n",
       "      <td>1.520115</td>\n",
       "    </tr>\n",
       "    <tr>\n",
       "      <th>Department_technical</th>\n",
       "      <td>2.007610</td>\n",
       "    </tr>\n",
       "    <tr>\n",
       "      <th>number_project</th>\n",
       "      <td>2.378719</td>\n",
       "    </tr>\n",
       "    <tr>\n",
       "      <th>Department_hr</th>\n",
       "      <td>2.824875</td>\n",
       "    </tr>\n",
       "    <tr>\n",
       "      <th>average_montly_hours_cluster</th>\n",
       "      <td>4.006228</td>\n",
       "    </tr>\n",
       "    <tr>\n",
       "      <th>time_spend_company</th>\n",
       "      <td>14.482217</td>\n",
       "    </tr>\n",
       "    <tr>\n",
       "      <th>target_class</th>\n",
       "      <td>81.701976</td>\n",
       "    </tr>\n",
       "    <tr>\n",
       "      <th>Stay</th>\n",
       "      <td>100.000000</td>\n",
       "    </tr>\n",
       "  </tbody>\n",
       "</table>\n",
       "</div>"
      ],
      "text/plain": [
       "                                    Stay\n",
       "satisfaction_level            -38.837498\n",
       "Work_accident                 -15.462163\n",
       "promotion_last_5years          -6.178811\n",
       "Department_RandD               -4.659565\n",
       "Department_management          -4.603539\n",
       "Department_product_mng         -1.102915\n",
       "Department_IT                  -1.092483\n",
       "salary                         -0.129372\n",
       "Department_marketing           -0.085930\n",
       "last_evaluation                 0.656712\n",
       "Department_sales                0.992341\n",
       "Department_support              1.070012\n",
       "Department_accounting           1.520115\n",
       "Department_technical            2.007610\n",
       "number_project                  2.378719\n",
       "Department_hr                   2.824875\n",
       "average_montly_hours_cluster    4.006228\n",
       "time_spend_company             14.482217\n",
       "target_class                   81.701976\n",
       "Stay                          100.000000"
      ]
     },
     "execution_count": 27,
     "metadata": {},
     "output_type": "execute_result"
    }
   ],
   "source": [
    "pd.DataFrame(correlation)"
   ]
  },
  {
   "cell_type": "markdown",
   "metadata": {},
   "source": [
    "<h2>Invert negative correlation(if available)"
   ]
  },
  {
   "cell_type": "markdown",
   "metadata": {},
   "source": [
    "<h2>Create new dataframe for churn and uplift"
   ]
  },
  {
   "cell_type": "code",
   "execution_count": 28,
   "metadata": {},
   "outputs": [
    {
     "name": "stdout",
     "output_type": "stream",
     "text": [
      "   target_class  Stay  promotion_last_5years\n",
      "0             1     1                      0\n",
      "1             1     1                      0\n",
      "2             1     1                      0\n",
      "3             1     1                      0\n",
      "4             1     1                      0\n"
     ]
    }
   ],
   "source": [
    "#duplicate result to df_data for calculating MP & MPU\n",
    "df_data_churn = df_model[['target_class','Stay',treat]]\n",
    "# df_data_lift = df_model.copy()\n",
    "df_data_uplift = df_model[['target_class','Stay',treat]]\n",
    "print(df_data_uplift.head())"
   ]
  },
  {
   "cell_type": "markdown",
   "metadata": {},
   "source": [
    "<h2>Predicting Target Class(Churn Uplift)"
   ]
  },
  {
   "cell_type": "code",
   "execution_count": 29,
   "metadata": {
    "scrolled": true
   },
   "outputs": [
    {
     "name": "stderr",
     "output_type": "stream",
     "text": [
      "C:\\Users\\HabbeybDS\\Anaconda3\\lib\\site-packages\\ipykernel_launcher.py:12: SettingWithCopyWarning: \n",
      "A value is trying to be set on a copy of a slice from a DataFrame.\n",
      "Try using .loc[row_indexer,col_indexer] = value instead\n",
      "\n",
      "See the caveats in the documentation: https://pandas.pydata.org/pandas-docs/stable/user_guide/indexing.html#returning-a-view-versus-a-copy\n",
      "  if sys.path[0] == '':\n",
      "C:\\Users\\HabbeybDS\\Anaconda3\\lib\\site-packages\\ipykernel_launcher.py:15: SettingWithCopyWarning: \n",
      "A value is trying to be set on a copy of a slice from a DataFrame.\n",
      "Try using .loc[row_indexer,col_indexer] = value instead\n",
      "\n",
      "See the caveats in the documentation: https://pandas.pydata.org/pandas-docs/stable/user_guide/indexing.html#returning-a-view-versus-a-copy\n",
      "  from ipykernel import kernelapp as app\n",
      "C:\\Users\\HabbeybDS\\Anaconda3\\lib\\site-packages\\ipykernel_launcher.py:16: SettingWithCopyWarning: \n",
      "A value is trying to be set on a copy of a slice from a DataFrame.\n",
      "Try using .loc[row_indexer,col_indexer] = value instead\n",
      "\n",
      "See the caveats in the documentation: https://pandas.pydata.org/pandas-docs/stable/user_guide/indexing.html#returning-a-view-versus-a-copy\n",
      "  app.launch_new_instance()\n",
      "C:\\Users\\HabbeybDS\\Anaconda3\\lib\\site-packages\\ipykernel_launcher.py:17: SettingWithCopyWarning: \n",
      "A value is trying to be set on a copy of a slice from a DataFrame.\n",
      "Try using .loc[row_indexer,col_indexer] = value instead\n",
      "\n",
      "See the caveats in the documentation: https://pandas.pydata.org/pandas-docs/stable/user_guide/indexing.html#returning-a-view-versus-a-copy\n",
      "C:\\Users\\HabbeybDS\\Anaconda3\\lib\\site-packages\\ipykernel_launcher.py:18: SettingWithCopyWarning: \n",
      "A value is trying to be set on a copy of a slice from a DataFrame.\n",
      "Try using .loc[row_indexer,col_indexer] = value instead\n",
      "\n",
      "See the caveats in the documentation: https://pandas.pydata.org/pandas-docs/stable/user_guide/indexing.html#returning-a-view-versus-a-copy\n",
      "C:\\Users\\HabbeybDS\\Anaconda3\\lib\\site-packages\\ipykernel_launcher.py:20: SettingWithCopyWarning: \n",
      "A value is trying to be set on a copy of a slice from a DataFrame.\n",
      "Try using .loc[row_indexer,col_indexer] = value instead\n",
      "\n",
      "See the caveats in the documentation: https://pandas.pydata.org/pandas-docs/stable/user_guide/indexing.html#returning-a-view-versus-a-copy\n",
      "C:\\Users\\HabbeybDS\\Anaconda3\\lib\\site-packages\\ipykernel_launcher.py:22: SettingWithCopyWarning: \n",
      "A value is trying to be set on a copy of a slice from a DataFrame.\n",
      "Try using .loc[row_indexer,col_indexer] = value instead\n",
      "\n",
      "See the caveats in the documentation: https://pandas.pydata.org/pandas-docs/stable/user_guide/indexing.html#returning-a-view-versus-a-copy\n"
     ]
    }
   ],
   "source": [
    "#create feature set and labels\n",
    "X = df_model.drop(['target_class',treat,'Stay'],axis=1)\n",
    "y = df_model.target_class\n",
    "#splitting train and test groups\n",
    "X_train, X_test, y_train, y_test = train_test_split(X, y, test_size=0.3, random_state=42)\n",
    "#fitting the model and predicting the probabilities using eXtreme Gradient Boosting\n",
    "xgb_model = xgb.XGBClassifier().fit(X_train, y_train)\n",
    "#Calculate probabilities for all customers using eXtreme Gradient Boost\n",
    "overall_predict = xgb_model.predict(df_model.drop(['target_class',treat,'Stay'],axis=1))\n",
    "overall_proba=xgb_model.predict_proba(df_model.drop(['target_class',treat,'Stay'],axis=1))\n",
    "# insert predicted target to uplift dataframe\n",
    "df_data_uplift['p_target'] = overall_predict\n",
    "df_model['p_target'] = overall_predict\n",
    "# assign probabilities to 4 different columns\n",
    "df_data_uplift['proba_CN'] = overall_proba[:,0] \n",
    "df_data_uplift['proba_CR'] = overall_proba[:,1] \n",
    "df_data_uplift['proba_TN'] = overall_proba[:,2] \n",
    "df_data_uplift['proba_TR'] = overall_proba[:,3]\n",
    "#calculate uplift score for all customers\n",
    "df_data_uplift['uplift_score'] = df_data_uplift.eval('proba_CN/(proba_CN+proba_CR) + proba_TR/(proba_TN+proba_TR) - proba_TN/(proba_TN+proba_TR) - proba_CR/(proba_CN+proba_CR)')\n",
    "#assign it back to main dataframe\n",
    "df_data_uplift['uplift_score'] = df_data_uplift['uplift_score']"
   ]
  },
  {
   "cell_type": "markdown",
   "metadata": {},
   "source": [
    "<h2>Predicting Target (Churn Prediction)"
   ]
  },
  {
   "cell_type": "code",
   "execution_count": 30,
   "metadata": {
    "scrolled": true
   },
   "outputs": [
    {
     "name": "stderr",
     "output_type": "stream",
     "text": [
      "C:\\Users\\HabbeybDS\\Anaconda3\\lib\\site-packages\\ipykernel_launcher.py:11: SettingWithCopyWarning: \n",
      "A value is trying to be set on a copy of a slice from a DataFrame.\n",
      "Try using .loc[row_indexer,col_indexer] = value instead\n",
      "\n",
      "See the caveats in the documentation: https://pandas.pydata.org/pandas-docs/stable/user_guide/indexing.html#returning-a-view-versus-a-copy\n",
      "  # This is added back by InteractiveShellApp.init_path()\n",
      "C:\\Users\\HabbeybDS\\Anaconda3\\lib\\site-packages\\ipykernel_launcher.py:13: SettingWithCopyWarning: \n",
      "A value is trying to be set on a copy of a slice from a DataFrame.\n",
      "Try using .loc[row_indexer,col_indexer] = value instead\n",
      "\n",
      "See the caveats in the documentation: https://pandas.pydata.org/pandas-docs/stable/user_guide/indexing.html#returning-a-view-versus-a-copy\n",
      "  del sys.path[0]\n",
      "C:\\Users\\HabbeybDS\\Anaconda3\\lib\\site-packages\\ipykernel_launcher.py:14: SettingWithCopyWarning: \n",
      "A value is trying to be set on a copy of a slice from a DataFrame.\n",
      "Try using .loc[row_indexer,col_indexer] = value instead\n",
      "\n",
      "See the caveats in the documentation: https://pandas.pydata.org/pandas-docs/stable/user_guide/indexing.html#returning-a-view-versus-a-copy\n",
      "  \n"
     ]
    }
   ],
   "source": [
    "#create feature set and labels\n",
    "z = df_model.Stay\n",
    "#splitting train and test groups\n",
    "X_train, X_test, z_train, z_test = train_test_split(X, z, test_size=0.3, random_state=42)\n",
    "#fitting the model and predicting the probabilities using eXtreme Gradient Boosting\n",
    "xgb_model2 = xgb.XGBClassifier().fit(X_train, z_train)\n",
    "#Calculate probabilities for all customers using eXtreme Gradient Boost\n",
    "overall_predict2 = xgb_model2.predict(df_model.drop(['target_class',treat,'Stay','p_target'],axis=1))\n",
    "overall_proba2 = xgb_model2.predict_proba(df_model.drop(['target_class',treat,'Stay','p_target'],axis=1))\n",
    "# df_data_lift = df_model.copy()\n",
    "df_data_churn['p_stay'] = overall_predict2\n",
    "df_model['p_stay'] = overall_predict2\n",
    "df_data_churn['stay_score'] = overall_proba[:,1] \n",
    "df_data_churn['churn_score'] = overall_proba[:,0] "
   ]
  },
  {
   "cell_type": "markdown",
   "metadata": {},
   "source": [
    "<h2>Rank data from Churn prediction"
   ]
  },
  {
   "cell_type": "code",
   "execution_count": 31,
   "metadata": {
    "scrolled": false
   },
   "outputs": [
    {
     "name": "stdout",
     "output_type": "stream",
     "text": [
      "Ranking data for Churn Prediction with control included\n",
      "Ranking data for Churn Prediction with control not included\n"
     ]
    }
   ],
   "source": [
    "#both treatment and control\n",
    "print(\"Ranking data for Churn Prediction with control included\")\n",
    "df_data_churn_all = df_data_churn.copy()\n",
    "df_data_churn_all = df_data_churn_all.sort_values(by ='stay_score',ascending=False)\n",
    "df_data_churn_all = df_data_churn_all.reset_index()\n",
    "\n",
    "#treatment only\n",
    "df_data_churn = df_data_churn[df_data_uplift.target_class > 1]\n",
    "print(\"Ranking data for Churn Prediction with control not included\")\n",
    "df_data_churn = df_data_churn.sort_values(by ='stay_score',ascending=False)\n",
    "df_data_churn = df_data_churn.reset_index()"
   ]
  },
  {
   "cell_type": "markdown",
   "metadata": {},
   "source": [
    "<h2>Rank data from Uplift prediction"
   ]
  },
  {
   "cell_type": "code",
   "execution_count": 32,
   "metadata": {
    "scrolled": true
   },
   "outputs": [
    {
     "name": "stdout",
     "output_type": "stream",
     "text": [
      "Ranking data for Churn Uplift with control included\n",
      "Ranking data for Churn Uplift with control not included\n"
     ]
    }
   ],
   "source": [
    "#both treatment and control\n",
    "print(\"Ranking data for Churn Uplift with control included\")\n",
    "df_data_uplift_all = df_data_uplift.copy()\n",
    "df_data_uplift_all = df_data_uplift_all.sort_values(by ='uplift_score',ascending=False)\n",
    "df_data_uplift_all = df_data_uplift_all.reset_index()\n",
    "\n",
    "#choose treatment only\n",
    "df_data_uplift = df_data_uplift[df_data_uplift.target_class > 1]\n",
    "print(\"Ranking data for Churn Uplift with control not included\")\n",
    "df_data_uplift = df_data_uplift.sort_values(by ='uplift_score',ascending=False)\n",
    "df_data_uplift = df_data_uplift.reset_index()"
   ]
  },
  {
   "cell_type": "code",
   "execution_count": 33,
   "metadata": {},
   "outputs": [
    {
     "data": {
      "text/plain": [
       "300"
      ]
     },
     "execution_count": 33,
     "metadata": {},
     "output_type": "execute_result"
    }
   ],
   "source": [
    "sum(df_data_uplift.Stay == 0)"
   ]
  },
  {
   "cell_type": "code",
   "execution_count": 34,
   "metadata": {
    "scrolled": false
   },
   "outputs": [],
   "source": [
    "#define basic variable c=cost, j=decile_count\n",
    "c=1\n",
    "j=round(len(df_data_churn)/10)\n",
    "\n",
    "#prepare 3 dataframe for CPMP\n",
    "CPMP1 = pd.DataFrame({\"n\":[], \n",
    "                      \"retained\":[], \n",
    "                      \"non_retained\":[], \n",
    "                      \"false\":[], \n",
    "                      \"mp\":[]})\n",
    "CPMP2, CPMP3, CUMP1, CUMP2, CUMP3=CPMP1.copy(), CPMP1.copy(), CPMP1.copy(), CPMP1.copy(), CPMP1.copy()\n",
    "\n",
    "#1\n",
    "b1=200\n",
    "i1=10\n",
    "p1_1=(b1-i1-c)\n",
    "p2_1=(-c)\n",
    "p3_1=(-i1-c)\n",
    "\n",
    "#2\n",
    "b2=100\n",
    "i2=10\n",
    "p1_2=(b2-i2-c)\n",
    "p2_2=(-c)\n",
    "p3_2=(-i2-c)\n",
    "\n",
    "#3\n",
    "b3=100\n",
    "i3=50\n",
    "p1_3=(b3-i3-c)\n",
    "p2_3=(-c)\n",
    "p3_3=(-i3-c)\n",
    "\n",
    "\n",
    "CP_list1, CP_list2, CP_list3, CU_list1, CU_list2, CU_list3=[], [], [], [], [], []\n",
    "\n",
    "for i in range(10):\n",
    "    m=(i+1)*j\n",
    "    \n",
    "         \n",
    "    #Churn Prediction Variables\n",
    "    #true predicted churn and r\n",
    "    r = sum(df_data_churn.target_class[0:m]==3)\n",
    "    #true predicted churn and rejected\n",
    "    nr = sum(df_data_churn.target_class[0:m]==0) + sum(df_data_churn.target_class[0:m]==2)\n",
    "    #fr predicted churn\n",
    "    fr = sum(df_data_churn.target_class[0:m]==1)\n",
    "        \n",
    "    #Churn Uplift Input Variables\n",
    "    u_r=sum(df_data_uplift.target_class[0:m]==3)\n",
    "    u_nr=sum(df_data_uplift.target_class[0:m]==0) + sum(df_data_uplift.target_class[0:m]==2)\n",
    "    u_fr=sum(df_data_uplift.target_class[0:m]==1)\n",
    "    \n",
    "    #Churn Prediction mp \n",
    "    #r as r, nr as nr, fr r as fr\n",
    "    r_profit1=(r*p1_1)\n",
    "    nr_profit1=(nr*p2_1)\n",
    "    fr_profit1=(fr*p3_1)\n",
    "    \n",
    "    r_profit2=(r*p1_2)\n",
    "    nr_profit2=(nr*p2_2)\n",
    "    fr_profit2=(fr*p3_2)\n",
    "    \n",
    "    r_profit3=(r*p1_3)\n",
    "    nr_profit3=(nr*p2_3)\n",
    "    fr_profit3=(fr*p3_3)\n",
    "    \n",
    "    #churn Maximum Profit\n",
    "    mp1=(r_profit1 + nr_profit1 + fr_profit1)/m\n",
    "    mp2=(r_profit2 + nr_profit2 + fr_profit2)/m\n",
    "    mp3=(r_profit3 + nr_profit3 + fr_profit3)/m\n",
    "    \n",
    "    u_r_profit1=(u_r*p1_1)\n",
    "    u_nr_profit1=(u_nr*p2_1)\n",
    "    u_fr_profit1=(u_fr*p3_1)\n",
    "    \n",
    "    u_r_profit2=(u_r*p1_2)\n",
    "    u_nr_profit2=(u_nr*p2_2)\n",
    "    u_fr_profit2=(u_fr*p3_2)\n",
    "    \n",
    "    u_r_profit3=(u_r*p1_3)\n",
    "    u_nr_profit3=(u_nr*p2_3)\n",
    "    u_fr_profit3=(u_fr*p3_3)\n",
    "    \n",
    "    #Churn Uplift Maximum Profit\n",
    "    u_mp1=(u_r_profit1 + u_nr_profit1 + u_fr_profit1)/m\n",
    "    u_mp2=(u_r_profit2 + u_nr_profit2 + u_fr_profit2)/m\n",
    "    u_mp3=(u_r_profit3 + u_nr_profit3 + u_fr_profit3)/m\n",
    "    \n",
    "    \n",
    "    CP_list1.append(pd.Series([((i+1)/10), r, nr, fr, mp1], index=CPMP1.columns))\n",
    "    CP_list2.append(pd.Series([((i+1)/10), r, nr, fr, mp2], index=CPMP2.columns))    \n",
    "    CP_list3.append(pd.Series([((i+1)/10), r, nr, fr, mp3], index=CPMP3.columns))    \n",
    "        \n",
    "    CU_list1.append(pd.Series([((i+1)/10), u_r, u_nr, u_fr, u_mp1], index=CUMP1.columns))\n",
    "    CU_list2.append(pd.Series([((i+1)/10), u_r, u_nr, u_fr, u_mp2], index=CUMP2.columns))    \n",
    "    CU_list3.append(pd.Series([((i+1)/10), u_r, u_nr, u_fr, u_mp3], index=CUMP3.columns)) \n",
    "    \n",
    "\n",
    "CPMP1 = CPMP1.append(CP_list1 , ignore_index=True)\n",
    "CPMP2 = CPMP2.append(CP_list2 , ignore_index=True)\n",
    "CPMP3 = CPMP3.append(CP_list3 , ignore_index=True)\n",
    "\n",
    "CUMP1 = CUMP1.append(CU_list1 , ignore_index=True)\n",
    "CUMP2 = CUMP2.append(CU_list2 , ignore_index=True)\n",
    "CUMP3 = CUMP3.append(CU_list3 , ignore_index=True)\n",
    "\n",
    "# add q0 into dataframe\n",
    "q0 = pd.DataFrame({'n':0, 'mp':0}, index =[0])\n",
    "CPMP1 = pd.concat([q0, CPMP1]).reset_index(drop = True)\n",
    "CPMP2 = pd.concat([q0, CPMP2]).reset_index(drop = True)\n",
    "CPMP3 = pd.concat([q0, CPMP3]).reset_index(drop = True)\n",
    "\n",
    "CUMP1 = pd.concat([q0, CUMP1]).reset_index(drop = True)\n",
    "CUMP2 = pd.concat([q0, CUMP2]).reset_index(drop = True)\n",
    "CUMP3 = pd.concat([q0, CUMP3]).reset_index(drop = True)"
   ]
  },
  {
   "cell_type": "code",
   "execution_count": 35,
   "metadata": {},
   "outputs": [],
   "source": [
    "#create new column method = churn_prediction\n",
    "CPMP1['method'] = 'churn_prediction'\n",
    "CPMP2['method'] = 'churn_prediction'\n",
    "CPMP3['method'] = 'churn_prediction'\n",
    "\n",
    "#create new column method = uplift_modelling Prediction\n",
    "CUMP1['method'] = 'uplift_modelling'\n",
    "CUMP2['method'] = 'uplift_modelling'\n",
    "CUMP3['method'] = 'uplift_modelling'"
   ]
  },
  {
   "cell_type": "code",
   "execution_count": 36,
   "metadata": {},
   "outputs": [],
   "source": [
    "#Combine both Churn Prediction and uplift modelling result\n",
    "result_mp1 = pd.concat([CUMP1, CPMP1])\n",
    "result_mp1 = result_mp1.sort_values(by='n')\n",
    "\n",
    "result_mp2 = pd.concat([CUMP2, CPMP2])\n",
    "result_mp2 = result_mp2.sort_values(by='n')\n",
    "\n",
    "result_mp3 = pd.concat([CUMP3, CPMP3])\n",
    "result_mp3 = result_mp3.sort_values(by='n')"
   ]
  },
  {
   "cell_type": "code",
   "execution_count": 37,
   "metadata": {},
   "outputs": [
    {
     "data": {
      "text/html": [
       "<div>\n",
       "<style scoped>\n",
       "    .dataframe tbody tr th:only-of-type {\n",
       "        vertical-align: middle;\n",
       "    }\n",
       "\n",
       "    .dataframe tbody tr th {\n",
       "        vertical-align: top;\n",
       "    }\n",
       "\n",
       "    .dataframe thead th {\n",
       "        text-align: right;\n",
       "    }\n",
       "</style>\n",
       "<table border=\"1\" class=\"dataframe\">\n",
       "  <thead>\n",
       "    <tr style=\"text-align: right;\">\n",
       "      <th></th>\n",
       "      <th>n</th>\n",
       "      <th>mp</th>\n",
       "      <th>retained</th>\n",
       "      <th>non_retained</th>\n",
       "      <th>false</th>\n",
       "      <th>method</th>\n",
       "    </tr>\n",
       "  </thead>\n",
       "  <tbody>\n",
       "    <tr>\n",
       "      <th>0</th>\n",
       "      <td>0.0</td>\n",
       "      <td>0.000000</td>\n",
       "      <td>NaN</td>\n",
       "      <td>NaN</td>\n",
       "      <td>NaN</td>\n",
       "      <td>uplift_modelling</td>\n",
       "    </tr>\n",
       "    <tr>\n",
       "      <th>0</th>\n",
       "      <td>0.0</td>\n",
       "      <td>0.000000</td>\n",
       "      <td>NaN</td>\n",
       "      <td>NaN</td>\n",
       "      <td>NaN</td>\n",
       "      <td>churn_prediction</td>\n",
       "    </tr>\n",
       "    <tr>\n",
       "      <th>1</th>\n",
       "      <td>0.1</td>\n",
       "      <td>88.062500</td>\n",
       "      <td>15.0</td>\n",
       "      <td>17.0</td>\n",
       "      <td>0.0</td>\n",
       "      <td>uplift_modelling</td>\n",
       "    </tr>\n",
       "    <tr>\n",
       "      <th>1</th>\n",
       "      <td>0.1</td>\n",
       "      <td>94.000000</td>\n",
       "      <td>16.0</td>\n",
       "      <td>16.0</td>\n",
       "      <td>0.0</td>\n",
       "      <td>churn_prediction</td>\n",
       "    </tr>\n",
       "    <tr>\n",
       "      <th>2</th>\n",
       "      <td>0.2</td>\n",
       "      <td>55.406250</td>\n",
       "      <td>19.0</td>\n",
       "      <td>45.0</td>\n",
       "      <td>0.0</td>\n",
       "      <td>uplift_modelling</td>\n",
       "    </tr>\n",
       "    <tr>\n",
       "      <th>2</th>\n",
       "      <td>0.2</td>\n",
       "      <td>46.500000</td>\n",
       "      <td>16.0</td>\n",
       "      <td>48.0</td>\n",
       "      <td>0.0</td>\n",
       "      <td>churn_prediction</td>\n",
       "    </tr>\n",
       "    <tr>\n",
       "      <th>3</th>\n",
       "      <td>0.3</td>\n",
       "      <td>36.604167</td>\n",
       "      <td>19.0</td>\n",
       "      <td>77.0</td>\n",
       "      <td>0.0</td>\n",
       "      <td>uplift_modelling</td>\n",
       "    </tr>\n",
       "    <tr>\n",
       "      <th>3</th>\n",
       "      <td>0.3</td>\n",
       "      <td>30.666667</td>\n",
       "      <td>16.0</td>\n",
       "      <td>80.0</td>\n",
       "      <td>0.0</td>\n",
       "      <td>churn_prediction</td>\n",
       "    </tr>\n",
       "    <tr>\n",
       "      <th>4</th>\n",
       "      <td>0.4</td>\n",
       "      <td>27.203125</td>\n",
       "      <td>19.0</td>\n",
       "      <td>109.0</td>\n",
       "      <td>0.0</td>\n",
       "      <td>uplift_modelling</td>\n",
       "    </tr>\n",
       "    <tr>\n",
       "      <th>4</th>\n",
       "      <td>0.4</td>\n",
       "      <td>22.750000</td>\n",
       "      <td>16.0</td>\n",
       "      <td>112.0</td>\n",
       "      <td>0.0</td>\n",
       "      <td>churn_prediction</td>\n",
       "    </tr>\n",
       "    <tr>\n",
       "      <th>5</th>\n",
       "      <td>0.5</td>\n",
       "      <td>21.562500</td>\n",
       "      <td>19.0</td>\n",
       "      <td>141.0</td>\n",
       "      <td>0.0</td>\n",
       "      <td>uplift_modelling</td>\n",
       "    </tr>\n",
       "    <tr>\n",
       "      <th>5</th>\n",
       "      <td>0.5</td>\n",
       "      <td>18.000000</td>\n",
       "      <td>16.0</td>\n",
       "      <td>144.0</td>\n",
       "      <td>0.0</td>\n",
       "      <td>churn_prediction</td>\n",
       "    </tr>\n",
       "    <tr>\n",
       "      <th>6</th>\n",
       "      <td>0.6</td>\n",
       "      <td>17.802083</td>\n",
       "      <td>19.0</td>\n",
       "      <td>173.0</td>\n",
       "      <td>0.0</td>\n",
       "      <td>uplift_modelling</td>\n",
       "    </tr>\n",
       "    <tr>\n",
       "      <th>6</th>\n",
       "      <td>0.6</td>\n",
       "      <td>14.833333</td>\n",
       "      <td>16.0</td>\n",
       "      <td>176.0</td>\n",
       "      <td>0.0</td>\n",
       "      <td>churn_prediction</td>\n",
       "    </tr>\n",
       "    <tr>\n",
       "      <th>7</th>\n",
       "      <td>0.7</td>\n",
       "      <td>15.116071</td>\n",
       "      <td>19.0</td>\n",
       "      <td>205.0</td>\n",
       "      <td>0.0</td>\n",
       "      <td>uplift_modelling</td>\n",
       "    </tr>\n",
       "    <tr>\n",
       "      <th>7</th>\n",
       "      <td>0.7</td>\n",
       "      <td>12.571429</td>\n",
       "      <td>16.0</td>\n",
       "      <td>208.0</td>\n",
       "      <td>0.0</td>\n",
       "      <td>churn_prediction</td>\n",
       "    </tr>\n",
       "    <tr>\n",
       "      <th>8</th>\n",
       "      <td>0.8</td>\n",
       "      <td>13.101562</td>\n",
       "      <td>19.0</td>\n",
       "      <td>237.0</td>\n",
       "      <td>0.0</td>\n",
       "      <td>churn_prediction</td>\n",
       "    </tr>\n",
       "    <tr>\n",
       "      <th>8</th>\n",
       "      <td>0.8</td>\n",
       "      <td>13.101562</td>\n",
       "      <td>19.0</td>\n",
       "      <td>237.0</td>\n",
       "      <td>0.0</td>\n",
       "      <td>uplift_modelling</td>\n",
       "    </tr>\n",
       "    <tr>\n",
       "      <th>9</th>\n",
       "      <td>0.9</td>\n",
       "      <td>11.534722</td>\n",
       "      <td>19.0</td>\n",
       "      <td>269.0</td>\n",
       "      <td>0.0</td>\n",
       "      <td>churn_prediction</td>\n",
       "    </tr>\n",
       "    <tr>\n",
       "      <th>9</th>\n",
       "      <td>0.9</td>\n",
       "      <td>11.534722</td>\n",
       "      <td>19.0</td>\n",
       "      <td>269.0</td>\n",
       "      <td>0.0</td>\n",
       "      <td>uplift_modelling</td>\n",
       "    </tr>\n",
       "    <tr>\n",
       "      <th>10</th>\n",
       "      <td>1.0</td>\n",
       "      <td>10.284375</td>\n",
       "      <td>19.0</td>\n",
       "      <td>300.0</td>\n",
       "      <td>0.0</td>\n",
       "      <td>uplift_modelling</td>\n",
       "    </tr>\n",
       "    <tr>\n",
       "      <th>10</th>\n",
       "      <td>1.0</td>\n",
       "      <td>10.284375</td>\n",
       "      <td>19.0</td>\n",
       "      <td>300.0</td>\n",
       "      <td>0.0</td>\n",
       "      <td>churn_prediction</td>\n",
       "    </tr>\n",
       "  </tbody>\n",
       "</table>\n",
       "</div>"
      ],
      "text/plain": [
       "      n         mp  retained  non_retained  false            method\n",
       "0   0.0   0.000000       NaN           NaN    NaN  uplift_modelling\n",
       "0   0.0   0.000000       NaN           NaN    NaN  churn_prediction\n",
       "1   0.1  88.062500      15.0          17.0    0.0  uplift_modelling\n",
       "1   0.1  94.000000      16.0          16.0    0.0  churn_prediction\n",
       "2   0.2  55.406250      19.0          45.0    0.0  uplift_modelling\n",
       "2   0.2  46.500000      16.0          48.0    0.0  churn_prediction\n",
       "3   0.3  36.604167      19.0          77.0    0.0  uplift_modelling\n",
       "3   0.3  30.666667      16.0          80.0    0.0  churn_prediction\n",
       "4   0.4  27.203125      19.0         109.0    0.0  uplift_modelling\n",
       "4   0.4  22.750000      16.0         112.0    0.0  churn_prediction\n",
       "5   0.5  21.562500      19.0         141.0    0.0  uplift_modelling\n",
       "5   0.5  18.000000      16.0         144.0    0.0  churn_prediction\n",
       "6   0.6  17.802083      19.0         173.0    0.0  uplift_modelling\n",
       "6   0.6  14.833333      16.0         176.0    0.0  churn_prediction\n",
       "7   0.7  15.116071      19.0         205.0    0.0  uplift_modelling\n",
       "7   0.7  12.571429      16.0         208.0    0.0  churn_prediction\n",
       "8   0.8  13.101562      19.0         237.0    0.0  churn_prediction\n",
       "8   0.8  13.101562      19.0         237.0    0.0  uplift_modelling\n",
       "9   0.9  11.534722      19.0         269.0    0.0  churn_prediction\n",
       "9   0.9  11.534722      19.0         269.0    0.0  uplift_modelling\n",
       "10  1.0  10.284375      19.0         300.0    0.0  uplift_modelling\n",
       "10  1.0  10.284375      19.0         300.0    0.0  churn_prediction"
      ]
     },
     "execution_count": 37,
     "metadata": {},
     "output_type": "execute_result"
    }
   ],
   "source": [
    "result_mp1"
   ]
  },
  {
   "cell_type": "code",
   "execution_count": 38,
   "metadata": {
    "scrolled": false
   },
   "outputs": [
    {
     "data": {
      "image/png": "[encoded data removed]",
      "text/plain": [
       "<Figure size 432x288 with 1 Axes>"
      ]
     },
     "metadata": {
      "needs_background": "light"
     },
     "output_type": "display_data"
    }
   ],
   "source": [
    "sns.lineplot(x='n', y='mp', hue='method', data=result_mp1, style=\"method\", palette='Set1')\n",
    "sns.set_style(\"whitegrid\")\n",
    "plt.title('Maximum Profit 1',fontsize=20)\n",
    "plt.xlabel('Proportion targeted (ascending)',fontsize=15)\n",
    "plt.ylabel('Maximum Profit',fontsize=15)\n",
    "plt.subplots_adjust(right=1.5)\n",
    "plt.subplots_adjust(top=1.5)"
   ]
  },
  {
   "cell_type": "code",
   "execution_count": 39,
   "metadata": {},
   "outputs": [
    {
     "data": {
      "image/png": "[encoded data removed]",
      "text/plain": [
       "<Figure size 432x288 with 1 Axes>"
      ]
     },
     "metadata": {},
     "output_type": "display_data"
    }
   ],
   "source": [
    "sns.lineplot(x='n', y='mp', hue='method', data=result_mp2, style=\"method\", palette='Set1')\n",
    "sns.set_style(\"whitegrid\")\n",
    "plt.title('Maximum Profit 2',fontsize=20)\n",
    "plt.xlabel('Proportion of Population Targeted',fontsize=15)\n",
    "plt.ylabel('Maximum Profit (pt)',fontsize=15)\n",
    "plt.subplots_adjust(right=1.5)\n",
    "plt.subplots_adjust(top=1.5)"
   ]
  },
  {
   "cell_type": "code",
   "execution_count": 40,
   "metadata": {
    "scrolled": false
   },
   "outputs": [
    {
     "data": {
      "image/png": "[encoded data removed]",
      "text/plain": [
       "<Figure size 432x288 with 1 Axes>"
      ]
     },
     "metadata": {},
     "output_type": "display_data"
    }
   ],
   "source": [
    "sns.lineplot(x='n', y='mp', hue='method', data=result_mp3, style=\"method\", palette='Set1')\n",
    "sns.set_style(\"whitegrid\")\n",
    "plt.title('Maximum Profit 3',fontsize=20)\n",
    "plt.xlabel('Proportion of Population Targeted',fontsize=15)\n",
    "plt.ylabel('Maximum Profit (pt)',fontsize=15)\n",
    "plt.subplots_adjust(right=1.5)\n",
    "plt.subplots_adjust(top=1.5)"
   ]
  },
  {
   "cell_type": "markdown",
   "metadata": {},
   "source": [
    "<h2>Treatment and Control"
   ]
  },
  {
   "cell_type": "code",
   "execution_count": 42,
   "metadata": {
    "scrolled": true
   },
   "outputs": [
    {
     "data": {
      "text/html": [
       "<div>\n",
       "<style scoped>\n",
       "    .dataframe tbody tr th:only-of-type {\n",
       "        vertical-align: middle;\n",
       "    }\n",
       "\n",
       "    .dataframe tbody tr th {\n",
       "        vertical-align: top;\n",
       "    }\n",
       "\n",
       "    .dataframe thead th {\n",
       "        text-align: right;\n",
       "    }\n",
       "</style>\n",
       "<table border=\"1\" class=\"dataframe\">\n",
       "  <thead>\n",
       "    <tr style=\"text-align: right;\">\n",
       "      <th></th>\n",
       "      <th>index</th>\n",
       "      <th>target_class</th>\n",
       "      <th>Stay</th>\n",
       "      <th>promotion_last_5years</th>\n",
       "      <th>p_target</th>\n",
       "      <th>proba_CN</th>\n",
       "      <th>proba_CR</th>\n",
       "      <th>proba_TN</th>\n",
       "      <th>proba_TR</th>\n",
       "      <th>uplift_score</th>\n",
       "    </tr>\n",
       "  </thead>\n",
       "  <tbody>\n",
       "    <tr>\n",
       "      <th>0</th>\n",
       "      <td>12330</td>\n",
       "      <td>0</td>\n",
       "      <td>0</td>\n",
       "      <td>0</td>\n",
       "      <td>0</td>\n",
       "      <td>0.913118</td>\n",
       "      <td>0.000169</td>\n",
       "      <td>0.000123</td>\n",
       "      <td>0.086590</td>\n",
       "      <td>1.996783</td>\n",
       "    </tr>\n",
       "    <tr>\n",
       "      <th>1</th>\n",
       "      <td>5062</td>\n",
       "      <td>0</td>\n",
       "      <td>0</td>\n",
       "      <td>0</td>\n",
       "      <td>0</td>\n",
       "      <td>0.978884</td>\n",
       "      <td>0.002144</td>\n",
       "      <td>0.000182</td>\n",
       "      <td>0.018790</td>\n",
       "      <td>1.976481</td>\n",
       "    </tr>\n",
       "    <tr>\n",
       "      <th>2</th>\n",
       "      <td>5137</td>\n",
       "      <td>0</td>\n",
       "      <td>0</td>\n",
       "      <td>0</td>\n",
       "      <td>0</td>\n",
       "      <td>0.984369</td>\n",
       "      <td>0.008724</td>\n",
       "      <td>0.000034</td>\n",
       "      <td>0.006873</td>\n",
       "      <td>1.972507</td>\n",
       "    </tr>\n",
       "    <tr>\n",
       "      <th>3</th>\n",
       "      <td>11277</td>\n",
       "      <td>0</td>\n",
       "      <td>0</td>\n",
       "      <td>0</td>\n",
       "      <td>0</td>\n",
       "      <td>0.978464</td>\n",
       "      <td>0.019511</td>\n",
       "      <td>0.000039</td>\n",
       "      <td>0.001986</td>\n",
       "      <td>1.922436</td>\n",
       "    </tr>\n",
       "    <tr>\n",
       "      <th>4</th>\n",
       "      <td>1966</td>\n",
       "      <td>0</td>\n",
       "      <td>0</td>\n",
       "      <td>0</td>\n",
       "      <td>0</td>\n",
       "      <td>0.985989</td>\n",
       "      <td>0.012275</td>\n",
       "      <td>0.000046</td>\n",
       "      <td>0.001690</td>\n",
       "      <td>1.922421</td>\n",
       "    </tr>\n",
       "    <tr>\n",
       "      <th>...</th>\n",
       "      <td>...</td>\n",
       "      <td>...</td>\n",
       "      <td>...</td>\n",
       "      <td>...</td>\n",
       "      <td>...</td>\n",
       "      <td>...</td>\n",
       "      <td>...</td>\n",
       "      <td>...</td>\n",
       "      <td>...</td>\n",
       "      <td>...</td>\n",
       "    </tr>\n",
       "    <tr>\n",
       "      <th>14994</th>\n",
       "      <td>3874</td>\n",
       "      <td>1</td>\n",
       "      <td>1</td>\n",
       "      <td>0</td>\n",
       "      <td>1</td>\n",
       "      <td>0.005572</td>\n",
       "      <td>0.975105</td>\n",
       "      <td>0.019314</td>\n",
       "      <td>0.000009</td>\n",
       "      <td>-1.987709</td>\n",
       "    </tr>\n",
       "    <tr>\n",
       "      <th>14995</th>\n",
       "      <td>9093</td>\n",
       "      <td>1</td>\n",
       "      <td>1</td>\n",
       "      <td>0</td>\n",
       "      <td>1</td>\n",
       "      <td>0.005638</td>\n",
       "      <td>0.984435</td>\n",
       "      <td>0.009924</td>\n",
       "      <td>0.000004</td>\n",
       "      <td>-1.987885</td>\n",
       "    </tr>\n",
       "    <tr>\n",
       "      <th>14996</th>\n",
       "      <td>6376</td>\n",
       "      <td>1</td>\n",
       "      <td>1</td>\n",
       "      <td>0</td>\n",
       "      <td>1</td>\n",
       "      <td>0.005638</td>\n",
       "      <td>0.984435</td>\n",
       "      <td>0.009924</td>\n",
       "      <td>0.000004</td>\n",
       "      <td>-1.987885</td>\n",
       "    </tr>\n",
       "    <tr>\n",
       "      <th>14997</th>\n",
       "      <td>9587</td>\n",
       "      <td>1</td>\n",
       "      <td>1</td>\n",
       "      <td>0</td>\n",
       "      <td>1</td>\n",
       "      <td>0.005638</td>\n",
       "      <td>0.984435</td>\n",
       "      <td>0.009924</td>\n",
       "      <td>0.000004</td>\n",
       "      <td>-1.987885</td>\n",
       "    </tr>\n",
       "    <tr>\n",
       "      <th>14998</th>\n",
       "      <td>6431</td>\n",
       "      <td>1</td>\n",
       "      <td>1</td>\n",
       "      <td>0</td>\n",
       "      <td>1</td>\n",
       "      <td>0.004012</td>\n",
       "      <td>0.995400</td>\n",
       "      <td>0.000587</td>\n",
       "      <td>0.000001</td>\n",
       "      <td>-1.988177</td>\n",
       "    </tr>\n",
       "  </tbody>\n",
       "</table>\n",
       "<p>14999 rows × 10 columns</p>\n",
       "</div>"
      ],
      "text/plain": [
       "       index  target_class  Stay  promotion_last_5years  p_target  proba_CN  \\\n",
       "0      12330             0     0                      0         0  0.913118   \n",
       "1       5062             0     0                      0         0  0.978884   \n",
       "2       5137             0     0                      0         0  0.984369   \n",
       "3      11277             0     0                      0         0  0.978464   \n",
       "4       1966             0     0                      0         0  0.985989   \n",
       "...      ...           ...   ...                    ...       ...       ...   \n",
       "14994   3874             1     1                      0         1  0.005572   \n",
       "14995   9093             1     1                      0         1  0.005638   \n",
       "14996   6376             1     1                      0         1  0.005638   \n",
       "14997   9587             1     1                      0         1  0.005638   \n",
       "14998   6431             1     1                      0         1  0.004012   \n",
       "\n",
       "       proba_CR  proba_TN  proba_TR  uplift_score  \n",
       "0      0.000169  0.000123  0.086590      1.996783  \n",
       "1      0.002144  0.000182  0.018790      1.976481  \n",
       "2      0.008724  0.000034  0.006873      1.972507  \n",
       "3      0.019511  0.000039  0.001986      1.922436  \n",
       "4      0.012275  0.000046  0.001690      1.922421  \n",
       "...         ...       ...       ...           ...  \n",
       "14994  0.975105  0.019314  0.000009     -1.987709  \n",
       "14995  0.984435  0.009924  0.000004     -1.987885  \n",
       "14996  0.984435  0.009924  0.000004     -1.987885  \n",
       "14997  0.984435  0.009924  0.000004     -1.987885  \n",
       "14998  0.995400  0.000587  0.000001     -1.988177  \n",
       "\n",
       "[14999 rows x 10 columns]"
      ]
     },
     "execution_count": 42,
     "metadata": {},
     "output_type": "execute_result"
    }
   ],
   "source": [
    "df_data_uplift_all"
   ]
  },
  {
   "cell_type": "code",
   "execution_count": 44,
   "metadata": {},
   "outputs": [],
   "source": [
    "#prepare 3 dataframe for CPMPU\n",
    "CPMPU1 = pd.DataFrame({\"n\":[], \n",
    "                      \"QINI\":[], \n",
    "                      \"TR\":[],  \n",
    "                      \"mpu\":[]})\n",
    "CPMPU2, CPMPU3, CUMPU1, CUMPU2, CUMPU3=CPMPU1.copy(), CPMPU1.copy(), CPMPU1.copy(), CPMPU1.copy(), CPMPU1.copy()\n",
    "CP_list1, CP_list2, CP_list3, CU_list1, CU_list2, CU_list3=[], [], [], [], [], []\n",
    "#prepare QU & QC dataframe\n",
    "QU = pd.DataFrame({\"n\":[],  \n",
    "                    \"uplift\":[]})\n",
    "QC = QU.copy()\n",
    "k = round(len(df_data_churn_all)/10)\n",
    "QU_list, QC_list = [],[]\n",
    "p4_1=(b1-c)\n",
    "p4_2=(b2-c)\n",
    "p4_3=(b3-c)\n",
    "\n",
    "\n",
    "for i in range(10):\n",
    "    m=(i+1)*k \n",
    "        \n",
    "    #Qini Churn Variables\n",
    "    RC_churn=sum((df_data_churn_all.Stay[0:m]==1)&(df_data_churn_all.promotion_last_5years[0:m]==0))\n",
    "    RT_churn=sum((df_data_churn_all.Stay[0:m]==1)&(df_data_churn_all.promotion_last_5years[0:m]==1))\n",
    "    NC_churn=sum(df_data_churn_all.promotion_last_5years[0:m]==0)\n",
    "    NT_churn=sum(df_data_churn_all.promotion_last_5years[0:m]==1)\n",
    "    QINI_c = RT_churn-((RC_churn*NT_churn)/NC_churn)\n",
    "    QINI_churn = QINI_c\n",
    "    if i>=1:\n",
    "        QINI_churn = QINI_c/(i+1)\n",
    "    QC_list.append(pd.Series([((i+1)/10), QINI_churn], index=QC.columns))\n",
    "    \n",
    "    #Qini Uplift Variables\n",
    "    RC=sum((df_data_uplift_all.Stay[0:m]==1)&(df_data_uplift_all.promotion_last_5years[0:m]==0))\n",
    "    RT=sum((df_data_uplift_all.Stay[0:m]==1)&(df_data_uplift_all.promotion_last_5years[0:m]==1))\n",
    "    NC=sum(df_data_uplift_all.promotion_last_5years[0:m]==0)\n",
    "    NT=sum(df_data_uplift_all.promotion_last_5years[0:m]==1)\n",
    "    QINI_u = RT-((RC*NT)/NC)\n",
    "    QINI_uplift = QINI_u\n",
    "    if i>=1:\n",
    "        QINI_uplift = QINI_u/(i+1)\n",
    "    QU_list.append(pd.Series([((i+1)/10), QINI_uplift], index=QU.columns))\n",
    "    \n",
    "    \n",
    "    #TR\n",
    "    TR_churn=sum(df_data_churn_all.target_class[0:m] == 3)\n",
    "    TR_uplift=sum(df_data_uplift_all.target_class[0:m] == 3)\n",
    "    CPMPU1\n",
    "    #Churn Prediction mpu \n",
    "    #Qini & TR for churn prediction\n",
    "    u_profit1=(QINI_c*p4_1)\n",
    "    tr_profit1=(TR_churn*i1)\n",
    "    u_profit2=(QINI_c*p4_2)\n",
    "    tr_profit2=(TR_churn*i2)\n",
    "    u_profit3=(QINI_c*p4_3)\n",
    "    tr_profit3=(TR_churn*i3)\n",
    "    \n",
    "    #churn Maximum Profit Uplift\n",
    "    mpu1=(u_profit1 - tr_profit1)/m\n",
    "    mpu2=(u_profit2 - tr_profit2)/m\n",
    "    mpu3=(u_profit3 - tr_profit3)/m\n",
    "    \n",
    "    #Qini & TR for uplift prediction\n",
    "    u_u_profit1=(QINI_u*p4_1)\n",
    "    u_tr_profit1=(TR_uplift*i1)\n",
    "    u_u_profit2=(QINI_u*p4_2)\n",
    "    u_tr_profit2=(TR_uplift*i2)\n",
    "    u_u_profit3=(QINI_u*p4_3)\n",
    "    u_tr_profit3=(TR_uplift*i3)\n",
    "    \n",
    "    #Churn Uplift Maximum Profit Uplift\n",
    "    u_mpu1=(u_u_profit1 - u_tr_profit1)/m\n",
    "    u_mpu2=(u_u_profit2 - u_tr_profit2)/m\n",
    "    u_mpu3=(u_u_profit3 - u_tr_profit3)/m\n",
    "    \n",
    "    CP_list1.append(pd.Series([((i+1)/10), QINI_c, TR_churn, mpu1], index=CPMPU1.columns))\n",
    "    CP_list2.append(pd.Series([((i+1)/10), QINI_c, TR_churn, mpu2], index=CPMPU2.columns))    \n",
    "    CP_list3.append(pd.Series([((i+1)/10), QINI_c, TR_churn, mpu3], index=CPMPU3.columns))    \n",
    "        \n",
    "    CU_list1.append(pd.Series([((i+1)/10), QINI_u, TR_uplift, u_mpu1], index=CUMPU1.columns))\n",
    "    CU_list2.append(pd.Series([((i+1)/10), QINI_u, TR_uplift, u_mpu2], index=CUMPU2.columns))    \n",
    "    CU_list3.append(pd.Series([((i+1)/10), QINI_u, TR_uplift, u_mpu3], index=CUMPU3.columns)) \n",
    "    \n",
    "    \n",
    "# append list into dataframe    \n",
    "QU = QU.append(QU_list , ignore_index=True)\n",
    "QC = QC.append(QC_list , ignore_index=True)\n",
    "# add q0 into dataframe\n",
    "q0 = pd.DataFrame({'n':0, 'uplift':0}, index =[0])\n",
    "QU = pd.concat([q0, QU]).reset_index(drop = True)\n",
    "QC = pd.concat([q0, QC]).reset_index(drop = True)\n",
    "\n",
    "# add q0 into dataframe\n",
    "q0 = pd.DataFrame({'n':0, 'mpu':0}, index =[0])\n",
    "# append list into dataframe    \n",
    "CPMPU1 = CPMPU1.append(CP_list1 , ignore_index=True)\n",
    "CPMPU2 = CPMPU2.append(CP_list2 , ignore_index=True)\n",
    "CPMPU3 = CPMPU3.append(CP_list3 , ignore_index=True)\n",
    "\n",
    "CUMPU1 = CUMPU1.append(CU_list1 , ignore_index=True)\n",
    "CUMPU2 = CUMPU2.append(CU_list2 , ignore_index=True)\n",
    "CUMPU3 = CUMPU3.append(CU_list3 , ignore_index=True)\n",
    "\n",
    "# add q0 into dataframe\n",
    "CPMPU1 = pd.concat([q0, CPMPU1]).reset_index(drop = True)\n",
    "CPMPU2 = pd.concat([q0, CPMPU2]).reset_index(drop = True)\n",
    "CPMPU3 = pd.concat([q0, CPMPU3]).reset_index(drop = True)\n",
    "\n",
    "CUMPU1 = pd.concat([q0, CUMPU1]).reset_index(drop = True)\n",
    "CUMPU2 = pd.concat([q0, CUMPU2]).reset_index(drop = True)\n",
    "CUMPU3 = pd.concat([q0, CUMPU3]).reset_index(drop = True)"
   ]
  },
  {
   "cell_type": "code",
   "execution_count": 45,
   "metadata": {
    "scrolled": true
   },
   "outputs": [
    {
     "data": {
      "text/html": [
       "<div>\n",
       "<style scoped>\n",
       "    .dataframe tbody tr th:only-of-type {\n",
       "        vertical-align: middle;\n",
       "    }\n",
       "\n",
       "    .dataframe tbody tr th {\n",
       "        vertical-align: top;\n",
       "    }\n",
       "\n",
       "    .dataframe thead th {\n",
       "        text-align: right;\n",
       "    }\n",
       "</style>\n",
       "<table border=\"1\" class=\"dataframe\">\n",
       "  <thead>\n",
       "    <tr style=\"text-align: right;\">\n",
       "      <th></th>\n",
       "      <th>n</th>\n",
       "      <th>mpu</th>\n",
       "      <th>QINI</th>\n",
       "      <th>TR</th>\n",
       "    </tr>\n",
       "  </thead>\n",
       "  <tbody>\n",
       "    <tr>\n",
       "      <th>0</th>\n",
       "      <td>0.0</td>\n",
       "      <td>0.000000</td>\n",
       "      <td>NaN</td>\n",
       "      <td>NaN</td>\n",
       "    </tr>\n",
       "    <tr>\n",
       "      <th>1</th>\n",
       "      <td>0.1</td>\n",
       "      <td>0.742644</td>\n",
       "      <td>5.899329</td>\n",
       "      <td>6.0</td>\n",
       "    </tr>\n",
       "    <tr>\n",
       "      <th>2</th>\n",
       "      <td>0.2</td>\n",
       "      <td>0.365588</td>\n",
       "      <td>5.812877</td>\n",
       "      <td>6.0</td>\n",
       "    </tr>\n",
       "    <tr>\n",
       "      <th>3</th>\n",
       "      <td>0.3</td>\n",
       "      <td>0.529077</td>\n",
       "      <td>12.617312</td>\n",
       "      <td>13.0</td>\n",
       "    </tr>\n",
       "    <tr>\n",
       "      <th>4</th>\n",
       "      <td>0.4</td>\n",
       "      <td>0.487948</td>\n",
       "      <td>15.516015</td>\n",
       "      <td>16.0</td>\n",
       "    </tr>\n",
       "    <tr>\n",
       "      <th>5</th>\n",
       "      <td>0.5</td>\n",
       "      <td>0.462139</td>\n",
       "      <td>18.372062</td>\n",
       "      <td>19.0</td>\n",
       "    </tr>\n",
       "    <tr>\n",
       "      <th>6</th>\n",
       "      <td>0.6</td>\n",
       "      <td>0.362894</td>\n",
       "      <td>17.367077</td>\n",
       "      <td>19.0</td>\n",
       "    </tr>\n",
       "    <tr>\n",
       "      <th>7</th>\n",
       "      <td>0.7</td>\n",
       "      <td>0.276387</td>\n",
       "      <td>15.538012</td>\n",
       "      <td>19.0</td>\n",
       "    </tr>\n",
       "    <tr>\n",
       "      <th>8</th>\n",
       "      <td>0.8</td>\n",
       "      <td>0.019479</td>\n",
       "      <td>2.129363</td>\n",
       "      <td>19.0</td>\n",
       "    </tr>\n",
       "    <tr>\n",
       "      <th>9</th>\n",
       "      <td>0.9</td>\n",
       "      <td>-0.469971</td>\n",
       "      <td>-30.927699</td>\n",
       "      <td>19.0</td>\n",
       "    </tr>\n",
       "    <tr>\n",
       "      <th>10</th>\n",
       "      <td>1.0</td>\n",
       "      <td>-0.784599</td>\n",
       "      <td>-58.185831</td>\n",
       "      <td>19.0</td>\n",
       "    </tr>\n",
       "  </tbody>\n",
       "</table>\n",
       "</div>"
      ],
      "text/plain": [
       "      n       mpu       QINI    TR\n",
       "0   0.0  0.000000        NaN   NaN\n",
       "1   0.1  0.742644   5.899329   6.0\n",
       "2   0.2  0.365588   5.812877   6.0\n",
       "3   0.3  0.529077  12.617312  13.0\n",
       "4   0.4  0.487948  15.516015  16.0\n",
       "5   0.5  0.462139  18.372062  19.0\n",
       "6   0.6  0.362894  17.367077  19.0\n",
       "7   0.7  0.276387  15.538012  19.0\n",
       "8   0.8  0.019479   2.129363  19.0\n",
       "9   0.9 -0.469971 -30.927699  19.0\n",
       "10  1.0 -0.784599 -58.185831  19.0"
      ]
     },
     "execution_count": 45,
     "metadata": {},
     "output_type": "execute_result"
    }
   ],
   "source": [
    "CUMPU1"
   ]
  },
  {
   "cell_type": "code",
   "execution_count": 46,
   "metadata": {},
   "outputs": [
    {
     "data": {
      "image/png": "[encoded data removed]",
      "text/plain": [
       "<Figure size 432x288 with 1 Axes>"
      ]
     },
     "metadata": {},
     "output_type": "display_data"
    }
   ],
   "source": [
    "sns.lineplot(x=CUMPU1.n, y=CUMPU1.mpu, label='Uplift Modelling', color='red')\n",
    "sns.lineplot(x=CPMPU1.n, y=CPMPU1.mpu, label='Churn Prediction', color='blue')\n",
    "\n",
    "sns.set_style(\"whitegrid\")\n",
    "plt.title('Maximum Profit Uplift 1',fontsize=20)\n",
    "plt.ylabel('profit per employee (pc pt)',fontsize=15)\n",
    "plt.xlabel('Proportion of Population Targeted',fontsize=15)\n",
    "plt.subplots_adjust(right=1.5)\n",
    "plt.subplots_adjust(top=1.5)"
   ]
  },
  {
   "cell_type": "code",
   "execution_count": 47,
   "metadata": {
    "scrolled": true
   },
   "outputs": [
    {
     "data": {
      "image/png": "[encoded data removed]",
      "text/plain": [
       "<Figure size 432x288 with 1 Axes>"
      ]
     },
     "metadata": {},
     "output_type": "display_data"
    }
   ],
   "source": [
    "sns.lineplot(x=CUMPU2.n, y=CUMPU2.mpu, label='Uplift Modelling', color='red')\n",
    "sns.lineplot(x=CPMPU2.n, y=CPMPU2.mpu, label='Churn Prediction', color='blue')\n",
    "\n",
    "sns.set_style(\"whitegrid\")\n",
    "plt.title('Maximum Profit Uplift 2',fontsize=20)\n",
    "plt.ylabel('profit per employee (pc pt)',fontsize=15)\n",
    "plt.xlabel('Proportion of Population Targeted',fontsize=15)\n",
    "plt.subplots_adjust(right=1.5)\n",
    "plt.subplots_adjust(top=1.5)"
   ]
  },
  {
   "cell_type": "code",
   "execution_count": 48,
   "metadata": {
    "scrolled": true
   },
   "outputs": [
    {
     "data": {
      "image/png": "[encoded data removed]",
      "text/plain": [
       "<Figure size 432x288 with 1 Axes>"
      ]
     },
     "metadata": {},
     "output_type": "display_data"
    }
   ],
   "source": [
    "sns.lineplot(x=CUMPU3.n, y=CUMPU3.mpu, label='Uplift Modelling', color='red')\n",
    "sns.lineplot(x=CPMPU3.n, y=CPMPU3.mpu, label='Churn Prediction', color='blue')\n",
    "\n",
    "sns.set_style(\"whitegrid\")\n",
    "plt.title('Maximum Profit Uplift 3',fontsize=20)\n",
    "plt.ylabel('profit per employee (pc pt)',fontsize=15)\n",
    "plt.xlabel('Proportion of Population Targeted',fontsize=15)\n",
    "plt.subplots_adjust(right=1.5)\n",
    "plt.subplots_adjust(top=1.5)"
   ]
  },
  {
   "cell_type": "code",
   "execution_count": 49,
   "metadata": {
    "scrolled": true
   },
   "outputs": [
    {
     "data": {
      "image/png": "[encoded data removed]",
      "text/plain": [
       "<Figure size 432x288 with 1 Axes>"
      ]
     },
     "metadata": {},
     "output_type": "display_data"
    }
   ],
   "source": [
    "random = np.linspace(QU['uplift'][0],QU['uplift'][10],11)\n",
    "sns.lineplot(x=QU.n, y=random)\n",
    "sns.lineplot(x=QU.n, y=QU.uplift)\n",
    "\n",
    "sns.set_style(\"whitegrid\")\n",
    "plt.title('QINI Curve Uplift',fontsize=20)\n",
    "plt.ylabel('Cumulative Uplift (pc pt)',fontsize=15)\n",
    "plt.xlabel('Proportion of Population Targeted',fontsize=15)\n",
    "plt.subplots_adjust(right=1.5)\n",
    "plt.subplots_adjust(top=1.5)"
   ]
  },
  {
   "cell_type": "code",
   "execution_count": 50,
   "metadata": {},
   "outputs": [
    {
     "data": {
      "image/png": "[encoded data removed]",
      "text/plain": [
       "<Figure size 432x288 with 1 Axes>"
      ]
     },
     "metadata": {},
     "output_type": "display_data"
    }
   ],
   "source": [
    "random = np.linspace(QC['uplift'][0],QC['uplift'][10],11)\n",
    "sns.lineplot(x=QC.n, y=random)\n",
    "sns.lineplot(x=QC.n, y=QC.uplift)\n",
    "sns.set_style(\"whitegrid\")\n",
    "plt.title('QINI Curve Churn',fontsize=20)\n",
    "plt.ylabel('Cumulative Uplift (pc pt)',fontsize=15)\n",
    "plt.xlabel('Proportion of Population Targeted',fontsize=15)\n",
    "plt.subplots_adjust(right=1.5)\n",
    "plt.subplots_adjust(top=1.5)"
   ]
  },
  {
   "cell_type": "markdown",
   "metadata": {},
   "source": [
    "<h2>Pylift"
   ]
  },
  {
   "cell_type": "code",
   "execution_count": null,
   "metadata": {},
   "outputs": [],
   "source": [
    "df_data_pylift = df_model.copy()\n",
    "df_data_pylift.drop(['target_class'], axis=1)\n",
    "df_data_pylift"
   ]
  },
  {
   "cell_type": "markdown",
   "metadata": {},
   "source": [
    "pylift modelling"
   ]
  },
  {
   "cell_type": "code",
   "execution_count": null,
   "metadata": {},
   "outputs": [],
   "source": [
    "up = TransformedOutcome(df_model, col_treatment=treat, col_outcome='Stay')"
   ]
  },
  {
   "cell_type": "code",
   "execution_count": null,
   "metadata": {
    "scrolled": false
   },
   "outputs": [],
   "source": [
    "up.randomized_search(n_iter=20, n_jobs=10, random_state=46)"
   ]
  },
  {
   "cell_type": "code",
   "execution_count": null,
   "metadata": {},
   "outputs": [],
   "source": [
    "up.fit(**up.rand_search_.best_params_)"
   ]
  },
  {
   "cell_type": "code",
   "execution_count": null,
   "metadata": {
    "scrolled": false
   },
   "outputs": [],
   "source": [
    "up.plot(plot_type='cuplift')"
   ]
  },
  {
   "cell_type": "code",
   "execution_count": null,
   "metadata": {},
   "outputs": [],
   "source": [
    "up.test_results_.q1_cgains"
   ]
  },
  {
   "cell_type": "code",
   "execution_count": null,
   "metadata": {
    "scrolled": false
   },
   "outputs": [],
   "source": [
    "up.plot(plot_type='qini')"
   ]
  },
  {
   "cell_type": "code",
   "execution_count": null,
   "metadata": {
    "scrolled": true
   },
   "outputs": [],
   "source": [
    "up.shuffle_fit(params=up.rand_search_.best_params_, nthread=30, iterations=5);\n",
    "up.plot(show_shuffle_fits=True)"
   ]
  },
  {
   "cell_type": "code",
   "execution_count": null,
   "metadata": {
    "scrolled": true
   },
   "outputs": [],
   "source": [
    "up.plot(show_theoretical_max=True, show_practical_max=True, show_no_dogs=True)"
   ]
  },
  {
   "cell_type": "markdown",
   "metadata": {},
   "source": [
    "<h1>Causal Lift"
   ]
  },
  {
   "cell_type": "code",
   "execution_count": null,
   "metadata": {},
   "outputs": [],
   "source": [
    "def calc_cumulative_gains(df: pd.DataFrame, actual_col: str, predicted_col:str, probability_col:str):\n",
    "    df.sort_values(by=probability_col, ascending=False, inplace=True)\n",
    "\n",
    "    subset = df[df[predicted_col] == True]\n",
    "\n",
    "    rows = []\n",
    "    for group in np.array_split(subset, 10):\n",
    "        score = sklearn.metrics.accuracy_score(group[actual_col].tolist(),\n",
    "                                                   group[predicted_col].tolist(),\n",
    "                                                   normalize=False)\n",
    "\n",
    "        rows.append({'NumCases': len(group), 'NumCorrectPredictions': score})\n",
    "\n",
    "    lift = pd.DataFrame(rows)\n",
    "\n",
    "    #Cumulative Gains Calculation\n",
    "    lift['RunningCorrect'] = lift['NumCorrectPredictions'].cumsum()\n",
    "    lift['PercentCorrect'] = lift.apply(\n",
    "        lambda x: (100 / lift['NumCorrectPredictions'].sum()) * x['RunningCorrect'], axis=1)\n",
    "    lift['CumulativeCorrectBestCase'] = lift['NumCases'].cumsum()\n",
    "    lift['PercentCorrectBestCase'] = lift['CumulativeCorrectBestCase'].apply(\n",
    "        lambda x: 100 if (100 / lift['NumCorrectPredictions'].sum()) * x > 100 else (100 / lift[\n",
    "            'NumCorrectPredictions'].sum()) * x)\n",
    "    lift['AvgCase'] = lift['NumCorrectPredictions'].sum() / len(lift)\n",
    "    lift['CumulativeAvgCase'] = lift['AvgCase'].cumsum()\n",
    "    lift['PercentAvgCase'] = lift['CumulativeAvgCase'].apply(\n",
    "        lambda x: (100 / lift['NumCorrectPredictions'].sum()) * x)\n",
    "\n",
    "    #Lift Chart\n",
    "    lift['NormalisedPercentAvg'] = 1\n",
    "    lift['NormalisedPercentWithModel'] = lift['PercentCorrect'] / lift['PercentAvgCase']\n",
    "\n",
    "    return lift"
   ]
  },
  {
   "cell_type": "code",
   "execution_count": null,
   "metadata": {
    "scrolled": true
   },
   "outputs": [],
   "source": [
    "cum_lift = calc_cumulative_gains(df_data_churn, 'Stay', 'p_stay', 'stay_score')\n",
    "cum_lift"
   ]
  },
  {
   "cell_type": "code",
   "execution_count": null,
   "metadata": {
    "scrolled": false
   },
   "outputs": [],
   "source": [
    "sns.lineplot(x='PercentAvgCase',y='PercentCorrectBestCase',data=cum_lift, label=\"Best Case (for current model)\")\n",
    "sns.lineplot(x='PercentAvgCase',y='PercentAvgCase',data=cum_lift, label=\"Average Case (for current model)\")"
   ]
  },
  {
   "cell_type": "code",
   "execution_count": null,
   "metadata": {
    "scrolled": true
   },
   "outputs": [],
   "source": [
    "sns.lineplot(x='PercentAvgCase',y='NormalisedPercentWithModel',data=cum_lift, label=\"Normalised Respond Rate With Model\")\n",
    "sns.lineplot(x='PercentAvgCase',y='NormalisedPercentAvg',data=cum_lift, label=\"Normalised Respond Rate Avg\")"
   ]
  },
  {
   "cell_type": "code",
   "execution_count": null,
   "metadata": {
    "scrolled": false
   },
   "outputs": [],
   "source": [
    "cum_uplift = calc_cumulative_gains(df_data_uplift, 'target_class', 'p_target', 'uplift_score')\n",
    "cum_uplift"
   ]
  },
  {
   "cell_type": "code",
   "execution_count": null,
   "metadata": {
    "scrolled": false
   },
   "outputs": [],
   "source": [
    "sns.lineplot(x='PercentAvgCase',y='PercentCorrectBestCase',data=cum_uplift, label=\"Best Case (for current model)\")\n",
    "sns.lineplot(x='PercentAvgCase',y='PercentAvgCase',data=cum_uplift, label=\"Average Case (for current model)\")"
   ]
  },
  {
   "cell_type": "code",
   "execution_count": null,
   "metadata": {
    "scrolled": true
   },
   "outputs": [],
   "source": [
    "sns.lineplot(x='PercentAvgCase',y='NormalisedPercentWithModel',data=cum_uplift, label=\"Normalised Respond Rate With Model\")\n",
    "sns.lineplot(x='PercentAvgCase',y='NormalisedPercentAvg',data=cum_uplift, label=\"Normalised Respond Rate Avg\")"
   ]
  },
  {
   "cell_type": "code",
   "execution_count": null,
   "metadata": {
    "scrolled": true
   },
   "outputs": [],
   "source": [
    "#create feature set and labels\n",
    "df_model_causal = df_model.drop(['target_class','p_stay','p_target'],axis=1)\n",
    "df_model_causal.rename(columns={treat:'Treatment','Stay':'Outcome'}, inplace=True)\n",
    "df_model_causal"
   ]
  },
  {
   "cell_type": "code",
   "execution_count": null,
   "metadata": {},
   "outputs": [],
   "source": [
    "#splitting train and test groups\n",
    "train_df, test_df = train_test_split(df_model_causal, test_size=0.2, random_state=42, stratify=df_model_causal['Treatment'])"
   ]
  },
  {
   "cell_type": "code",
   "execution_count": null,
   "metadata": {
    "scrolled": true
   },
   "outputs": [],
   "source": [
    "\"\"\" Step 0. Import CausalLift\n",
    "\"\"\"\n",
    "\n",
    "from causallift import CausalLift\n",
    "\n",
    "\"\"\" Step 1. Feed datasets and optionally compute estimated propensity scores\n",
    "using logistic regression if set enable_ipw = True.\n",
    "\"\"\"\n",
    "\n",
    "\n",
    "cl = CausalLift(train_df, test_df, enable_ipw=True, verbose=3)\n",
    "\n",
    "\"\"\" Step 2. Train 2 classification models (XGBoost) for treated and untreated\n",
    "samples independently and compute estimated CATE (Conditional Average Treatment\n",
    "Effect), ITE (Individual Treatment Effect), or uplift score.\n",
    "\"\"\"\n",
    "\n",
    "train_df, test_df = cl.estimate_cate_by_2_models()\n",
    "\n",
    "\"\"\" Step 3. Estimate how much conversion rate will increase by selecting treatment\n",
    "(campaign) targets as recommended by the uplift modeling.\n",
    "\"\"\"\n",
    "\n",
    "estimated_effect_df = cl.estimate_recommendation_impact()"
   ]
  },
  {
   "cell_type": "code",
   "execution_count": null,
   "metadata": {
    "scrolled": true
   },
   "outputs": [],
   "source": [
    "estimated_effect_df"
   ]
  }
 ],
 "metadata": {
  "kernelspec": {
   "display_name": "Python 3",
   "language": "python",
   "name": "python3"
  },
  "language_info": {
   "codemirror_mode": {
    "name": "ipython",
    "version": 3
   },
   "file_extension": ".py",
   "mimetype": "text/x-python",
   "name": "python",
   "nbconvert_exporter": "python",
   "pygments_lexer": "ipython3",
   "version": "3.7.6"
  }
 },
 "nbformat": 4,
 "nbformat_minor": 4
}
