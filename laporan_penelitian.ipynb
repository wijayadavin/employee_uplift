{
 "cells": [
  {
   "cell_type": "code",
   "execution_count": 1,
   "metadata": {},
   "outputs": [],
   "source": [
    "import numpy as np, matplotlib as mpl, matplotlib.pyplot as plt, pandas as pd\n",
    "import seaborn as sns\n",
    "import math"
   ]
  },
  {
   "cell_type": "code",
   "execution_count": 2,
   "metadata": {},
   "outputs": [],
   "source": [
    "df_data_1 = pd.read_csv('HR_comma_sep.csv')\n",
    "df_data_2 = pd.read_csv('WA_Fn-UseC_-HR-Employee-Attrition.csv')\n",
    "df_data_3 = pd.read_csv('turnover.csv', encoding = 'ISO-8859-1')\n",
    "df_model_1 = df_data_1.copy()\n",
    "df_model_2 = df_data_2.copy()\n",
    "df_model_3 = df_data_3.copy()"
   ]
  },
  {
   "cell_type": "code",
   "execution_count": 3,
   "metadata": {
    "scrolled": false
   },
   "outputs": [
    {
     "data": {
      "text/html": [
       "<div>\n",
       "<style scoped>\n",
       "    .dataframe tbody tr th:only-of-type {\n",
       "        vertical-align: middle;\n",
       "    }\n",
       "\n",
       "    .dataframe tbody tr th {\n",
       "        vertical-align: top;\n",
       "    }\n",
       "\n",
       "    .dataframe thead th {\n",
       "        text-align: right;\n",
       "    }\n",
       "</style>\n",
       "<table border=\"1\" class=\"dataframe\">\n",
       "  <thead>\n",
       "    <tr style=\"text-align: right;\">\n",
       "      <th></th>\n",
       "      <th>Department</th>\n",
       "      <th>salary</th>\n",
       "    </tr>\n",
       "  </thead>\n",
       "  <tbody>\n",
       "    <tr>\n",
       "      <th>count</th>\n",
       "      <td>14999</td>\n",
       "      <td>14999</td>\n",
       "    </tr>\n",
       "    <tr>\n",
       "      <th>unique</th>\n",
       "      <td>10</td>\n",
       "      <td>3</td>\n",
       "    </tr>\n",
       "    <tr>\n",
       "      <th>top</th>\n",
       "      <td>sales</td>\n",
       "      <td>low</td>\n",
       "    </tr>\n",
       "    <tr>\n",
       "      <th>freq</th>\n",
       "      <td>4140</td>\n",
       "      <td>7316</td>\n",
       "    </tr>\n",
       "  </tbody>\n",
       "</table>\n",
       "</div>"
      ],
      "text/plain": [
       "       Department salary\n",
       "count       14999  14999\n",
       "unique         10      3\n",
       "top         sales    low\n",
       "freq         4140   7316"
      ]
     },
     "execution_count": 3,
     "metadata": {},
     "output_type": "execute_result"
    }
   ],
   "source": [
    "df_model_1.describe(include=np.object)"
   ]
  },
  {
   "cell_type": "code",
   "execution_count": 4,
   "metadata": {
    "scrolled": true
   },
   "outputs": [
    {
     "data": {
      "text/html": [
       "<div>\n",
       "<style scoped>\n",
       "    .dataframe tbody tr th:only-of-type {\n",
       "        vertical-align: middle;\n",
       "    }\n",
       "\n",
       "    .dataframe tbody tr th {\n",
       "        vertical-align: top;\n",
       "    }\n",
       "\n",
       "    .dataframe thead th {\n",
       "        text-align: right;\n",
       "    }\n",
       "</style>\n",
       "<table border=\"1\" class=\"dataframe\">\n",
       "  <thead>\n",
       "    <tr style=\"text-align: right;\">\n",
       "      <th></th>\n",
       "      <th>Attrition</th>\n",
       "      <th>BusinessTravel</th>\n",
       "      <th>Department</th>\n",
       "      <th>EducationField</th>\n",
       "      <th>Gender</th>\n",
       "      <th>JobRole</th>\n",
       "      <th>MaritalStatus</th>\n",
       "      <th>Over18</th>\n",
       "      <th>OverTime</th>\n",
       "    </tr>\n",
       "  </thead>\n",
       "  <tbody>\n",
       "    <tr>\n",
       "      <th>count</th>\n",
       "      <td>1470</td>\n",
       "      <td>1470</td>\n",
       "      <td>1470</td>\n",
       "      <td>1470</td>\n",
       "      <td>1470</td>\n",
       "      <td>1470</td>\n",
       "      <td>1470</td>\n",
       "      <td>1470</td>\n",
       "      <td>1470</td>\n",
       "    </tr>\n",
       "    <tr>\n",
       "      <th>unique</th>\n",
       "      <td>2</td>\n",
       "      <td>3</td>\n",
       "      <td>3</td>\n",
       "      <td>6</td>\n",
       "      <td>2</td>\n",
       "      <td>9</td>\n",
       "      <td>3</td>\n",
       "      <td>1</td>\n",
       "      <td>2</td>\n",
       "    </tr>\n",
       "    <tr>\n",
       "      <th>top</th>\n",
       "      <td>No</td>\n",
       "      <td>Travel_Rarely</td>\n",
       "      <td>Research &amp; Development</td>\n",
       "      <td>Life Sciences</td>\n",
       "      <td>Male</td>\n",
       "      <td>Sales Executive</td>\n",
       "      <td>Married</td>\n",
       "      <td>Y</td>\n",
       "      <td>No</td>\n",
       "    </tr>\n",
       "    <tr>\n",
       "      <th>freq</th>\n",
       "      <td>1233</td>\n",
       "      <td>1043</td>\n",
       "      <td>961</td>\n",
       "      <td>606</td>\n",
       "      <td>882</td>\n",
       "      <td>326</td>\n",
       "      <td>673</td>\n",
       "      <td>1470</td>\n",
       "      <td>1054</td>\n",
       "    </tr>\n",
       "  </tbody>\n",
       "</table>\n",
       "</div>"
      ],
      "text/plain": [
       "       Attrition BusinessTravel              Department EducationField Gender  \\\n",
       "count       1470           1470                    1470           1470   1470   \n",
       "unique         2              3                       3              6      2   \n",
       "top           No  Travel_Rarely  Research & Development  Life Sciences   Male   \n",
       "freq        1233           1043                     961            606    882   \n",
       "\n",
       "                JobRole MaritalStatus Over18 OverTime  \n",
       "count              1470          1470   1470     1470  \n",
       "unique                9             3      1        2  \n",
       "top     Sales Executive       Married      Y       No  \n",
       "freq                326           673   1470     1054  "
      ]
     },
     "execution_count": 4,
     "metadata": {},
     "output_type": "execute_result"
    }
   ],
   "source": [
    "df_model_2.describe(include=np.object)"
   ]
  },
  {
   "cell_type": "code",
   "execution_count": 5,
   "metadata": {
    "scrolled": true
   },
   "outputs": [
    {
     "data": {
      "text/html": [
       "<div>\n",
       "<style scoped>\n",
       "    .dataframe tbody tr th:only-of-type {\n",
       "        vertical-align: middle;\n",
       "    }\n",
       "\n",
       "    .dataframe tbody tr th {\n",
       "        vertical-align: top;\n",
       "    }\n",
       "\n",
       "    .dataframe thead th {\n",
       "        text-align: right;\n",
       "    }\n",
       "</style>\n",
       "<table border=\"1\" class=\"dataframe\">\n",
       "  <thead>\n",
       "    <tr style=\"text-align: right;\">\n",
       "      <th></th>\n",
       "      <th>gender</th>\n",
       "      <th>industry</th>\n",
       "      <th>profession</th>\n",
       "      <th>traffic</th>\n",
       "      <th>coach</th>\n",
       "      <th>head_gender</th>\n",
       "      <th>greywage</th>\n",
       "      <th>way</th>\n",
       "    </tr>\n",
       "  </thead>\n",
       "  <tbody>\n",
       "    <tr>\n",
       "      <th>count</th>\n",
       "      <td>1129</td>\n",
       "      <td>1129</td>\n",
       "      <td>1129</td>\n",
       "      <td>1129</td>\n",
       "      <td>1129</td>\n",
       "      <td>1129</td>\n",
       "      <td>1129</td>\n",
       "      <td>1129</td>\n",
       "    </tr>\n",
       "    <tr>\n",
       "      <th>unique</th>\n",
       "      <td>2</td>\n",
       "      <td>16</td>\n",
       "      <td>15</td>\n",
       "      <td>8</td>\n",
       "      <td>3</td>\n",
       "      <td>2</td>\n",
       "      <td>2</td>\n",
       "      <td>3</td>\n",
       "    </tr>\n",
       "    <tr>\n",
       "      <th>top</th>\n",
       "      <td>f</td>\n",
       "      <td>Retail</td>\n",
       "      <td>HR</td>\n",
       "      <td>youjs</td>\n",
       "      <td>no</td>\n",
       "      <td>m</td>\n",
       "      <td>white</td>\n",
       "      <td>bus</td>\n",
       "    </tr>\n",
       "    <tr>\n",
       "      <th>freq</th>\n",
       "      <td>853</td>\n",
       "      <td>289</td>\n",
       "      <td>757</td>\n",
       "      <td>318</td>\n",
       "      <td>683</td>\n",
       "      <td>584</td>\n",
       "      <td>1002</td>\n",
       "      <td>681</td>\n",
       "    </tr>\n",
       "  </tbody>\n",
       "</table>\n",
       "</div>"
      ],
      "text/plain": [
       "       gender industry profession traffic coach head_gender greywage   way\n",
       "count    1129     1129       1129    1129  1129        1129     1129  1129\n",
       "unique      2       16         15       8     3           2        2     3\n",
       "top         f   Retail         HR   youjs    no           m    white   bus\n",
       "freq      853      289        757     318   683         584     1002   681"
      ]
     },
     "execution_count": 5,
     "metadata": {},
     "output_type": "execute_result"
    }
   ],
   "source": [
    "df_model_3.describe(include=np.object)"
   ]
  },
  {
   "cell_type": "code",
   "execution_count": 6,
   "metadata": {},
   "outputs": [],
   "source": [
    "# deklarasi kolom yang akan dihapus\n",
    "drop2 = ['EmployeeCount', 'EmployeeNumber', 'StandardHours', 'Over18']\n",
    "# drop kolom yang akan dihapus\n",
    "df_model_2 = df_model_2.drop(drop2,axis=1)"
   ]
  },
  {
   "cell_type": "code",
   "execution_count": 7,
   "metadata": {},
   "outputs": [],
   "source": [
    "# rename kolom target\n",
    "df_model_1 = df_model_1.rename(columns={'left': 'churn'})\n",
    "df_model_2 = df_model_2.rename(columns={'Attrition': 'churn'})\n",
    "df_model_3 = df_model_3.rename(columns={'event': 'churn'})\n",
    "\n",
    "# rename kolom treatment\n",
    "df_model_1 = df_model_1.rename(columns={'promotion_last_5years': 'treatment'})\n",
    "df_model_2 = df_model_2.rename(columns={'OverTime': 'treatment'})\n",
    "df_model_3 = df_model_3.rename(columns={'coach': 'treatment'})"
   ]
  },
  {
   "cell_type": "code",
   "execution_count": 8,
   "metadata": {
    "scrolled": true
   },
   "outputs": [
    {
     "data": {
      "text/plain": [
       "'salary'"
      ]
     },
     "metadata": {},
     "output_type": "display_data"
    },
    {
     "data": {
      "text/plain": [
       "array(['low', 'medium', 'high'], dtype=object)"
      ]
     },
     "metadata": {},
     "output_type": "display_data"
    },
    {
     "data": {
      "text/plain": [
       "'churn'"
      ]
     },
     "metadata": {},
     "output_type": "display_data"
    },
    {
     "data": {
      "text/plain": [
       "array(['Yes', 'No'], dtype=object)"
      ]
     },
     "metadata": {},
     "output_type": "display_data"
    },
    {
     "data": {
      "text/plain": [
       "'treatment'"
      ]
     },
     "metadata": {},
     "output_type": "display_data"
    },
    {
     "data": {
      "text/plain": [
       "array(['Yes', 'No'], dtype=object)"
      ]
     },
     "metadata": {},
     "output_type": "display_data"
    },
    {
     "data": {
      "text/plain": [
       "'BusinessTravel'"
      ]
     },
     "metadata": {},
     "output_type": "display_data"
    },
    {
     "data": {
      "text/plain": [
       "array(['Travel_Rarely', 'Travel_Frequently', 'Non-Travel'], dtype=object)"
      ]
     },
     "metadata": {},
     "output_type": "display_data"
    },
    {
     "data": {
      "text/plain": [
       "'treatment'"
      ]
     },
     "metadata": {},
     "output_type": "display_data"
    },
    {
     "data": {
      "text/plain": [
       "array(['no', 'yes', 'my head'], dtype=object)"
      ]
     },
     "metadata": {},
     "output_type": "display_data"
    }
   ],
   "source": [
    "# deklarasi kolom string\n",
    "string1, string2, string3 = ['salary'], ['churn',\n",
    "                                         'treatment',\n",
    "                                         'BusinessTravel'], ['treatment']\n",
    "# observasi data unique\n",
    "for col in string1:\n",
    "    display(col, df_model_1[col].unique())\n",
    "for col in string2:\n",
    "    display(col, df_model_2[col].unique())\n",
    "for col in string3:\n",
    "    display(col, df_model_3[col].unique())"
   ]
  },
  {
   "cell_type": "code",
   "execution_count": 9,
   "metadata": {},
   "outputs": [],
   "source": [
    "# Deklarasi target dan treatment dataset 1\n",
    "df_model_1.salary = df_model_1.salary.map({'low': 0, 'medium': 1, 'high':2})"
   ]
  },
  {
   "cell_type": "code",
   "execution_count": 10,
   "metadata": {},
   "outputs": [],
   "source": [
    "# Deklarasi target dan treatment dataset 2\n",
    "df_model_2.churn = df_model_2.churn.map({'Yes': 1, 'No': 0})\n",
    "df_model_2.treatment = df_model_2.treatment.map({'Yes': 0, 'No': 1})\n",
    "# Deklarasi BusinessTravel\n",
    "df_model_2.BusinessTravel = df_model_2.BusinessTravel.map({'Non-Travel': 0,\n",
    "                                                           'Travel_Rarely': 1,\n",
    "                                                           'Travel_Frequently':2})"
   ]
  },
  {
   "cell_type": "code",
   "execution_count": 11,
   "metadata": {
    "scrolled": true
   },
   "outputs": [],
   "source": [
    "# Deklarasi target dan treatment dataset 3\n",
    "df_model_3.treatment = df_model_3.treatment.map({'yes': 0, 'no': 1, 'my head':2})\n",
    "df_model_3 = df_model_3.loc[df_model_3.treatment <=1].reset_index(drop=True)"
   ]
  },
  {
   "cell_type": "code",
   "execution_count": 12,
   "metadata": {},
   "outputs": [],
   "source": [
    "# Proses inverse nilai treatment\n",
    "df_model_1.treatment = df_model_1.treatment.replace({0: 1, 1: 0})\n",
    "df_model_2.treatment = df_model_2.treatment.replace({0: 1, 1: 0})\n",
    "df_model_3.treatment = df_model_3.treatment.replace({0: 1, 1: 0})"
   ]
  },
  {
   "cell_type": "code",
   "execution_count": 13,
   "metadata": {
    "scrolled": true
   },
   "outputs": [],
   "source": [
    "# One-Hot Encoding untuk ketiga dataset:\n",
    "df_model_1 = pd.get_dummies(df_model_1)\n",
    "df_model_2 = pd.get_dummies(df_model_2)\n",
    "df_model_3 = pd.get_dummies(df_model_3)"
   ]
  },
  {
   "cell_type": "code",
   "execution_count": 14,
   "metadata": {
    "scrolled": true
   },
   "outputs": [],
   "source": [
    "# kalkulasi korelasi treatment \n",
    "def korelasi_treatment(df:pd.DataFrame):\n",
    "    correlation = df[['treatment','churn']].corr(method ='pearson') \n",
    "    return(pd.DataFrame(round(correlation.loc['churn'] * 100,2)))"
   ]
  },
  {
   "cell_type": "code",
   "execution_count": 15,
   "metadata": {
    "scrolled": true
   },
   "outputs": [
    {
     "data": {
      "text/plain": [
       "6.18"
      ]
     },
     "metadata": {},
     "output_type": "display_data"
    },
    {
     "data": {
      "text/plain": [
       "24.61"
      ]
     },
     "metadata": {},
     "output_type": "display_data"
    },
    {
     "data": {
      "text/plain": [
       "4.0"
      ]
     },
     "metadata": {},
     "output_type": "display_data"
    }
   ],
   "source": [
    "display(korelasi_treatment(df_model_1).iloc[0,0])\n",
    "display(korelasi_treatment(df_model_2).iloc[0,0])\n",
    "display(korelasi_treatment(df_model_3).iloc[0,0])"
   ]
  },
  {
   "cell_type": "markdown",
   "metadata": {},
   "source": [
    "<h1> 3.3.4. Pendeklarasian Target Class"
   ]
  },
  {
   "cell_type": "code",
   "execution_count": 16,
   "metadata": {},
   "outputs": [],
   "source": [
    "def deklarasi_target_class(df:pd.DataFrame):\n",
    "    \"\"\"Fungsi untuk mendeklarasikan target class\n",
    "    \"\"\"\n",
    "    #CN:\n",
    "    df['target_class'] = 0 \n",
    "    #CR:\n",
    "    df.loc[(df.treatment == 0) & (df.churn == 0),'target_class'] = 1 \n",
    "    #TN:\n",
    "    df.loc[(df.treatment == 1) & (df.churn == 1),'target_class'] = 2 \n",
    "    #TR:\n",
    "    df.loc[(df.treatment == 1) & (df.churn == 0),'target_class'] = 3 \n",
    "    return df"
   ]
  },
  {
   "cell_type": "code",
   "execution_count": 17,
   "metadata": {
    "scrolled": true
   },
   "outputs": [],
   "source": [
    "df_model_1, df_model_2, df_model_3 = deklarasi_target_class(df_model_1), \\\n",
    "deklarasi_target_class(df_model_2), deklarasi_target_class(df_model_3)"
   ]
  },
  {
   "cell_type": "markdown",
   "metadata": {},
   "source": [
    "<h1> 3.4. Hasil Pemodelan Machine Learning"
   ]
  },
  {
   "cell_type": "code",
   "execution_count": 18,
   "metadata": {},
   "outputs": [],
   "source": [
    "from sklearn.model_selection import train_test_split\n",
    "import xgboost as xgb\n",
    "def split_data(df_model:pd.DataFrame):\n",
    "    \"\"\"Split data menjadi data train dan data test\n",
    "    \"\"\"\n",
    "    X = df_model.drop(['churn','target_class'],axis=1)\n",
    "    y = df_model.churn\n",
    "    z = df_model.target_class\n",
    "    X_train, X_test, \\\n",
    "    y_train, y_test, \\\n",
    "    z_train, z_test = train_test_split(X,\n",
    "                                       y,\n",
    "                                       z,\n",
    "                                       test_size=0.3,\n",
    "                                       random_state=42,\n",
    "                                       stratify=df_model['treatment'])\n",
    "    return X_train,X_test, y_train, y_test, z_train, z_test\n",
    "\n",
    "\n",
    "def proses_machine_learning(X_train:pd.DataFrame,\n",
    "                            X_test:pd.DataFrame,\n",
    "                            y_train:pd.DataFrame,\n",
    "                            y_test:pd.DataFrame,\n",
    "                            z_train:pd.DataFrame,\n",
    "                            z_test:pd.DataFrame):\n",
    "    \"\"\"Proses machine learning dengan algoritma XGB\n",
    "    \"\"\"\n",
    "    # Siapkan dataframe baru hasil prediksi\n",
    "    hasil_prediksi = pd.DataFrame(X_test).copy()\n",
    "    \n",
    "    \n",
    "    # Proses train model CP\n",
    "    model_cp \\\n",
    "    = xgb.XGBClassifier().fit(X_train.drop('treatment', axis=1), y_train)  \n",
    "    # Proses prediksi model CP\n",
    "    prediksi_cp \\\n",
    "    = model_cp.predict(X_test.drop('treatment',axis=1))\n",
    "    probabilitas_cp \\\n",
    "    = model_cp.predict_proba(X_test.drop('treatment', axis=1))\n",
    "    hasil_prediksi['prediksi_churn'] = prediksi_cp\n",
    "    hasil_prediksi['proba_churn'] = probabilitas_cp[:,1]\n",
    "    \n",
    "    \n",
    "    # Proses train model Uplift\n",
    "    model_uplift \\\n",
    "    = xgb.XGBClassifier().fit(X_train.drop('treatment', axis=1), z_train)\n",
    "    # Proses prediksi model Uplift\n",
    "    prediksi_uplift \\\n",
    "    = model_uplift.predict(X_test.drop('treatment', axis=1))\n",
    "    probabilitas_uplift \\\n",
    "    = model_uplift.predict_proba(X_test.drop('treatment', axis=1))\n",
    "    hasil_prediksi['prediksi_target_class'] = prediksi_uplift\n",
    "    hasil_prediksi['proba_CN'] = probabilitas_uplift[:,0] \n",
    "    hasil_prediksi['proba_CR'] = probabilitas_uplift[:,1] \n",
    "    hasil_prediksi['proba_TN'] = probabilitas_uplift[:,2] \n",
    "    hasil_prediksi['proba_TR'] = probabilitas_uplift[:,3]\n",
    "    hasil_prediksi['skor_uplift'] = hasil_prediksi.eval('\\\n",
    "    proba_CN/(proba_CN+proba_CR) \\\n",
    "    + proba_TR/(proba_TN+proba_TR) \\\n",
    "    - proba_TN/(proba_TN+proba_TR) \\\n",
    "    - proba_CR/(proba_CN+proba_CR)')  \n",
    "    \n",
    "    \n",
    "    # Memasukkan validasi churn dan target class ke dataframe\n",
    "    hasil_prediksi['churn'] = y_test\n",
    "    hasil_prediksi['target_class'] = z_test\n",
    "    return hasil_prediksi\n",
    "\n",
    "\n",
    "def model_machine_learning(df_model:pd.DataFrame):\n",
    "    \"\"\"Menggabungkan proses split dan machine learning\n",
    "    \"\"\"\n",
    "    X_train, X_test, y_train, y_test, z_train, z_test = split_data(df_model)\n",
    "    hasil_prediksi = proses_machine_learning(X_train,\n",
    "                                             X_test,\n",
    "                                             y_train,\n",
    "                                             y_test,\n",
    "                                             z_train,\n",
    "                                             z_test)\n",
    "    return hasil_prediksi"
   ]
  },
  {
   "cell_type": "code",
   "execution_count": 19,
   "metadata": {
    "scrolled": false
   },
   "outputs": [],
   "source": [
    "# Proses pemodelan machine learning\n",
    "hasil_prediksi_1 = model_machine_learning(df_model_1)\n",
    "hasil_prediksi_2 = model_machine_learning(df_model_2)\n",
    "hasil_prediksi_3 = model_machine_learning(df_model_3)"
   ]
  },
  {
   "cell_type": "markdown",
   "metadata": {},
   "source": [
    "<h1> 3.5.1. Evaluasi Akurasi"
   ]
  },
  {
   "cell_type": "code",
   "execution_count": 20,
   "metadata": {},
   "outputs": [],
   "source": [
    "from sklearn.metrics import accuracy_score\n",
    "def evaluasi_akurasi(df:pd.DataFrame):\n",
    "    \"\"\"Evaluasi akurasi hasil prediksi\n",
    "    \"\"\"\n",
    "    akurasi_cp = accuracy_score(df['churn'],\n",
    "                                df['prediksi_churn'])\n",
    "    print('Akurasi model CP: %.2f%%' % (akurasi_cp * 100.0))\n",
    "    akurasi_uplift = accuracy_score(df['target_class'],\n",
    "                                    df['prediksi_target_class'])\n",
    "    print('Akurasi model Uplift: %.2f%%' % (akurasi_uplift * 100.0))"
   ]
  },
  {
   "cell_type": "code",
   "execution_count": 21,
   "metadata": {},
   "outputs": [
    {
     "name": "stdout",
     "output_type": "stream",
     "text": [
      "Akurasi model CP: 97.18%\n",
      "Akurasi model Uplift: 95.20%\n",
      "Akurasi model CP: 85.94%\n",
      "Akurasi model Uplift: 64.85%\n",
      "Akurasi model CP: 61.63%\n",
      "Akurasi model Uplift: 48.16%\n"
     ]
    }
   ],
   "source": [
    "# Proses evaluasi akurasi\n",
    "evaluasi_akurasi(hasil_prediksi_1)\n",
    "evaluasi_akurasi(hasil_prediksi_2)\n",
    "evaluasi_akurasi(hasil_prediksi_3)"
   ]
  },
  {
   "cell_type": "markdown",
   "metadata": {},
   "source": [
    "<h1> 3.5.2. Evaluasi QINI"
   ]
  },
  {
   "cell_type": "code",
   "execution_count": 22,
   "metadata": {},
   "outputs": [],
   "source": [
    "def pengurutan_data(df:pd.DataFrame):\n",
    "    \"\"\"Function untuk mengurutkan data\n",
    "    \"\"\"\n",
    "    # Siapkan dataframe baru untuk model CP dan Uplift\n",
    "    df_c = pd.DataFrame({'n':[], 'target_class':[]})\n",
    "    df_u = df_c.copy()\n",
    "    df_c['target_class'] = df['target_class']\n",
    "    df_u['target_class'] = df['target_class']\n",
    "    # Menambahkan urutan kuantil\n",
    "    df_c['n'] = df.proba_churn.rank(pct=True, ascending=False)\n",
    "    df_u['n'] = df.skor_uplift.rank(pct=True, ascending=False)\n",
    "    df_c['skor'] = df['proba_churn']\n",
    "    df_u['skor'] = df['skor_uplift']\n",
    "    # Proses pengurutan data    \n",
    "    df_c = df_c.sort_values(by='n').reset_index(drop=True)\n",
    "    df_u = df_u.sort_values(by='n').reset_index(drop=True)\n",
    "    df_c['model'], df_u['model'] = 'CP', 'Uplift'\n",
    "    return df_c, df_u\n",
    "\n",
    "\n",
    "def perhitungan_qini(df:pd.DataFrame):\n",
    "    \"\"\"Function untuk menghitung nilai QINI\n",
    "    \"\"\"\n",
    "    # Variabel control group dan treatment group\n",
    "    C, T = sum(df['target_class'] <= 1), sum(df['target_class'] >= 2)\n",
    "    df['cr'] = 0\n",
    "    df['tr'] = 0\n",
    "    df.loc[df.target_class  == 1,'cr'] = 1\n",
    "    df.loc[df.target_class  == 3,'tr'] = 1\n",
    "    df['cr/c'] = df.cr.cumsum() / C\n",
    "    df['tr/t'] = df.tr.cumsum() / T\n",
    "    # Hitung & masukkan nilai QINI kedalam dataframe\n",
    "    df['uplift'] = df['tr/t'] - df['cr/c']\n",
    "    df['random'] = df['n'] * df['uplift'].iloc[-1]\n",
    "    # Tambahkan q0 kedalam dataframe\n",
    "    q0 = pd.DataFrame({'n':0, 'uplift':0, 'target_class': None}, index =[0])\n",
    "    QINI = pd.concat([q0, df]).reset_index(drop = True)\n",
    "    return QINI\n",
    "\n",
    "\n",
    "def penggabungan_data(df_c:pd.DataFrame, df_u:pd.DataFrame):\n",
    "    \"\"\"Function untuk menambahkan kolom model dan\n",
    "    menggabungkan dataframe menjadi satu\n",
    "    \"\"\"\n",
    "    df_u['model'] = 'Uplift'\n",
    "    df_c['model'] = 'CP'\n",
    "    df = pd.concat([df_u, df_c]).sort_values(by='n').reset_index(drop = True)\n",
    "    return df\n",
    "\n",
    "\n",
    "def plot_qini(df:pd.DataFrame):\n",
    "    \"\"\"Function untuk mem-plotkan QINI\n",
    "    \"\"\"\n",
    "    # Menentukan data yang akan divisualisasikan\n",
    "    order = ['Uplift','CP']\n",
    "    ax = sns.lineplot(x='n', y=df.uplift, hue='model', data=df,\n",
    "                      style='model', palette=['red','deepskyblue'],\n",
    "                      style_order=order, hue_order = order)\n",
    "    # Pengaturan tampilan plot\n",
    "    sns.set_style('whitegrid')\n",
    "    handles, labels = ax.get_legend_handles_labels()\n",
    "    plt.xlabel('Proporsi yang ditargetkan',fontsize=15)\n",
    "    plt.ylabel('Nilai Uplift',fontsize=15)\n",
    "    plt.subplots_adjust(right=1)\n",
    "    plt.subplots_adjust(top=1)\n",
    "    plt.legend(fontsize=12)\n",
    "    ax.tick_params(labelsize=15)\n",
    "    ax.legend(handles=handles[1:], labels=labels[1:], loc='upper right')\n",
    "    ax.plot([0,1], [0,df.loc[len(df) - 1,'uplift']],'--', color='grey')\n",
    "    return ax\n",
    "\n",
    "\n",
    "def evaluasi_qini(hasil_prediksi:pd.DataFrame):\n",
    "    \"\"\"Function untuk menggabungkan semua proses evaluasi QINI\n",
    "    \"\"\"\n",
    "    df_c, df_u = pengurutan_data(hasil_prediksi)\n",
    "    qini_c, qini_u = perhitungan_qini(df_c), perhitungan_qini(df_u)\n",
    "    qini = penggabungan_data(qini_c, qini_u)\n",
    "    ax = plot_qini(qini)\n",
    "    return ax"
   ]
  },
  {
   "cell_type": "code",
   "execution_count": 23,
   "metadata": {
    "scrolled": true
   },
   "outputs": [
    {
     "data": {
      "image/png": "[encoded data removed]",
      "text/plain": [
       "<Figure size 432x288 with 1 Axes>"
      ]
     },
     "metadata": {
      "needs_background": "light"
     },
     "output_type": "display_data"
    }
   ],
   "source": [
    "# hasil evaluasi QINI untuk dataset 1\n",
    "evaluasi_qini(hasil_prediksi_1)\n",
    "plt.title('Kurva QINI - Dataset 1 (korelasi treatment > 0)',fontsize=20)\n",
    "plt.savefig('QINI_1_p.pdf', bbox_inches='tight')"
   ]
  },
  {
   "cell_type": "code",
   "execution_count": 24,
   "metadata": {
    "scrolled": false
   },
   "outputs": [
    {
     "data": {
      "image/png": "[encoded data removed]",
      "text/plain": [
       "<Figure size 432x288 with 1 Axes>"
      ]
     },
     "metadata": {},
     "output_type": "display_data"
    }
   ],
   "source": [
    "# hasil evaluasi QINI untuk dataset 2\n",
    "evaluasi_qini(hasil_prediksi_2)\n",
    "plt.title('Kurva QINI - Dataset 2 (korelasi treatment > 0)',fontsize=20)\n",
    "plt.savefig('QINI_2_p.pdf', bbox_inches='tight')"
   ]
  },
  {
   "cell_type": "code",
   "execution_count": 25,
   "metadata": {
    "scrolled": false
   },
   "outputs": [
    {
     "data": {
      "image/png": "[encoded data removed]",
      "text/plain": [
       "<Figure size 432x288 with 1 Axes>"
      ]
     },
     "metadata": {},
     "output_type": "display_data"
    }
   ],
   "source": [
    "# hasil evaluasi QINI untuk dataset 3\n",
    "evaluasi_qini(hasil_prediksi_3)\n",
    "plt.title('Kurva QINI - Dataset 3 (korelasi treatment > 0)',fontsize=20)\n",
    "plt.savefig('QINI_3_p.pdf', bbox_inches='tight')"
   ]
  },
  {
   "cell_type": "code",
   "execution_count": 26,
   "metadata": {},
   "outputs": [],
   "source": [
    "# fig, ax = plt.subplots(1,1)\n",
    "# # dummy plots, just to get the Path objects\n",
    "# a = ax.scatter([1,2],[3,4], marker='s')\n",
    "# b = ax.scatter([1,2],[3,4], marker='^')\n",
    "# square_mk, = a.get_paths()\n",
    "# triangle_up_mk, = b.get_paths()\n",
    "# a.remove()\n",
    "# b.remove()\n",
    "# def distribusi_target_class(df_1:pd.DataFrame, df_2:pd.DataFrame, df_3:pd.DataFrame, target_class:str):\n",
    "#     df_1['dataset'] = 'Dataset 1'\n",
    "#     df_2['dataset'] = 'Dataset 2'\n",
    "#     df_3['dataset'] = 'Dataset 3'\n",
    "#     df = pd.concat([df_1, df_2, df_3])\n",
    "#     df = df.sort_values(by='n')[:round(len(df)/4)]\n",
    "#     ax = sns.swarmplot(data=df[df.target_class==target_class], x='dataset', y='n', \n",
    "#                   hue='model', palette=['deepskyblue','red'], \n",
    "#                       hue_order=['CP', 'Uplift'], order=['Dataset 1', 'Dataset 2', 'Dataset 3'], size=5)\n",
    "#     collections = ax.collections\n",
    "#     unique_colors = np.unique(collections[0].get_facecolors(), axis=0)\n",
    "#     markers = [square_mk, triangle_up_mk]  # this array must be at least as large as the number of unique colors\n",
    "#     for collection in collections:\n",
    "#         paths = []\n",
    "#         for current_color in collection.get_facecolors():\n",
    "#             for possible_marker,possible_color in zip(markers, unique_colors):\n",
    "#                 if np.array_equal(current_color,possible_color):\n",
    "#                     paths.append(possible_marker)\n",
    "#                     break\n",
    "#         collection.set_paths(paths)\n",
    "        \n",
    "        \n",
    "#     ax.tick_params(labelsize=15)   \n",
    "#     ax.legend(collections[-2:],pd.unique(df.model))  \n",
    "#     plt.ylabel('Proporsi yang Ditargetkan',fontsize=20)\n",
    "#     plt.xlabel('')\n",
    "#     plt.subplots_adjust(right=1.5)\n",
    "#     plt.subplots_adjust(top=1)\n",
    "#     plt.legend(fontsize='large')\n",
    "# #     plt.savefig('CN.pdf', bbox_inches='tight')\n",
    "#     return ax"
   ]
  },
  {
   "cell_type": "code",
   "execution_count": 27,
   "metadata": {},
   "outputs": [],
   "source": [
    "# distribusi_target_class(df_1, df_2, df_3, 0)\n",
    "# plt.title('Distribusi karyawan tipe CN (korelasi treatment < 0)',fontsize=25, y=1.05)\n",
    "# plt.savefig('CN_p.pdf', bbox_inches='tight')"
   ]
  },
  {
   "cell_type": "code",
   "execution_count": 28,
   "metadata": {},
   "outputs": [],
   "source": [
    "# distribusi_target_class(df_1, df_2, df_3, 1)\n",
    "# plt.title('Distribusi karyawan tipe CR (korelasi treatment < 0)',fontsize=25, y=1.05)\n",
    "# plt.savefig('CR_p.pdf', bbox_inches='tight')"
   ]
  },
  {
   "cell_type": "code",
   "execution_count": 29,
   "metadata": {},
   "outputs": [],
   "source": [
    "# distribusi_target_class(df_1, df_2, df_3, 2)\n",
    "# plt.title('Distribusi karyawan tipe TN (korelasi treatment < 0)',fontsize=25, y=1.05)\n",
    "# plt.savefig('TN_p.pdf', bbox_inches='tight')"
   ]
  },
  {
   "cell_type": "code",
   "execution_count": 30,
   "metadata": {},
   "outputs": [],
   "source": [
    "# distribusi_target_class(df_1, df_2, df_3, 3)\n",
    "# plt.title('Distribusi karyawan tipe TR (korelasi treatment < 0)',fontsize=25, y=1.05)\n",
    "# plt.savefig('TR_p.pdf', bbox_inches='tight')"
   ]
  }
 ],
 "metadata": {
  "kernelspec": {
   "display_name": "Python 3",
   "language": "python",
   "name": "python3"
  },
  "language_info": {
   "codemirror_mode": {
    "name": "ipython",
    "version": 3
   },
   "file_extension": ".py",
   "mimetype": "text/x-python",
   "name": "python",
   "nbconvert_exporter": "python",
   "pygments_lexer": "ipython3",
   "version": "3.7.6"
  }
 },
 "nbformat": 4,
 "nbformat_minor": 4
}
